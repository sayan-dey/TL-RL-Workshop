{
  "cells": [
    {
      "cell_type": "markdown",
      "metadata": {
        "id": "s8Q1flI4eVl8"
      },
      "source": [
        "#**Playing BlackJack using Monte Carlo**"
      ]
    },
    {
      "cell_type": "markdown",
      "metadata": {
        "id": "GyTHaU4ghEz7"
      },
      "source": [
        "##**BlackJack**\n",
        "\n",
        "The object of the popular casino card game of blackjack is to\n",
        "obtain cards **the sum of whose numerical values is as great as possible without exceeding 21.** All face cards count as 10, and an ace can count either as 1 or as 11.\n",
        "\n",
        "We consider the version in which a player competes against the dealer. The game\n",
        "begins with two cards dealt to both dealer and player. One of the dealer’s cards is face up and the other is face down.\n",
        "\n",
        "If the player has 21 immediately (an ace and a 10-card),\n",
        "it is called a natural. He then wins unless the dealer also has a natural, in which case the\n",
        "game is a draw.\n",
        "\n",
        "If the player does not have a natural, then he can request additional\n",
        "cards, one by one (hits), until he either stops (sticks) or exceeds 21 (goes bust). If he goes\n",
        "bust, he loses; if he sticks, then it becomes the dealer’s turn. The dealer hits or sticks\n",
        "according to a fixed strategy without choice: he sticks on any sum of 17 or greater, and\n",
        "hits otherwise. If the dealer goes bust, then the player wins; otherwise, the outcome—win,\n",
        "lose, or draw—is determined by whose final sum is closer to 21."
      ]
    },
    {
      "cell_type": "markdown",
      "metadata": {
        "id": "NqWa-oCvixbG"
      },
      "source": [
        "##**Monte Carlo Methods**\n",
        "\n",
        "Monte Carlo methods are ways of solving the reinforcement learning problem based on\n",
        "averaging sample returns. To ensure that well-defined returns are available, here we define\n",
        "Monte Carlo methods only for episodic tasks.\n",
        "\n"
      ]
    },
    {
      "cell_type": "code",
      "execution_count": null,
      "metadata": {
        "colab": {
          "base_uri": "https://localhost:8080/"
        },
        "id": "OoY7cvPrnK9o",
        "outputId": "07a01fca-7da1-44a4-e816-f58783d50316"
      },
      "outputs": [
        {
          "name": "stdout",
          "output_type": "stream",
          "text": [
            "Requirement already satisfied: gymnasium in /usr/local/lib/python3.10/dist-packages (0.29.1)\n",
            "Requirement already satisfied: numpy>=1.21.0 in /usr/local/lib/python3.10/dist-packages (from gymnasium) (1.23.5)\n",
            "Requirement already satisfied: cloudpickle>=1.2.0 in /usr/local/lib/python3.10/dist-packages (from gymnasium) (2.2.1)\n",
            "Requirement already satisfied: typing-extensions>=4.3.0 in /usr/local/lib/python3.10/dist-packages (from gymnasium) (4.5.0)\n",
            "Requirement already satisfied: farama-notifications>=0.0.1 in /usr/local/lib/python3.10/dist-packages (from gymnasium) (0.0.4)\n",
            "Requirement already satisfied: pygame in /usr/local/lib/python3.10/dist-packages (2.5.2)\n"
          ]
        }
      ],
      "source": [
        "!pip install gym pyvirtualdisplay > /dev/null 2>&1\n",
        "!apt-get install -y xvfb python-opengl ffmpeg > /dev/null 2>&1\n",
        "!apt-get update > /dev/null 2>&1\n",
        "!apt-get install cmake > /dev/null 2>&1\n",
        "!pip install gymnasium\n",
        "! pip install pygame"
      ]
    },
    {
      "cell_type": "code",
      "execution_count": null,
      "metadata": {
        "id": "lVLQsVjpN17f"
      },
      "outputs": [],
      "source": [
        "# Imports\n",
        "import gymnasium as gym  # gymnasium which provides learning environment\n",
        "import numpy as np       # You know it\n",
        "from random import choices\n",
        "import glob\n",
        "import io\n",
        "import base64\n",
        "from IPython.display import HTML    # For rendering the game recording\n",
        "from pyvirtualdisplay import Display\n",
        "from IPython import display as ipythondisplay\n",
        "from gymnasium.wrappers import RecordVideo"
      ]
    },
    {
      "cell_type": "code",
      "execution_count": null,
      "metadata": {
        "id": "E1yBz0mQWoXZ"
      },
      "outputs": [],
      "source": [
        "def argmax(list1): # utility function to find the\n",
        "    return list1.index(max(list1))"
      ]
    },
    {
      "cell_type": "markdown",
      "metadata": {
        "id": "5-ZPMUmdlRfD"
      },
      "source": [
        "###**Creating and Visualizing the environment**\n",
        "\n",
        "It is very important to see what are the actions and states provided by environment, to understand the game mechanics.\n",
        "\n",
        "The environments are provided by [Gymnasium](https://gymnasium.farama.org/)(a fork of origin OpenAI Gym).\n",
        "\n",
        "Documentation of [BlackJack](https://gymnasium.farama.org/main/environments/toy_text/blackjack/) environment"
      ]
    },
    {
      "cell_type": "code",
      "execution_count": null,
      "metadata": {
        "id": "6WKj3Mk7srZy"
      },
      "outputs": [],
      "source": [
        "env = gym.make('Blackjack-v1', render_mode=\"rgb_array\") # this is the blackJack Environment"
      ]
    },
    {
      "cell_type": "code",
      "execution_count": null,
      "metadata": {
        "colab": {
          "base_uri": "https://localhost:8080/"
        },
        "id": "iBRfl_uREItH",
        "outputId": "e6a596aa-6dc4-4639-80cc-92fdb30ea366"
      },
      "outputs": [
        {
          "name": "stdout",
          "output_type": "stream",
          "text": [
            "Action space: Discrete(2)\n",
            "Observation space: (Discrete(32), Discrete(11), Discrete(2))\n"
          ]
        }
      ],
      "source": [
        "# visualize the action space and observation space of env\n",
        "\n",
        "print(\"Action space:\", env.action_space)\n",
        "print(\"Observation space:\", env.observation_space[:])"
      ]
    },
    {
      "cell_type": "code",
      "execution_count": null,
      "metadata": {
        "colab": {
          "base_uri": "https://localhost:8080/"
        },
        "id": "bHlO7SUgk2sd",
        "outputId": "c45e8ef5-b0f9-42d7-86d5-8781dba963fd"
      },
      "outputs": [
        {
          "data": {
            "text/plain": [
              "array([0, 1])"
            ]
          },
          "execution_count": 58,
          "metadata": {},
          "output_type": "execute_result"
        }
      ],
      "source": [
        "# env.action_space provides the info on actions\n",
        "num_actions = env.action_space.n\n",
        "action_space = np.array(range(num_actions))\n",
        "\n",
        "action_space"
      ]
    },
    {
      "cell_type": "markdown",
      "metadata": {
        "id": "hjeYhlL6kprm"
      },
      "source": [
        "![image.png](data:image/png;base64,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)"
      ]
    },
    {
      "cell_type": "code",
      "execution_count": null,
      "metadata": {
        "colab": {
          "base_uri": "https://localhost:8080/"
        },
        "id": "Qb02HnWAkpSv",
        "outputId": "e43153b9-d5dd-46b6-962b-8b7b48a58ae1"
      },
      "outputs": [
        {
          "name": "stdout",
          "output_type": "stream",
          "text": [
            "(32, 11, 2)\n",
            "(32, 11, 2, 2)\n"
          ]
        }
      ],
      "source": [
        "# env.observation_space provides the info on states\n",
        "observation_space = tuple(map(lambda x : x.n ,env.observation_space))\n",
        "print(observation_space)\n",
        "states = observation_space + (num_actions,) #useful for having probabilistic decisions for each state(choice between actions)\n",
        "print(states)"
      ]
    },
    {
      "cell_type": "markdown",
      "metadata": {
        "id": "4wUsgSzEmepQ"
      },
      "source": [
        "![image.png](data:image/png;base64,iVBORw0KGgoAAAANSUhEUgAAAzUAAADICAYAAADRCM+2AAAABHNCSVQICAgIfAhkiAAAABl0RVh0U29mdHdhcmUAZ25vbWUtc2NyZWVuc2hvdO8Dvz4AAAAtdEVYdENyZWF0aW9uIFRpbWUAVHVlIDIzIEphbiAyMDI0IDA3OjI0OjIyIFBNIElTVNTd1YAAACAASURBVHic7N13VBTX2wfw7+7Se++CCCq9FwtFBLH3Ho1Jfqb3mMQYjd1oiokxphqTmBh7jcaGWAALHelYAKX33tu+f6yMzBZYcJHw5vmcwznM7JS7M3fu3mfm3jscIxNTPgghhBBCCCFkkOIOdAIIIYQQQggh5ElQUEMIIYQQQggZ1CioIYQQQgghhAxqFNQQQgghhBBCBjUKagghhBBCCCGDGgU1hBBCCCGEkEGNghpCCCGEEELIoEZBDSGEEEIIIWRQo6CGEEIIIYQQMqhRUEMIIYQQQggZ1CioIYQQQgghhAxqFNQQQgghhBBCBjUKagghhBBCCCGDGgU1hBBCCCGEkEGNghpCCCGEEELIoEZBDSGEEEIIIWRQo6CGEEIIIYQQMqhRUEMIIYQQQggZ1CioIYQQQgghhAxqFNQQQgghhBBCBjUKagghhBBCCCGDGgU1hBBCCCGEkEGNghpCCCGEEELIoEZBDSGEEEIIIWRQo6CGEEIIIYQQMqhRUEMIIYQQQggZ1CioIYQQQgghhAxqFNQQQgghhBBCBjUKagghhBBCCCGDGgU1hBBCCCGEkEGNghpCCCGEEELIoEZBDSGEEEIIIWRQo6CGEEIIIYQQMqhRUEMIIYQQQggZ1OSexk70dHXh5eUJF2dHGBoaQktDAx0dHaiprUVBQSESk5IRGRWNqurqbrezdvUq2NraMNP7Dx7C2XMX+jv5pAtlZWUoKykx0y2tLairqxdZ7sC+vazpj9esxcOc3P5O3lNja2ODsWNGQV9fHwb6etDR0UFNbS3KSstQWlaG7AcPcOPGLdTU1g50UgkhhBBC/t/r16BGUVER8+fORvCEIMjJie5KX0kJ+vr6cHZ2wsIF83D23Hmc/PsM2tvb+zNZ5AnMnD4NM6ZPZaajo2Pwza7vBzBFT9dwayssWjgftjY2Ip/p6uhAV0cHI0eOgM/YMVi8cAFOnjqNU6fPgM/nD0BqCSGEEEL+G/otqNHS0sLK99/D0KEWUi2vqKiIObNnYfjw4dixcxeampr6K2mE9ImdnS0++mAF5OXlpVpeTk4O8+fNgb6+Hnbv+a2fU0cIIYQQ8t/VL0GNoqIi1qxaCVNTE5HPOjraUVVVDS6XC01NTXA4HNbnjg72+GDFO9j62Zfo6Ojoj+SRpyA9PYM13dTUPEApkQ0FBQW89vKLIgFNVVUVsrIfoK6uDpqamjA3HwJtLS3WMuP8/XD7diKiY+OeZpIJIYQQQv4z+iWoeWn5CyIBTWNjI/btP4DIqBjmKYyamir8/XyxcP48VvM0O1tbzJ83B4ePHOuP5JGnYPPWzwY6CTLl6uIMXV1d1rzDR47hn3PnWc0leTwefMaMxovLXwCPx2PmT5w4gYIaQgghhJB+IvOgxmqYJcaMHsWal5eXh692fIvikhLW/Lq6epw9dwHp6Xew4t23oKOjw3w2dfIkXAq9goqKClknkfTB9KlT4OnhDl09dsXe3t4Om9avBQCs27h5IJL2VIwYbs2avp+Zib/P/COyXHt7O8IirkNdQx3PLFrIzB85YgTk5eTQ2tbW72klhBBCCPmvkXlQM2vmdPYMPh/f/7RbJKDpKis7G3v//Asr3n37ccLk5DBtyiT8+deBbvcnLyeHqVMmY/QobxgY6KOlpQW5eXkIj7iBiOs3uu2gzeFwMMrbi1nXUF8fzS0tKCktRXFxCa6GhSMtLb3b/XO5XIwdMxqjvD1hYW4ODQ0NVFVVo7ikBDExsQgLj0BzS4vIenp6uvh2x1eseS++8hoaG5sQMM4PwUGBMDY2xmtvvg0dHR18se1T1rKbtmxFxp27Itt1dnLERx++/3gGn483332fFRxqaWpi8qRgWFkNg56uHrS1tVBXX4/KikoUFBYi9PIV3L13n7VdAwN9WFtbiexPVVVV7PzejH5maTkUfj4+sLezgba2NhQVFVFbW4u8/AIkJNxG6JWraJMQDLz68ovw8/Vhps9fCMG+/Qfg4GCPScETYDXMEirKyigqLkFuXh5OnPobBQWFYrfVHVVVVdZ0bQ+jmkVGRcPPZ6zINjpH+HOwt8PqVStZ23vl9bdgbGSEWTOnw97OFurq6qisrERySiouX7mGBw8fdrtPCwtzTJwQBFNTE+jp6UFNVRVVVVWoqKxEVlY2LoaEoqS0tNttKCooIGCcP9zcXGBqagp1NTVUVFQgv6AQ9+7dx/mLIWhu7r4poZ2tDfx8fWAzcgS0tbTQ2NSEouISZGTcQcilUFRUVna7PiGEEEJIb8k0qFFUUICzkxNr3vWbt/DwYU6P68bGxSMzKwtWw4Yx8zzc3bsNahQVFLD2k49hbfW4Uq2oqAg7W1vY2doicPw4fLXjW9TU1Iisa2JijBXvvAUTE3YzOUUlJWhoaMDaygpjx4zGvfv38c2336GyskpkGwYG+nj/3XcwZIgZa76eni709HRhbydoRvfdDz8hMSm5x2PA4XDxykvLWZV0AMjLy0dOTg7Mzc2ZeW6urmKDGidHR9Z0xp27rIBmyuRJWDh/rkjfEG0tLWhraWHYMEv4jB2D24lJ+GrHzn4diU5BQQEv/u95+IwdI/KZtrY2tLW14ehgj8DxAdi951fcu58p1XZnz5yB+XNnA136aw0ZYoYhQ8zg5emBX3/bi7CI671Ka1l5OWva3s4ONjYjkZFxR/zyZeVY+fEnvdrHiBHD8dEHK6CsrMzMMzAwQOB4AwQGjEPolav4Y99+kXPC5XLxxmuvYPQob5Ft6uvrQ19fHyNHjMDE4Ak4cfIUTpw6LXb/NjYj8c6br0NTU5M138DAAAYGBnB1cUbwhEDs/WOf2KZ0igoKePWVl+Dt5cmaL6+gAA0NDYwYbo2pUybh+MlTOPX3GamPCyGEEEJIT3hq6hobZLUxB3s7kQr5wcNHUFws+SlNV3JyPLi6ODPTKioquHHrFvMeFH9fH+jr6zGfW1oOhaGBgcTt6erowMHBDmHh11mDDqioqOCTjz+CsbFxj2nS1dGBna0Nbty4yapMqqioYOvmjTA0lLx/QFBxHzPaG4VFxcjLy2etP3nSRNay9XX1mDZ1Mmve6X/OorW1DcrKynB0sGfmq6mpIiT0ssj+li1dDHV1ddb6WdkPAABuri549aXlrL4ekhgZGUJNVRW3E5MAAAm3E3H85CnIy8tj5MgRzHLR0TH4cNUaHD95irX+3DmzWNOXr1xFdTU7uPzowxXwcHfvMS0aGuoY5++H3Nw8kacsHu5usLB4HOypq6kKKtVCA1B04nK5cLC3Q/j1670aYU9VVZUVNPB4PPj7+cLWdiQ01DUAAHV1dVIHgQYG+vDt+iSHz4erqws0NDTEr8DhYNgwS2hqaCDhdiLro2cWL8T4gHE97pPD4cDOzhZ5+fnIzy9gfTbEzAwb1q6BiopKt9tQUlKCh4c7kpKTRQL9D957B+7ubt2uz+VyYW9nB3V1NSZvEUIIIYQ8KZk+qTEyMhSZV1hUJPX64oIfI0NDFBUVi12+8452RUUFUlLTwOVy4ehgz7rTPNTCAuP8/RB6+QozLzBgHIyMjJjppqYmhIVHICsrG3wAVsOGYXyAP/M0w3LoUASM88eFkEvMOnNnz4JWl1GuSkpK8PeZsygsKoKOtjYmBgdhuLWgHwaXy8PyF55Dampaty9jFGm618XNyEgsXjifqaybmJjA0MCA1axPT1eX9eSpo6MdUdGxzPTSZxaxKvtFRcW4GRmJ6upqKCsrw9vLE5ZDhzKf+/qMxR/79vfLO1b8fH3gYG/PmldSUoq4+HhUVlZh2DBLeHl6gMvlAhBUyJ9fthTJKandBiOd57WgoBBZ2dlMENM1WFBSUkLg+AAcO35S6vTGxsUjNS0d9na2rPmdTwUBgM/no7i4GA9zcnHvfiYSE5OQX1AgbnMiFJWUoKikhI6ODqSmpaOgoBAW5kNgYzOStdw4fz/8feYflJUJnhxpaWlh6uRJrGXSMzKQmJiMhsZG6Ghrw9/flzUim5/vWERFx7DWWfbsEtZgHS0tLbh5KxI5uXnQfBRUdl5XcnJyePvN1/HeBx8xNws83N3g7Pz4KW1jYyPO/HMOd+/fh7KSEry9POEzZjST/4InBCEuPgHJKalSHR9CCCGEkO7INKjR1GA3W2lvb2cqX9IoKhYNXjQl3bl+5HZiEr797gfWiGor3nmbVRmcNWMawsLCmU7aw4X6gJw6fQanz5xlpq/fuInCwkI8/9yzzDwbm5FMUGNsbISJwYHMZ3V1ddiw6VOmvwQAREXHYP3a1UzTOBUVFcyaOb3b5nTKysrIyLiD0CtXUVxSAjmeHJqbBf1xyssrkHHnLut7ubq64MLFEGbaycmBtb3k5FSm74eWlpZIILdu4ybmKRgg6I+y56fvIa+gwKTHyMgQhYXSB6bSUFFRwZLFC1nzkpKT8c2337MCFns7W3z4/ntQeJQebW1tzJ09E/sPHu52+wcOHsbZ8xeYYExVVRVbt2yEvt7jp3ymJqLDjXeHz+dj1/c/4vllSzHK20vsMhwOB0ZGRjAyMoK3lyeWPrMIpaWl2H/wMKJjYsWu01VzUxO+3rmLVdEfPcobb7z2MrhcwdM1Ho+H6VOn4Pc/9gEQ9F/p6s7du9iy9XNWIJqUkoJ1az5mpodZWrLW8XB3YwVrbW1t2Lz1M2RmZjHzLl+5hs+2bmae5Ojr62OYpSXuZ2aCx+MJAuYuvvn2O9b3iItPQHVNDSsAW7J4IVatWdfjcSGEEEII6YlMgxoJLX6k1tYq2hm8691jYc3Nzfhp9x5WRbiurh4/7d6Dr778jGlmpaOjA3t7O6a5i7qGOms74/x8UVpahqTkFNTXCyr54ddvILdLc7GunaNHj/JmKpmAoFN414AGEAR0F0NCYf3a4wDK3c2126AmNjYOX+/cJfHzGzdvsYIad6GgxtmJ3Z/m5q3IxxN8Pr7/8Wdmsq6ujhXQAIImSMJ9bVRV2B3kZcHVxYnVRK61tRW79/wu8gQmNS0dFy5ewozpU5l5PmPHdBvU3Lt/H/+cO8+aV19fj2vXwjF/3hxmXk/NBsWpqanBt9/9gAshl+Dt6QlHBzuYmZl1u46+vj7efftNXL5yFb/+/ke3y567ECLy5OJWZBScHB3g7+fLzLMZ+TgP5Ofns85rfn6ByJM1q2HsIEa4iZlwX5zYuHhWQAMI+hRFXL+JicFBzDwHezvcz8zE8OHWMOjSDLSgoEDsE5jz5y+yghpzc3Po6eqK9FcihBBCCOktmQY1wn0meDwe9PR0UVLS/YhLnYyMjUTmCQcLXSXcThQ7CEBJaSlSUlJZzWHMTE2ZoObuvfsYOeJxvxAjIyO89cZr4PP5ePgwB6lpaUhNS0fGnbtimzp1HZgAAFycnZlhjbtSUlJkTevr60NFRQUNDQ1iv49wZVxYVEwMnlu2lAn0bGxGQllZGY2NjeDxeLC3e9ycq7W1FTFx8cx0VXU1bty8xUyrqanCydERpqbGMDE2hpmZqaC53JNGplLobJbXKSU1VeLQ3WHhEaygRlNTE3p6uhKfAD54IH6EMOGKs5wU/YokuXv3Hu7evQcAUFdXh+VQC1iYm8PS0gIjR4yAtra2yDqB4wMQF5/QbT+SsPAIsfOvhUWwghojI0NwOBxBfs3JZY0qp6+nBy8Pd5iYmMDY2AiWlkNhZmra7fcRDnokDWrxx76/8Me+v0TmW1sNY01ramqKvR4AwROvri/cHTrUgoIaQgghhDwxmQY14pqPGRkaSR3UmIgJasRtk/lMQl8bACgoLGIFNV1fBnrq7zOwt7MVaYbD4XAwdKgFhg61wNQpk9HR0Y7U1HScvxjCqoxqarKbxHWOdiYNdTU1iUFNYTffBxA8hUpMSoa7mysAQdDo5OiAqOgYWFtZQUXl8ahZCQm3xQZkY8eMxpTJEzHUwoJVuQQETyKUlZVFntbImnBn+O6at5WUlqKjo531ZExTU1NiUNPWJr6jfteBImSptrYWSckpSEpOYeYNMTPD7FkzRJqpBYzzkxjUtLe3S6zcFwtdA/Ly8tDV1WGOgby8PGZOnwqfsWNhYKAvsn55ebnIi0O76vrUDADKe/luKOHR0iQN8y1232pqvdoXIYQQQog4Mg1q0jPuoK2tjdVkzGfsaCQl9zycMSDaDKaiokJklKauunuowOezK7GKigrM/42NjVi3YTO8PD0wyssTDg4OrICgE5fLg6OjAxwdHXDw0BGcOXsOAMB71Hm9L5SUlSR+1t7e84sZb96KZIIaQNCkLSo6RqQ/Davp2SOvvLScdce/trYWUdExuHvvPh4+zEFefj6+2/m12CcNsiQcTHWHz+ejo4OProf8SY7/05Cbl4dvv/sBioqKrNH8TIwl9+Ph8/kSB2RoEzOiWkeHYFlFBQVs3riO1QyuoKAAMbFxyMzKxoMHD8GTk8OO7Z9L3DdX6Hh29HIY7/66HgghhBBCpCXToKa5uRlJySlwc3Vh5o0dMxr/nD2PnFzxL17s5ObqAlsbdqfnGDHvwujK0FB0tLVOXTvFA0BlJbsZW0dHByKjohEZFQ0ejwdrKys4OTnA2dERlpZDRSre8+fNwbXwCNTW1qK2to712S+//o6r18K6TausxMUnoLmpCYpKgsqgi7MTOBwOnLu8n6axsREJQk8EnBwdWQFNUVExPlm/kfXUiMPhiNy17w/VQk0Khc9VV/r6+iL9qqprun/xpaxxOBzs/XU36wnWXwcO4dz5C92ul5ySyh6iXFXycMlycnLQ09VFaVmZyGfGQqMKdnS0o/ZRs8vZs2ayAppbkVH4/sefWU+mRowY3m066+rqoKj4uKmkro5Ot8sLE74ebty8xernQwghhBDS32R+y/vv0+yX6nE4HLz+6kuskaeEDbWwwAtdRhoDBCMw9dTHxNXFWWwlXEdbG06O7CcXd+8J+kAoKyvD2NiI+dPV1UF7ezvu3L2Lo8dO4JP1G/HaG2/jpNALCuXk5Ji+CcJvdjfqptM5l8tl/T2plpYWVl8ZNTU1uLu5wtJyKDMvJjYOra2trPXs7dgBY8LtRJFmcEPMzLodmEFW7gt1Qne0t4OOhKdD4/x9WdN1dXUoKZHuvUeywufzRYZmHjPKu8f3/ZgLvZS1vIe+I8LveJI0Pyv7ATOSn53Qeb0VGSXS1G5Yl2G6xRHOz66uzmKXe3bJYvzx2y/M39Qpk8Su390gDMLXQ2+e2hFCCCGESCLzoObe/UxERkWz5pmbm2Prlo3wHTuGGZ4XEIzCNGXyJGzasFakzf/5CxdRXt59235FRUW8/OILUOyyTWVlZbzy8ousynl1dTXTl2GImSm++uIz5m/r5o2su9QAUFNbi1Onz6Ctjd0crKlZ0EclOob9BMnHZyzrnTWdnl+2FH/98Rvzt+bjld1+H2ldv3GLNb1k8UJW5fDmrSiRdYT7sZibD2FNy8nJYdHC+b1Oi7xC7/vf3E5MQktLS5dtKODF5S+InAc7O1tMmRjMmnfzVmS/vDenJ8JDMg8bZom33ngNurqiTzXk5OQwMTiI9WQMABITu2+GOXXKJJEhmr083DHO34817+q1cOZ/4SHPhc+rpqYGpk+b0u1+Y2LjWdNenp6wE3ofj4G+Pvz9/CAvL8/8JSUJ+hGlZ9xBXd3jpzXWVlYi3wMAvL08sW/vr8z1sPvH75h3TRFCCCGEPIl+uS2/e89vMB8yBCYmxsw8VVVVvPbqy3jpxf+hsrISXC4X2traYp9epGdk4MixE1Lty93NDV98vhUpKangcDhwcnSAjlDzmcNHjzFDMmdmZaOlpYUJrtTV1bFl43pcCw9HSUkp+Hw+9PX14OfjwwqMKquq8PBhDgDBsMG3IqOYPkDaWlr4dPMGnPnnHB4+zIGBgT5cnZ3g5eXJSseRo9J9p56kpKaipqaGCVS6NsOrra1FalqayDrCfZM63wGTmJQMdTU1eHq6w3zIEJH1hG+kdwZ2nYZbW8PO1gaNjY3IljDymLC6ujpcvBSK6VMfV7ZdnJ2wbcsmxMTFoaqqClbDhmGUtxcrf1RWVeHIseNS7UPWLoVewcQJQaxO8V6eHvBwd8X9zGyUl5ejubkZmpqasLYaJvIEsb6+HqFXrghvlkVJSQkff/QhklNSUVhYCPMhQwTvj+lyEgoKClijpOXlF0Bf//HgALNnzoC2lhYe5uQ+CkR8RNIi/HQk4voNBAcFYtijUdC4XC4+XvkBIq7fwIMHD6GpqYnxAf6sfmcPH+YgNy8PgOCdR4ePHsfyF55jPl+18gOcPXce6Rl3oaioAFubkQgKHM/a9z/nzkscNIMQQgghpDf6JahpamrC1s++wMoPV4hUlOXk5FiVMGGpqWnY8e0utPeis7K+nh4CxvmL/ex+ZibCwq8z0+3t7Thy9DiWLlnMzDM1NcGSxYvErQ5A0P/mp59/YTXr2X/wMFycnZg7zdpaWli29BmJ2zh0+Cju3L0r9XfqTkdHB25FRrPeGdIpMipa7LGLi0/A/HlzWP1CXF2cWX0+Ojra0d7ewVrGwMAA9+5nMtPCI5Wpqanhk9WrAADPPPu81N/h6LETGDHcWmhobUNWoNMVn8/H73v/RENDo9T7kKX6+nrs+v5HrPxgBetpI5fLw4jh1sBwa4nrtrW14fsffxYZ8ryr5uZmNDU1QVNTEy7OTnDpMnJfJz6fj337D7LyYWRUNOsc8ng8BI4PYG+7Sx8sQHAN6mhro6Kyktnu73/uw8Z1a1gv+Rzn7weIuawaGhrxza7vWfOuXL2GAH8/JjCSk5PDzBnTMXOG+O8bGxePs2e7b15KCCGEECKtfhtGqqKyEhs2fYqQS6FSBSjNzc04cepvfPblV1JXXNPS05mXZYpz585dfP7l1yLNlc5duIhjx0+I9DsRp6mpCb/t/UPkZYIVFRX4+JN1PQYq9fX12PPb7zj9z9ke99UbN2/dkjBftOkZABQWFWH/gUMSm241NDRg+9c7UVrKHn573pxZUOpSIY6PT0BBQWEfU/1YW1sbtmz9HMeOnxBp5icsLz8fGzZtQWxcfLfL9be09AysXb8JMbGxgJRN4B4+zMHGLVu7fT8NIOgr9d0PP7Ga5XXV2tKCn37+ReQdMhHXbyAySvw5BwRPdrZ+vl1k/tIl7CA+MzMLazdsRt6jpy+SFBUVYfvXO0SGmebz+diy7XNc6WHAjI6OdlwKvYydu75n+gURQgghhDypfu0V3tTUhL1//oVz5y9ilLcXnJwcYGhgAA0NDXR0dKCmthYF+QVITErGraiobu9ki5NwOxHffvcjpk6ZBKthljAfMgQcDgc5ubkID7+O8Os3JFbiT5w6jZDQKwjw94O9vS20tbShra0FRQUFlFdUoKy8HHfu3MOFkEsSA6eSklJs2rIN4wPGYZS3F8xMTaCqqoqKikoUFxcjKSUFl69cE/u+mCd1734mSkpKWG9yL6+oYAZEECck9DKysh9g5oxpsDA3h6amBsrKyhAbn4Cz5y6gpqYGo7y9YGLyeOhhQ0ND6OnpIi8vHwDQ2taGLds+x7y5s+FgZwttbW1UV9eguA+d99vb23Hi1GlExcQiOCgQtrY20NHWgYKCPOrq6pCbl4/4hARcvnKtx8DnacnNy8OOnd/BzMwU4/x8YWhoAH09Pejp6QPgo7S0DGXlZSgpKUVcfALSM+5I3QcoNS0da9dvwswZ02BnawM1NTVUVlbidmISzp2/KPEYf/vdj4hPSESAvx/MzEwhLy+P/IIC3LhxC6FXrqK9vR0lJaWsd9jY29mJbCc7+wFWr92A4AlBcHdzgamJCVRUVFBWVo78ggIkp6Ti8qPtidPU1IQ9v/6O6OgYBIzzh7W1FTQ1NFBXV4fi4hLcz8rCxYuX6GWbhBBCCJE5jpGJ6dPvdU3If5yDvR1Wr3o8cERtbS1eef2tAUwRIYQQQsjg9e9+iyEhhBBCCCGE9ICCGkIIIYQQQsigRkENIYQQQgghZFCjoIYQQgghhBAyqPXr6GeEEPGampqZl7kCoJdQEkIIIYQ8ARr9jBBCCCGEEDKoUfMzQgghhBBCyKBGQQ0hhBBCCCFkUKOghhBCCCGEEDKoUVBDCCGEEEIIGdQoqCGEEEIIIYQMahTUEEIIIYQQQgY1CmoIIYQQQgghgxoFNYQQQgghhJBBjYIaQgghhBBCyKBGQQ0hhBBCCCFkUKOghhBCCCGEEDKoUVBDCCGEEEIIGdQoqCGEEEIIIYQMahTUEEIIIYQQQgY1CmoIIYQQQgghgxoFNYQQQgghhJBBjYIaQgghhBBCyKBGQQ0hhBBCCCFkUKOghhBCCCGEEDKoUVBDCCGEEEIIGdQoqCGEEEIIIYQMahTUEEIIIYQQQgY1CmoIIYQQQgghgxoFNYQQQgghhJBBjYIaQgghhBBCyKBGQQ0hhBBCCCFkUKOghhBCCCGEEDKoySyoCfD3w4F9e3v8e/etNyAvJ4cD+/Zi0sRgWe2+T1RUlHFg314Ejg8Y0HTImpOjA+bNnc1Ma2pq4MC+vfDz9RnAVA285S88h507tvdqHeFj+TS4ubpg547t2PvrbsjLycl8+woKCli0YD62f74Ne3/dje2fb8O8ubOhqKDQ47ocDgeLFsyHzcgRMk8X8PiaDA4K7Jft97egwIA+XWejR3njwL690NPT7dV6fcnTsiYuTyxaMB97fv5hAFMl4OHuhgP79sLMzHSgk8LQ0dbGgX17MX/enIFOyoDr7/JkIPybrwdpbNuyCe++9cZAJ0OEvLw83nvnTfy+52fMnT1L4nLCZfBA1jfXr12ND99/t1+2/eySZ/DzD7tktr0d2z/H+rWrZba9gSKzGtP9rCzsP3iImdbS0sLUyZNwOzEJqWlpzPzCwiJZ7ZJIMHLkCEyZGIxjx08CADo6+CguLkZTY+MAp2xg1dTUoqysrFfrCB/Lp+H5Zc+iuqYa+w8cQlt7u8y3//qrL8PLFlazRwAAIABJREFUwx3XwiNwIeQSLIdaYPbMGTAyNMR3P/zU7bocDgczpk9FbV0tMu7clXnaBruxY0ajoaEB4RHXe7VeU1MTiouL0dHe0av1+pKnZY3yRO+0d7SjoqIC4A90Sgbe/8e88//xO/0bjBnlDU8PDxw6fBSx8fESl+trGfxfV1JaBgV5+YFOxhOTWVCTm5uH3Nw8ZtrMzBRTJ09CRsYdnD13gbVsf9x9Hqzk5eXB5/PR1tbWb/uora3Fex989MTb4fF4aO+HSvbTSsPR4ydknJr+oa6mirDwCETHxMp826amJvDy9MDRYydw8u/TzPzW1lYETwjC/oOHUFlZJfP9Cvs35KW+4nK54PP54PNlVytNuJ2IhNuJEj+XdLy6y9P9kc5/q8GQnzgcDhQVFVFdXYMjx06gubl5oJMklqTfJGVlZTT28cbYv/X88Hg8dHR0/CeukcFOTV0NAHD6n7MDnJL/Xzqv619+/Q3Tp0556vuX9e/UgEYXHA4wbepkjBk9CsZGRigsLMKBw0eQkpLKWm70KG8ETwiEhbk56hsaEB0dg2MnTvVYwBoY6GPp4kWwshoGLpeL7AcPcejwUeTk5oqkY/rUKfD1GQMdHR3BckeOIjMzi1lGQ10d8+fNgbOTEzQ11FFSWoaLly4h9PLVXqXV1cUZH77/Hl5/8x3MnTMLo0eNwifrNmD92tXIycnFti/YTUkWzp+LmdOn4e0VH6CsrBwjRgzHvDmzMMTMDEqKiigqLsGFiyEIe3RXYv3a1Rg5QvDY+8C+vdh/8BDCwq9j94/f4afde5i7F4qKili8cD4cHeyhpaWFnNxcXLh4CVHRMcy+nRwdsWrl+1i3YTOeX7YUw4ZZorGxERl37uKPP/9CSWlpt8ffzdUF06ZMhoWFOUrLyhAbG4cTp06jo+Px3WhHB3vMmjkdFubmqKurQ3rGHew/eAh1dfUABAHwH7/vwY8//wIXZyd4e3mio6MDuXl5OHDwMFLT0plteXq4Y/q0KTAzNUVLSwsy7tzFgYOHmXQ+v2wpXF1d8M57HwAQXEzTpkyGn68P9PV0UV1Ti5jYWBw5ehzNLS1ij+XZcxekzgvCejrmFuZDsO3TzQCAuXNmYe6cWXjuhRfRKiHg7SkviGM+ZAgAICYujjX/fmYWgicAerq6EoMaB3s7rF61EgCwZPEizJs9Cy+89CpeWv4CRo4YgQ8++pi1/OpVH6K9vQOff/kVVFSUsefnH/Htdz9gzOhR8HBzRUNjI+5nZuLgoSN4mJMrbpeMvpYBxkZGeGbxQgy3tkJzczPSM+7grwOHUFdXxywjTTmxaf1aZGVno6qqGjOnT4WCoiJKS8tw/uJFXAwJBZfLxV9//MYsf2DfXqxZtwHZ2Q+gqKCA2bNmws3VGYYGBqirr0daegYOHj4quGMPwMvTA+++/Sbefu99lJWVS33tCefpntLZicPhYOaMafAZMwaqqipISU3DpctXsGHtGibdndsPnhCEzZ9+hvSMDKnzBPv4L8Bwa2vw+XzExsVj3/6DaGlpYZaxsDDHwvnzYDXMEgCQnp6Bw0ePo7BI8lN9D3c3rHj3bXy8Zi3eeP1VmJmaoqKiAmnpGfjzr/1M+SFOT9fN2jWroKykjNVr17PWe3H5Cxg7yhsvv/4WWltbe0y3oqIift/zM77+5lvo6+th8sSJOHnqb0THxmF8wDh8+dUOAD2XQ93prozV0dbGd9/uwK7vf8StyCjW99+wdg3WbdiM+5mZYn+T1qxdj6DAADjY22PHzl14btlSmJmZMvmsp+8uTbndU94R1lP5Lk05BAiukYc5OeDxePDzHYu2tnbcu5+JX379DfLy8nj+2aWwtLREQ0MD/j7zDy5f6b5c72ogrgcOh4Mfdn0jk/qDMGnzUKf+qqutePdteLi7ARCUrafPnMWhI0dZ25BUBuc9utkuTX2Tx+Nh5oxp8PJwh5GREUpKS3H5ylWEXLrcY6U7KHA8xo/zh6GhAR4+zMGxk6fELifN+dXT1cWihfNhbWUFbS1NVFZV4VZUNI4dP9ntzQF1dXU8s2gBbG1soKGhjocPc3Dy7zNISk5mltmyaT3u3LmHxKQkLJg3FwWFhfjhp91YtuQZ/HPuPLNcT9ebJLL4Pe2qt3mKp6ausaHbFPaRhoYGJgQFIiU1DXfu3mPvlMvF7FkzYGJsBDNTE1wKvYLshw9hZ2cLP5+xuHz1KlpaWgEIgo3l/3seWZlZuHw1DFVVVZgQOB4uLs4IC4+QmNEMDQywdfMmqKur4fKVa7hz9x4cHewwdcpkJCenoLKyCvLy8pgxfRqMjYxhM3IEIm7cRGZmFpycHBEcFIiU1FRUVFQCAD5etRL2draIio5BdEws9HR1MSEoEHn5+cjPL5A6rcZGRhg7ZjSMjIygp6eLq9fCkJaeAT1dXXh4uOP8xRDWHbIXnluGgqJCnL8QguHW1ti4dg3qGxpwISQU9zMzYWBggInBQbhz7x5KSkpx9949KCoowNTEGOs2bsadu3fB5/MxfdoUxMbF42FODrhcLjZvWAdnJ0fcvBWJ6NhYGBkZYfq0Kaitq0NmliCYMzQ0hM/YMXBydEBJaQlOnjqNoqIi+Pn6YMTw4bgaFi7x/PuOHYN33nwd+YWFuHT5MpqbWjB1ykSYmpoylXhvL0+8/947qK6pwcVLl1FaWgp/P1/4+vjgalg42tramLwyzHIoVFRVcOz4SSQlp8DVxRl+vj64ci0MLS0tcHJ0wIcr3kVJSSkuX72GsrIyeHt5wtXVmQk2XJydYGxshAsXQwAAC+bNwbw5s5CcmoqwiAh0dHQgcHwAVFVVcDsxSeyxbG5uliovCJPmmDc2NiEmLg5+Y8cgLDwCe37fi4rKSrHbkyYviFNcXILzF0JQXl7Bmh88IRBmZqb4868DrKCzq5raWsTFJyBgnD8uXAzBn38dQFV1NdzdXKGnq4uQ0MvsPOAzFnw+Hzdu3mKuNTtbG2hraeHs+Yu4fz8TLi7OmBAUiISERFTX1DDL3U5MQmZWNoC+lwGmpibYvHEdeDweQkJDkZObBz9fH/j6jMXVsHC0t7dLVU4AQMA4fwwbZgl7O1v8ffofhEdch5mZCcYHjMO9+5koKi5G/O3bGG41DEXFxdixcxcK8gvQ3t6OD99/F2PHjMaNm7dw41YUGhsb4e3liZEjhyMsPIJJ6yhvL5y/GIKGhkaprz3hPN1TOotLSgAAzz27BDOmTUVkVBTi4hJgazsSEycEQUFBAVeuXkNVleB7Ww4dCm0tLURFR4sNdiXlCQd7e4wcOQKjvL1w9959hF+/AUVFBfiMHQsOB8zNCBubkVj/yWo0NTXh0uXLyMp6AE8Pd0wIGo/omDjU14sPTkxMjDF6lDe8vTxRW1uLcxcuoqqqCn6+PvD28sKVa2Ho6Ohglrt0+Qpqamqlum7UVFXh5+eDa+HhzA8nl8vFyy/+DwmJSYiMipYq3XJycpg1YzoUFBTg6eGOa+HhSExKRmVlJcLCI5iKbE/lkCQ9lbHKysqYMnkSomNikZeXz6ynq6uLcf5+uHotHBWVlWJ/k9Iz7sDO1gZDhphhzOhRKCsrR3hEBB48zJHqu0tTbpeVlYvNO+JIU75LUw51XiNOjg5QUVHGoSNHcT8zC35jx8Dbywvjx/kjNi4e12/chLWVFfx8fRAVFYPa2lqJ56GrgboejAwNZVJ/AICg8QGor69HZC/yENC/dbWsrGwAfFhbW2HNug1IS0tHY1MTazt8Pl9sGczn86Wub374/nuCcx4dgxu3BL9b06dOgZqqGhKTJF+L8+bOxjOLFiK/oBBXrl4Dl8fF4oULoKKigoqKCty8FSn1+VVWVsYX27ZAX18PoZevICExEXJycggcHwAOh4O0R3nF2ckR5uZD8M9ZQSCipqaKzz7dBGMjI1y5GobExCSYmw/BjGlTkZ9fwNRNxgeMg7KSEiYGByEuPgFRMbEoKSlFVEwsysrLAUh3vfX1XALS/071JU8N6JMaZWVlfPzJOjQ0CH448vML8N47b2GohQVSUtOgpaWFuXNm4dz5C/jrwOP+OsnJqVi18n34+/ngytUwsdueO2cW5OR4WLdxC3M39GpYGLZ/vg0L5s1l3dHQ1dHG+x99jLIywQm9FhaBLz/7FPPmzsG2z7+Ejo4ORgy3xr79B3D+gqDycC08HBvXrcUwy6GIio7pdVqVlZWwacs25qREx8QicHwAnJ0cmUq/qYkJTEyM8dtewT493F3Rwe/Azl3fMwXQ2XMX8OvuH2FrMxIpKakoLCxCZVUVOjo6mLutampqrGPj5zsWFhbm+GbnLkTHCu7Yh1y6jI8+XIF5c2YhPOI6mroUGIVFRdj+9U4mraqqqpg4IQjy8vJobW0VOfby8vJYtGgBEhKTsP3rb5j1lJQU4e/ni78OHEJ1dTUWL1yA7AcPsGnLNqYgTkhMwoa1azBxQhD+PvMPs01FRUV8tHotGhoaAADV1dV47523YDnUAknJKRjl7YW6+nps2fY5UymvqqrG+AB/aGlpiq2QjR7ljbiEBFY/EkVFBZiZCjoVizuW0uQFcaQ95tnZD9DR0YHKyipmn+JIkxfEaW1tZc6ZhfkQjB41CpaWQzFiuDV+2r1H7Pns1NTUhKxsQaBRXlGBBw8fSlxWEmVlZXzw0cdMmq+Fh2P7Z1sxd85M7Nj5ncjyT1IGLJg3B83NzVi/aTNTxpSXV+C1V16Cp4c7rt+42btyQlcXm7ZsZdrJJyWn4Kfvv4Wt7UgkJScjO/sBGpua0NDQwJw7BQUFODk44Fp4BPYfPMxsq7y8AvPnzYGcnFy3TU97e+1Jk059PT1MCBqPo8dO4NTpMwCAK9fC8PnWzVBVVWVt6+Tfp1nNFIV1lyfk5eURevkqs37E9Rv4bOtm2NiMZJZZtuQZPMzJwfqNW5jrNiw8Atu/2Ib5c2f32MersqoKGzdvZY5FWnoG3nvnLYwP8Be54wdId93Exsdj6ZLFcHVxQejlKwAElRF1dXXmbnVv0m0zcgTefX+lxAppT+WQONKUsehlcw7h3yQAMDIywomTp3DsxOO7zr357j2V29KWJ30p37vD5/OxZdvnzHrDLIdilLc39v75F0IuCfJNc3OzoD4y1AL5BeJvVgkbqOtBVvWHvurvulpxSQnKH33W3e+iuDK4s7tDT/VNdzdXuDg7YfvX3yA+4TYAIPTyVZSVlWPGtCkICQ0V2ydcS1MT06dMRlx8Ar7+5lvm+ikpLcWCeXNZy0pzfkcMt4aGhgZ+/Gk3Im7cBABcDAnFxx99CDtbG4nfffbMGVBSUsbKj9cwx/HipVCs/2Q1li19BtExsUzaHB0dsGXrZ0hLf/z0vevNzL5eb7L8Pe1rnhrQIZ2jomOYDAYARUXFAAQXPwDY2dpAQUEBIZfYd16SkpNRVVUFO1tbidt2cXZCZFQ0c2ABoK6uHmER1+HgYA+5Lv16IqNjmIAGAMrKy3H95i3Y29mAx+OhrbUV4PPh4e7GjE7U0NCID1etxsHDR/uU1itXw1g/HmnpGaivr4ebqwszz9PTHe3t7YiMEhRSR46dwPPLX2HdhdfW0gKXy+1VBy8XZ2eUlpYylWtAUMhfuHgJampqzGPRTlevhbPSml9QCHA4kJcXHxMPt7aCtpYWLoaEstY7fuIUfv39D8EdVGNjGBjoI+TSZVal7u7de8jMyoKLsxNrm4K80sBMFxQUAhBUGgGgpaUFampqGDN6FHg8HgDgzNlzeO+DjyRegC0tLRhubQ0rq2HMvB07v8PmrZ+JXR6AVHlBnN4e857IIi/o6urCxcUJ1lbD0NTUxBzL/hT96K5Qp/LyCly/eQuuLi7gcDgiy/e1DODxeHB3c0V4xA1WGXPzViR+/f0PppLSm3KioKCQ1fG3trYWtbW1UJCXfNxaWlrw3P9ewi+//s6ar6urAw6Hw+RVSXp77UmTTjc3F3C5PFy5eo2Vzs4fUFm6cu0aa7qoqJgp37W0tDB0qAVCL19l/aBWVVfjdmJStz/gnUIuhbKCu5jYOBQUFMLN1VXs8tJcNyUlpcjNzYO72+NteHt6oKGhAUnJKb1Od1R0jMSABuhbOSRNGdtbwr9JnUKvXGP+78t3767cllZfyvfuZGVls9a7e/c+ACC2S/nc2cJElp2n++t6eJr1B3GeVl3tSfRU33R1cUZ5RQUT0HQKC48AOBzY2Yg//nZ2tpBXUMDpM/+wrp+LIaGsuo205zcpOQXPvfAiqzzm8XjQ0tRk0iqOq4sz4uLjWceRz+cj4voNaGtrw8jQsMt3L2IFNML6er3J8ve0r3lqQJ/UCDeR4QsNB2NkJDgJ33z9pdj11YWeQHRSVlaGmpqa2KZABfkF4HA40NXVRW1tDQCIXS4nNxdcLg+6OjooKS3FsRMnMXfObOz8ejsys7KQmpaOm7cimcERepvW0lL2iEXt7e2Ii0+Aq4szOBwO+Hw+vDw8kJiUzLT/b29vh6mJCby9PTHEzAyGhgYwMzXt9UVvYKDP/Lh01XkcDAwMWH1VhNPaU9tSQwMDAEBBIfu4lpWXM+2TOyvx4u6A5ecXwNHBnjVPOA0dfPaP9tlzF+Dk6IjXX30ZS59ZhLT0DMQn3EZ0TCyrvXJXBw4dwVtvvIbNG9ahqKgIqWnpiImNQ1JyisTvVlNb22NeEKe3x7wnssgL8Qm3EZ9wG3Jycnh2yWK88tJyVFZWISk5GRbmQ6Curs4sW1xcglIZjLKVl58vMi8nNxdycnLQ1tJCUzO7SUFfywA9XV1wuTwUFLKPeXt7O5MHpS0niosFP37ivr80nRs7+HyMHTMaI0cMh6GhAUxNTaGtpdXjekDvrz1p0mmgb4DGxkbUCDWpKS4ukSpN0mppaUF1dY1wQph/O8/tKy8txysvLRdZX5qO5Xlizl1uXh6GWpiLXV7a6yY2Lh7Tp02BkpISmpub4eXpgZjYOLS1tfU63cLnUFhfyiFpylgdbe1u9ytMXDrb2tqYpohA789ZT+W2tPpSvndHuJzprGTWdwnA+hIYdqc/r4enWX8Qp7/rap1l8JOQpr6pq6ODA/v2il1fuMULs56h4FrMzWP/tjU2NrJGppT2/PL5fCgpKyNwtKAVhaGBAczMzKCiosw8BRTG5XJhYKAPIyMj+PqM7TH9PZVJfbneZP172tc8NaBBjaQO0MznLYK74us2bkF7h+gF3STUprKTmBu+jI5HB43He/yQSlxFoaOD/yiNgruAJ06dxs3IKHh5esDRwQFTJ0/CzGlT8dfBwzh3/kKv09rSIjryTXRMLPx8fTB8uDUqKyoxdKgFzpw9x3zu5emBN157BaWlZUhMSkJScgoyM7Pw8UcfSP7CYnAg/gDxxRwbAGK/T3d4jwrJzmMoNg3dnCQ+nw8ut3dpKC0rw0cfr4GzsxPcXF1gb2+HUd5emDNrJjZs2iJSgQOA24lJeGfFh/D0cIeLsyNGeXshcHwAYuPisWPnLokVyJ7ygtjv28tj3pO+5gVFBQVwuFxWfmxra8PBw0cxIXA8XF2ckZScjAXz58LV5fFdvyPHjuPU32d6lUYul4t24SGKxRzSznwi7qlFX8sAOSYPSq6Y9Lac6OjldQAImt+sfP89DB9ujfiE20hJScPFkFAYGxvhmUULe1y/t9eeNOmUk+OJbZkk60pcTyM6dj5h+W3vH0z/qV4TW3Z3gMcT/9Mm7XUTGx+P2bNmwMnBHjW1tdDU1MStyOg+pbunzv59KYekKWMlES5bO4n7TRKuwPT2u/cl/4rTl/K9k9hyaAD09/XwtOoPgGgeelp1tSchTX3zwcOHIk/VO3UN7rvqLm81Nz++fqQ9v6YmJlj10QdQkJdHXHwCbkVFIffYcQRPCJL4HrOOjg60tbXjxs3rCJUwsEXXpnM9lUl9ud5k/Xva59/+brc6wEpKSwEOB/UN9awTwuVyMXqUF6vjWlcNDY2or6+HsbGRyGcmJsYAn4/SklLIKwge5ZmamogsN8TMFK2traiqqoaqqiq0tbVQVFSM02fO4vSZs9DS1MT7K97BgnlzcP7CxT6ntavk5BQ0NTXB3dUF1dU1aG5qQnx8AvP5nFkzcO/+fXy67QvWD52kHylJSkpLYGFuIf7Y4Mnv2HZG4kZGhqzHkDra2pg9awZCr1xlOoKZGBmxRpnrTEexhI7ukhgbG6G5uQWxcfGIjYsHh8OBn89YvPLyixjn7ycyDKScnByMjAxRWVmFq9fCcPVaGBQUFPDsksUIHB8Aq2HDWKO6dJImL4irhMj6mPc1Lzy3bClGe3vhfy+/xlqvra0NHfwOpmL75Vff9Co94go0PV1dFBax77B1ft+uzExN0d7ejvKKCigpKbI+6+t1VVJSAj6fz9zt6WrJM4uQmZmFyKhoqcqJJ+HoYA9bWxuR9ssTgsY/0XafRHFJKVRUBHfVuo4C13n3/2npvHPK54u2k3dydJBqG6YmJrh77z5rnpmpKVO+CJP2usnOfoDyigq4ubmisbERdXV1zPvWZJHuTn0th6QpY2trxFf09XR794LXrmT53XtD2vJd2nLo3+hJj+3Tqj8Aonmov+tqT0NJaSnMLczx4MFD1vHR0tSEvb0dKivED9rTORqYmakp61rl8XgwMNBHRaXg+pT2/AaOHwdFBQWs+HAVq3ye0MMLqUtKS6GkpCSybQvzITAzM8ODB9L3ge1tfQqQ/bnsa54a0D41PUlNS0NTUxPmzp7FurMfHBSIN157FdrdPF5PTErG6FHe0NZ+3MxDRUUF4/x8kZqewYraR3l7QVdXh5nW0daGn68P4uLjwefzYW01DF9s+5TVz6OquhpZWdngd3SAw+E8UVo7tba1IeF2ItzdXOHp6Y6YuHhWRG1oaIiqqmrWBTfc2prVTIjRTdicmJQMAwN9VptxDoeDyZMmor6+nhn9rK/uZ2ahvr4ekyYEseb7+fogcHwAGuobUFBQiNKyMgQHB7Hu0A+3tsZwa2skdTPSiDivvfISPlzx+M29gpFQEpn/hfG4XHy+dQvmzJrJzGtpaUFKqqDiwno03eVYSpMXxJH1Me9VXugiMysbikpKcHZyZM33cHcDl8tDVrZ06ej65KmtrQ062tqsdvIjR4yAgZhKsreXJ+tuk7a2Fvx8xyI5JVXsk4K+XletbW1IS0uHv58vlJSUmPkjhltj6uRJUHyU1t6UE9J7nM7OoKprO2QOhwO3Lk/BnrbklBTw+XwE+Psx8+Tl5ODrM+aJtivpaaQktbW1uHv3HiZPnAAVFRVm/lALC6z8YAXs7e163EbwhCDWe8/cXF0wZIiZxJGKenPdxD9qzuPl6YHomFimeYgs0t2pV+VQF9KUsZ1511gosPfv8rb13pLld++qp7wjTfnem3LoaXja14NM6w9dtgn0nIeeVl1Ner079gAQExcPbS0tjA8Yx5r/v+eX4ZWXlqNFwsAsqWnpaGlpwYzpU1nfPTBgHJSVlZlpac+vkZERWlpaWP3w1NTUMGLE8G7THxsbDw83V1h0aXqrqKiID95/D5MmTujVe2B6W5/qJMtz2dc89a9+UlNXV48Tp/7GM4sWQk1NFbFxCdDR1saUyRORnp7RbZvjo8dPwtXFGZvWr0XIpcto7+hAYIA/VFRUcOjwEdayXC4XG9auQejlq+BwOQgaHwA+n8+M+HLn7j1UVlbilZeWY6iFOSqrqjFyxHCMGe2NK1cFQ4c+SVq7io6JxehR3gCfj5On2M190tLT4eXpgYXz5+JhTi6GWVrC388HDQ0NGDliBMzMTJGXl4/m5mYoKioiwN8P6XfuiLyzISz8OoInBOHtN1/HhZBLKC0thaeHBxwd7LH3z79Ynen6orGxEUeOHccLzy3DByveRULCbRgaGmLSxAm4fuMm05by0OGjeOv1V7F29SrcvBUJDU0NTJ4YjLKycpx7NLKYtCIjo7F0yWKs/GAF4uIToK2lCW8vLzQ1NbE653dqbmlBfMJtTAwOhIKCPLKyH8D80fClObm5zF0N4WMpTV4QR9bHXNq8IOz6jZvw9RmLd958HSGhl1FcUgIzU1MEBY7H/fuZTBMbSfh8PlpbWuDs5IiCwkLEJ9xGxp27mBAUiBXvvoWr18Khr6eHWTOnix2dq7m5mbnWACAwMAByPB6OHD0udn9Pcl0dOHwEGz5ZjQ3r1uBaWATkeDxMnTIJRUVFiIwSfM/elBPSaG5uhoX5EHh5eiA1LR3p6Rng8/l45eUXcfVaGHg8LgLG+TN9anx9xiAi4kav9/MkcnPzEBYegYUL5kFTUwNFxSXwGTuGGSK1o0vb/VkzpmPMaG/8tPtXie25xeUJaR06chSrV63EhnVrEBFxA+3t7Zg0MRi1tbW4ePFSj+vr6upg7ZqPcfNWJHT1dDFxQhBKSkpxSahzaafeXDcxcfHM3dGu7+iQRbo7SVsOCZO2jC0oKMT0qVPQ0tKK8ooKjB0zusfKUU9k9d0B6fOONOV7b8qhvnpp+QsYbm2FbV9sl9hheiCvB1nUH7qqra2VKg89rbqaNITL4BYpX3KbkpKK24lJ+N/zy2BpORSZmVkYOWI4PDzccfLUadaAF13V1NTgn3PnMWfWTKxa+QHi4hNgamKMcX6+In1IpTm/qWlpcHF2wuuvvoz4hNvQ1dHB5EnBAJ8PI0NDONjbMTc9ujp7/gL8fMdizaqVuHz1GkpLS+HrMxY62tr4Zc9vIst3p7f1qU6yPJd9zVP/6qAGAP45ex6VlVUInhCIJYsWoKauDqGXr+DEqb+7bQNeXFyM1Z+sx5JnFmHSpGDI8XjIysrGN7u+F+nQ/ePPv8De3g4B4/yhqqqCe/cz8deBg0zH7qamJmz7YjsWzp+HwPEBUFFWRmlZGY4cO4Fz5y8+cVq7up2YhNaWFjQ2NSEllT3E4u49v+G5Z5cgcHwA2tvbcefuPazdsAnOTo5YMG8ugoMC8dvZ6VmJAAAgAElEQVTeP3HzZiQ83N3w/HPPYt/+g0wFrlN7ezs2bPoUixfOh6e7GzQ1NZGbl4+du76XOCRxb10KFbwXYsrkiVj6zCJU19Tg7LnzONmlX8atyCjU1zdg1oxpWDB/Lurq6hEdE4v9Bw9JbC8pyfmLIeByuRjn74dlSxajobERmVnZ+OHn3RI7Gf78yx7MnzsHbq4u8PfzRWVVFaJjYnH8xCnmrqzwsQy9fEWqvCBM1sdc2rwgrLm5GZ99sR2LFsyDo6MDgo2MUFpWhrPnzuPU6X96zKd8Ph8nTp3GlMkTsfyF5xCfcBu3IqNgoK+PwPEBeOfN1wEOBzdvRaKlpUXkbsqJk39DRVUFvj5joKmpiazsbHx18Ei3w7n29brKzn6AtRs2Y/GiBZgzawba2tqQmpaOA4eOMHcwe1NOSOPCxUtYtnQJXnvlJazfuEWQB3/ajdkzp+OF555FQWEhwsIjEHH9Bj75eBUWL1wg9Q0PWdrz215UVVXDZ6zg6UzEjRsoKizCa6++jMbGx9eelpYmzMzMoKioKGlTYvOEtDLu3MX6TVuwaP48TJ82RZCX79zFoaPHJL6jqauvdnyL8QH+mD59KsDnIzIqGvv2H5TYZrw31016egYaGhrR2tqC9Iw7Mk13V9KUQ+JIU8YKXpy5BHNnz4SikhJqa2vx0+49eOuN13qVxv767tLmHWnK996UQ32lr68HMzOzbkctHMjrQRb1B2HS5qGnUVeThnAZXFgoOkCPJF/t2Im5s2fBw90VPmNGo6S0FHv/2IdLj4Z2l+TY8ZOorq5GgL8/Fi2Yh4c5Ofjqm2/h6eEOHZ3HeU+a83v+QgjU1dThM3Y0XF1ckJOTgx9//gXNzc14+83XsezZJVi5ao1IGurr67H6k/VYumQxxoweBTVVVeTk5uKzL7YjuZfDdfelPgXI/lz2JU9xjExMe9/TkBBCxFBQUICioqLIy+pUVJSx5+cfsfePfSIvxyNPl66uDlycnZFwO5HVH2PxogWYEDgeL736hlQjjw0kD3c3rHj3baz8eI1U/RX7Ql5ODj9+vwvXb9zA3j//6pd9PE1ampqorav7159bWZBUDsnC+++9jT2/7RUdyew/4L+Uh8jg9K9/UkMIGTxaWlr6NMQqeXpaW1rx7JLFcHdzxf4Dh1BeUQE7WxsEBozDhYuXqMLyiIeHO1RUlHtskjlYVFVXD3QSnpr+KofMzEyhoqKCGgmDMPx/91/KQ2RwoqCGEEL+Q2pqa7Fj5y68+L/n8eXnWwEIhte8FHqFedv5f1nnuzwCA8YhP78Ad+/dG+gkkX+J4VZW+O33P3vV6ZoQ8vRQ8zNCSL+Tk5NDUOB4pKen42FO7kAnh0Aw5Ki+vh7k5eRRWFTU43s0/k0MDPTh5uqK6zdusoY9lQU7O1u89/abePDgIfbtP4icXMqvhBAyGFBQQwghhBBCCBnU/tXvqSGEEEIIIYSQnlBQQwghhBBCCBnUKKghhBBCCCGEDGoU1BBCCCGEEEIGNQpqCCGEEEIIIYMaBTWEEEIIIYSQQY2CGkIIIYQQQsigRkENIYQQQgghZFCjoIYQQgghhBAyqD31oGbT+rVY8e7bT3u3jO2fb8OrL784YPt/mtavXY0P339XqmXfe+dNjB7lLfazgHH+mBgc1Od0PPfsUtja2Ij9TE9PFyveeQs//7ALX32xDYsXzgePx+vzviRZtGA+9vz8g8y321+6O2ZdaWpq4MC+vfDz9XkKqZIdXV0d7Nj+OZSUlAY6Kd2aP28Ofv/lJ5lu08nREQf27YWF+RAZbc8B8+bOZqbl5eRwYN9eTJoYLJPtD9a0CNu2ZRPefeuNgU5Gj2RZVqmoKOPAvr0IDgrsdjkHezsc2LcXlpZDZbLff7vO4xI4PqDHZQdLvumticFBWP7Cc6x5DvZ2WLt6Ffb8/CM2b1wH/3/B74qV1TC8tPwFkfneXp54/72Bq0uSf6f/3JOa8vJyVNfUDHQy/lXcXF1gaGCAyKhokc8UFRQwa8Y0mJma9mnbZmamCJ4QCC0tTZHPtDQ1sWXjelhYmOP8hRAkp6Ri6pRJePvN1/q0r/8vujtmwjo6+CguLkZTY+NTSJnslJdXID4hEQvnzxvopAx6I0eOwNRJEwc6GQD+XWkhhIino62N2TP/r737joriehs4/t2lN2lKt1MV7AW7Yu+KXaMxicb0xBI1VqJG037GxFTTi733LvaCgEovAnZpSkdYYPf9A1lZ2IVFseB7P+fknDh7Z+aZO8PM3DpD2LZjp3JZMy8v5s6eiVRHyvadO0lPz2Dam1OeqEKzOgzs3xc3V9dyywMuBmJtbU27Nq2fQ1TCi0r3eQfwrK348muNv0mlUhQKBQqF4hlG9PiMjIx4UA0vs6NG+LL/wCGV43ZycsTNxQUfn+7UqVOnytv0cHfH1cWZPn16IZFI1Kbp3asnRoaGLF7yGUlJSQCkpKYyYdxY6jo5cfPWrcc5nGdOIpFgYGBAXl7eE21HmzwrKysri+mz5jzRfp+XAwcP8b+vPmfXnj2kpaU/9f1JJBKkUilFRUVPfV8vs+q67zwNNeUerqenh0KhoLCw8HmHIvw/NHBAfy5fCVG57w4fOpjbt++y/POvKCgoYO++A8ya8RFDBw/iyFH/ar9vVnQfsbCwwMPdjfbt2tKubRvu3LlbLo1CoeDAwcOMHOlLQGBQtcYm1FzVWqiRSqUMGtCfrl06U6e2NRmZWVwMDGTT5q3ky2QqaVs0b8aQQQNp0KA+mZlZHDh4iAOHDquk6de3D106d8TBzo6k5GQCLgayY9ce5HI5Y0aPZOjgQbz17gdkPmx5GTliOL7DhrJj5242bdkKgKmpKWt+XM2BQ4f55791fLliGfEJ1/h5zW9AcXe4+IQE0tMzGDp4IPoGBqSkpLL/4EEOHjqijEUikTB0yCA6d+yIiYkxYeERHD56DL+F85m/yI+EhGsa88XQ0JAJ48bg5dkUIyMj4uIT2LhpM9dv3FSmcXV1YaTvMOo6OWFoYEBiUjIHDh7ixKnTyjTLliwmOjqWKyEhjB45gjt37/Ljz2sA6NXTB5/u3bC1teH69Rts2b5Dq3Pm7uaKg70dFy4GqiwfPXIEXk2baLUNdaZ/+B56urpIpZobA316dCMsIkJZoAHwP36ScWNG4dOjG3//u7bcOs28PJk7exbfrv6BCwEXAWjSxIMFn8whJiYWv6WfKdN+sXwZCoWcufMXKZfZ29kxftxoXJydUSgUBAYF8+/a9chKXZ/169djzKiRNG7UEIDIyCg2bt7K3cREAAwMDPjzt19Yueo76tSpTf++fdm+Yyf+J06io6PD0CGDaNemNXZ2diSnpHD0mD+HDh+t9EVLmzwry9TUlDU/fc/Pa37j5MNrpX69uowaOQLnxo3Q09Pj5s1bbNqylYjIqAq3VdvamrFjRuHcuDGWFuakpadz7kIAW7ZuV3mgFefhGFycG5Ofn09kVDT/rdtAdna2Mo2ZmRnjx47Gw92dWrXMuH79Btt37iYkNFSZJiU1latX4+jds6fy77UqtIl37OhRtGrZnLXrN/LmlNextLQkIyODi4FB/Ldug8p593B3Z6TvMOrXr09KSgr+J05WuH9DQ0N+/fkHjvkf58+//wWKu1v9/uvPSCQSprz5tvK+9+rEV+jTuyfT3nlfub6RkRGvT55EMy9PzMzMiImJ5c9//iU5OUXrfFy8cJ6yFnPdv3+xdv0GDj28b0kkMGhgfzp28Mbezo67dxNZt3ETYWHhyu1rc71OGDcGz6ZN+ebb1bw66RWcnBz5cPqscvnxLGJRZ8WyJYRFRJD3II8hgwcikUi4du06+w8e4tz5CxWew25du9C7pw/29nYUFRVx/foNNm/dRkzsVZp4uLNg3ly+XrmK4EuXletYWVry/bcr2bR1Gzt27tYq7pYtmvPxzOm8896HjPAdRgdvb+YvXExScrLG2LS5V3l5NmXY0MHUr1eP7OxsIqOiWbt+A9nZORq3a21txcQJ43FzdSE/X8blK1e4EhJaLl3bNq0ZPGgATo6OyGQyoqJjWLd+I8kpKWq2ql2eamJlacn3333D6h9+Ujlnrq4u+C2czyK/pVyNi9M6Lm2ep1B8XQ4eOIAunTtiZWVFwrXrbNi0mbi4+AqPsYN3e/r07kn9evXIyc0lIOAiW7btqLSw/6zvseoYGhrSvVsXvvl29aP92dvh5ubK2vUbKCgoUC4/esyfVjOn06plCy5WUHCwsanDK+PG0rhxI6RSaXE+btzMjZuP3nEqen8pq2MHb0b5DgNALpdr3G/AxUBenzwJT8+mKvcS4f+vau1+NmrEcMaOHsm169dZt3ETUdHR9O/Xl/Hjxqika9iwAW9Pm8qly1dYt2EjObk5TJo4AS/Ppso0kye9wqRXxpOUlMz6jZuJT7jGSN/hfPDeOwCEPryA3d0eNUu6ODsD4Obmolzm6uIMEgkhoWEa427dqiWDBvZn+87d/PjzGjIyM3h14is08/JSppn0ynhGjfAlLDycnbv2YGtrw8czKh+voqeryxK/hXTwbs/ps+fYun0n1lZWfLp4obL/souzM34L5mFiYsL2nbvZvms3+TIZ096cgmepPAFwcnTgvXfeIio6mpOnzwDFhbnXJ08iJzeXrdt2kJiUxJxZM3B0cKg0vg7e7YmMji7XyrBy1Xe8NvUtXpv6FvmP0QLx5tvv8drUt/Bbtlzt7wYGBpibmxMdE6uyPDc3l1u379CgQX2160VFx1BYWIiHu5tymevD896oUUP0dIvL6cbGxjg5ORIS+uhGp6enx4J5c0hJSWXt+o3ExMbS06cHw4cOVqZxd3djqd8iapmZsWPXbvbtP4izc2OW+C3E1tZWJZZuXbswoF9fjp88SXRs8XHMnP4hw4YMJiIyiv/WrefGjZu8OvEVJr0y4YnzTBsW5ubM/2QOjg72HD12nD1792NuXovZs2ZQu7a1xvWMjIxYtmQxTZt44H/8BOs2biLh2nWGDh6E7/ChynSOjg4sW7IYO1tbdu/dh/+Jk7Rq2YJlny7GwMAAAFNTE1Ys+5Tmzbw4cfIUmzZvRaojZc7HM2jfrq3KfoMvXaaDd7sqH6e28UJxrd+H779LwMVAVv/wEyGhYfTq6YPvsEfpmnl5Mv+Tj7G0tGD3nr1cDglhzKgRdO/aRWMMeXl5xMZeVbkWGzZsgK6uLjo6OjRu3Ei53M3VhYSEayovJW9Pm4qVlRVbt+/kxMlTNG3ahHfemqb8XZt8XPPbHxw/cZICmYz5i/w4feascv1+fXrTtXMnjh71Z+fuPZhbmDPjw/cxNTVRptH2ejUw0Gf2rOk8ePCA7aW6rJT2rGJRp2vnTgwbOpijx/yV+fT+u2/To3s3jesMGTyQaVPfICU1lXXrN+J//AQ2NnWY8/FMTE1NiIqOIScnh9atWqqs17Zta5BIlN11qxL3G69PxsnJkR27dlXYDVqbe1X7dm2ZO3sWenp6bNm2g3PnL9C+XVuWL12icayauXktli/9FC/Pppw8dZpj/sdp5uXJlNcnq6Rr5uXJ9A/eo7CgkK3bd3Dm7Dm8PJsya+ZHFbYiV5anT0qbuKryPB3Qrx/9+vbmfMBFDhw8hIODPYsXzMPFubHGGAYPHMD7775NRnoG6zZs4vyFAHr59GDBvDkVjgd9XvfYspo380IqlapUctk9fLbFlHkelxRENT2PAWxtbFi+dAmNGjXkyFF/9u0/iJ2tDUs/XaSsGCyh7v1FnX37DyjfP66EhGhMl5eXR3hEJB3aV/0ZIrycqrWlpoN3e4IuXeL7Hx8NrDUw0C83HsPayooly5YTFR0DwPkLF1nz42rc3d0IDQvH3s6OXj19OHjoCH//+59yveSUFEaPHIGLszOxMbHIZDLc3VwJuBiIRCLBxbkxt27fxrlRI3R0dCgqKsLNzZWioiIio6I1xm1tba0ST0hoGD//8B0eHm6EhIZSp3ZtevfyYfOWbezYtRuAY8dP8MXypZiYVHyj9vHpjpOjo0pN0+UrV1j51Rf07unDmt/+oE3rlsgVcr5d/YOylnbvvgP8vuYnPNzdVGogvLw8Wbb8c+UNycLcnMED+hMUfImVq75T1gyW5FVlvDybcubs+UrTVTdLSwsAlZe8EllZ2VhbWaldTyaTER0Tq1qYdXHm1u3bODk60rBRQ2JiYnF1cUYikRAa9qgwq6enx5Gj/mzfuQuAU6fP8PnypbiXeimdNGE812/cYPGny5Q1RCdOnuLrL1cwasRwlWvb3c2Vj2bOJienuFa0dauWtGjeTKVm98hRf1JT7zFk0AAOHTnC3buJj5Vf2vL0bIqpqSmfff4l16/fAIoLgm9OeY2GDRqQmnpP7XquLs7UqlWLn35ew6mHL6MHDx3hkzkf08Tj0YQFo0f6kp+fz+IlS8nNLa6VvHfvPm9Pm0rbNq05feYsw4cOwdDQiNmfzOf+/fvF2zp8hMUL5jHplfEEXAxUXqexV+MYP24MtWtba4ztSeKF4taszVu2Kc/7ufMXqF+/Hh4ej877uDGjSUvPYKHfUuX5vHw5hMUL51VYqA8LD2ek73BMTU3Izs7B1cWFe/fuYWJigqurCxGRURgaGlKvXl1279mrsm5ScjL/++ZbFAoFp06fQSKR0LtXT3R1dSksLNQqH+/eTSQtPR25XK5sLS4p2BsZGfHJgkXK83T79h2mf/g+DerXJyw8okrXq52dHdu272DLNs0twM8qFnXMzMz44aeflfeyg4cOs2jhPEaOGM7p02coUNPNq03rViQmJrH6h5+Uf+tBwZfwW7RAGVfwpcu0atkCiUSivGbbt23LtWvXSUxMqnLcRkaGLFm2otJW28ruVTo6OowbM5qEa9dYsmyFshvbpSsh+C2cT9/evdi5e0+57Q4ZNAgzU1MW+i0hLj4BKH6WffX5ZyrpvNu3Izsnh2UrvlDmTXp6Bj49umFhYa6xu6g2efoktImrKs9TaytLZs75RHnvOX7iFF99/hkjR/iy4ouvyu3fwsKCEb7D2Lf/AP+t26BcHhoaztzZM+nWtTPH/E+ojf153WPL8vJsSnx8gkoLSMnzOKvM8zg3Nxe5XI65uebxnSN8h6Grq8OiT5cpY/E/cYKvv1jB6JEjVLr8l31/qQ5Xr8bRvXvXatueULNVa0uNTCbDxdlZpYbym2+/Z+nyz1XS3blzV1mAgOIX2+ycHPT19IDiC18qlbJ3/36V9Q4cPIxcXkSL5s0oKCwkKjpaeZOv6+SEoaEhu/fsQ09fn4YNGgDg5upKTEws+fn5GuMuG09WVhZZWVno6+kD0KpVC6RSHY75H1c51lOlaiI1ade2DVevxikLNADJySl8t/oHAoOCAdi0ZRuT35im0u3E0sICqVSqzJMSiYmJKjeEJk080NPXZ9fuPSo3sYOHjlTaX9vQ0BA7Oztu3b5d6XFUNzNTMwAePCj/wpiX9wB9fb1yy0uEhoVRt25djI2NkUgkuLo4c+jw0eJC7sPuL26uLhQUFKicV4Bjx4+r/DsxMQm9h3lsYWFBgwb1OXLUX+WGn56RweUrIeVeli8EXFS+AENxF5N79++rdFWB4kIREglNtJjN7EmVdE3p3rULRkZGAERGRTF91pwKuw+EhIbx6mtTVK5pHR0dLMzNlfmjo6ND61YtOXnqjPJhC3D23Hl+//Nvbt+5AxTnQ1BwsPIBByhf3C0tLZW1goBy3FSjhqo1epXRJt7Syp73O3fuKv++LSwsqF+/HoePHFU5n9ExMcRe1dxlBh62GEskym5Xri7OREXHEBt7VbnMxbkxUqlUpdUQirtalv6bvZuYhFQqVdb2ViUf1bkQcFHlPCUmFnfzLMmfql6vR44dr3B/zzKWsu7fv8/Zc4+6LRUUFrJv/0EsLSw0zui1ZNkKPp47T+Vv3draWiWuoKBgzM3Nadyo+JlmYW6Om5ursotUVeM+5n9C6/E+Fd2rHOztsbGpw6HDR1Xu8zExscTFx9OieTO122zZohkhYWHKAg0UP3+Pnzylkk4mk2FqakrHDt7K63H33n1MnzWnwvFv2uTpk9Amrqo8T88HXFSpTEm9d4/TZ8/RtIm72laXJh7u6Ovrc+jwUZXlIaGhpKen08TDQ2Psz+seW1ajhg3LPfNLnsd5ZZ7HCoWCvLz8cvlWWovmzTh/IUAlluzsHE6cOo2nZ1N0dR/VnZd9f6kON2/dok7t2piamlbrdoWaqVpbatZt2MT7777NUr9FJCYmEh4RycXAoHJdv1LU9MktfaO3talDgUxWruY2Ly+P+/fTsbEpHrgeFhbBuLGjMTY2wtXVmaysLM6dv8CU117F1dWF6zdu0KhhA7ZWULsIxX37K4rHpo4NDx48IDMrSyVNUpLm/tCPjsVGbe1U6YFtRUVFODo40L59W+o6OWFra4OTo6PKzUAZa4pqrHa2NgDcvKV6k3rw4AGpao6rtJLZtdS1lmijiYe7yviP+IQElRtxRXJzcwHUdpMwMjIiO0dzn/CwsAjGjpbg5upCUnIyJiYmREZFEXs1DlfX4q6Hbq6uREVFq/QPlslkZGSU6fJR6jzb2RU/CKZNfYNpU98ot9+yAyXLnQs7W6ytrFj3719q434WN92g4EtcvhJC3z696dG9G1HR0YSEhnP27DnSMzI0rqdQKDA0MqJnB28aNmyArY0NTk5OGBsbEZ9Q/AJU29oaqVSHO3dVB20WFRVx9Jg/UDyuzsamDnZ2dnTp3EntvkrnQ25uLkVFRVhUUBP4uPGWKCgoKHfeS/99K/+GbpafmOLmzVvUc3LSGEdcfPE17+7mSlDwJVxcnNm2YydmpqYM6N8fiUSCm5sr+fn55QpI5cYmlIqpqvmoTumXOgAFqi/TVbleCwsLSU9//MkcqjMWde7cvVuusFDSn79OnTpqx3MUFhbi2bQJzZt54eBgj72dXbmXwSuhYRQUFNC6VQuuxsXRpk1rJKW6nlU17rL3DE0qu1eVPANLXnJLu337jkpX7hISiYQ6deoQFHyp3G9lr/29+w7QzMuLd956k1fGjyUiMorgS5cJuBioMqanLG3y9EloE1dVnqe3b5fPvxs3byKV6mBtZVXub7TkGbFqZflWHACzCq7T53WPLcvcwrzcmKuch89jA0NDKPWckEgkGBoaqFT2lGZkZISpqanafLxz+w4SiQRra+tHEwFpef1XRcl7mYWF+WO/ywgvj2ot1Fy+EsKHMz6mbZvWtGjuhXf7dvT06UFgUDDffLta+dBR1xVAleY+uwqFHB2d4hfp0PBwxkskuLq44OriQkxsLIWFhVyNj8fN1Zn4+Hh0dXWV4280kcsrntVDV1cHdZVrFQ1ge7SubqXp2rVtw7tvTyMlJZUrISGEhIYRFxfPJ3PKD8YtO+FCUZHmbefna374ABgaFBcoZLKCCtNp8vGMj4pvgg/5Lf2sXJ9cTUpesE3VdN8zNTGpsDYw4do1cnJycHd3w9y8Frm5udy5c5fo6Gj69O6Fnq4ujRs3YvOWbSrrVdZyVVIA+uOvv1VqMjUpey4KZAVcu36dX3//U236J3kp1FZRURFffr0SV1cX2rZuRdMmTXhl/FhGDB/KVytXEaWhG6ajgwNz58xCX0+PoOBLnLtwgZtbttKndy/lWJySl4KKrme5XE5hYRFnzp7myMOHcFlluxHJZDIMjar2vRpt4lXGVMmsPU/yNySXy4mMisTd3Q0bmzqYm5sTE3sVE2NjRo7wLZ5F0NWViMioctdfYYHmv7vHyceyKrvPVuV6rehFVhvVGYs6Fd2fdTWMc5gwbgwDB/QnKiqayKhozp47T0ZmFvPmfKxMk5+fT1h4OK1atmTj5q20b9eWq1fjlBVhVY1bJtPcY6C0yu5VFY1rUSgUGicb0fS3W/b8pqSmMueT+TRv3oxWLVvQtGkTvNu3w3fYUPyWLCtXwVdCmzytirLHoU1cVXmeqms1k8tL3lPK/30WyApAoWDRp8soUvPeUNEMmM/zHluaoYFBufOdUfI8NjWh1Lw9GBkZIZVKNT6PK5qkU/4wb0ve16D8M7M6yB7eo41e8G+eCc9GtRVqdHV1sbOzJS0tHf/jJ/A/fgJ9fX0mThhHT58eNG7USKULVkWSU5LR09fH2tqKe/ceNWkaGBhgbW3F2XPF/aZv3LhJVlYWbm6uuLo4c/Rh94jo6Fh8enQjIeE62dnZJFy79kTHlpScgrFxcY1E6ZoAWxubStdNTEpWW1PV06cHtczM2L5zF77DhhB79SqfrfhS5SarzSxYJTVJTo6OKvmro6ODjU0d7qfd17SqctY4ExPjSvejzmtT33qs9QBycnLIyMjA2bmRynJDQ0McHBwIj9DcRK1QKAgPj8DdzRUzU1NiY6+iUCiIionFd/gwOnfqiJ6eXoWTQ6hTUpusUFBuNrtmXp6Vr5+SQr369bh27brKebQwN6dp0yak3U+rUjyPw8rKCgMDfWJiYpUFzHp16+K3aD5DBw/SWKjp6dMdA319Znw8V+Ua713qo33JyckoFAplbWVpE8aPJS4unvMXAkhOScHQ0LBcHtavVxcnJyeuXbuuXKajo4ORkVH5WulKaBOvtkpajus6OXHp8hWV3xwc7CtdPzQ0nEkTx9PMy5P8vDxu3ryFrq4uRUVFNPXwwLlxIzZu2lLluKqSj4/jRbheqysWBwd7lXEvAHUfjuVUN8OYqakJA/r3KzdOyNGx/OQqgYHBTJ3yOo0bN8LD3Y216x+NpXheeVhyTA52duVm6nJwsCcpWX1viNTUVJzUtDw62Kte5/b2duTnywgMCiYwKBiJRELXzp2Y9uYUunfryq4y48OganmqrdrWqhUU2sRVleeputjqOjlSUFBAenr5lu3klBSQSMjJzVEpOEilUjp4t+PWLc1duZ/XPbaszMzMcmOBS1r8nBs3UrmenB8OJSjbclQiN/cBOcq0bTsAACAASURBVDk52NvblfvNwcEeFApS1FyL1alkAoqqPkOEl1O1janRkUr5YvkylRmFZDKZsutV2e4GFQkNC0culzOgzEfc+vXpjVSqw5WHL6sKhYKw8AjatWmNjY2NsotBVHQMtWrVokvnjoSFRzzxNwtCw8JQKBT06PZoMJqeri5dOnesdN0rV0Jwd3Olfv16ymXGxkaMHumL7cNuL7a2tqSnZ6jE6eLsjJmZWaXbD4+IRCaTKacyLdGzR3flmApNMjIzKSgowNLSstL9PA2nTp+lmaencpAiFE82oaury8nTpytYE0LDI2jUsCFNm3goz3ts7FXk8iIGDexPRkZGlb9zk5WVRUxMLP379sbY+FFBr0H9+syeNYOmlUxxfTEoGEsLC3x6dFdZ/vrkSUyb+gayCmrmq0vf3j356vPlKt0Pbty8WdwVsYK/Azs7O2QymUo3A1NTU2V3PiiubY+IiKRb1y4q3QZdXZwZ2L8fBvrFY1QCA4Np06qlyjVvYGDArJnT6de3t+rL38MukPfuaT9JgLbxais9I4OEa9fo3csHY+NHfzP16tZV242nrNDwcKRSHfr37cPVuHjkcjkymYyEhOJtGhgYVNparE5V8rHCKlMNntr1+hxisbayUpn1SUdHh4ED+5OVlUWCmhc8WxsbJBJJuRrosjOdAQRduoxCoWDq65ORSiRcuHCx2uJ+XHfu3CUlNZU+fXqpjP1wcXbGxdmZEA0zRgVfvkIzL0+VcUaGhob09Omuku7taVNVZvdUKBQEPyzwa3qeViVPyyppybMv8zJf9ov22sRVleepd/t2WFs/mpTGytKSrl06ExQcrPY4wyMiyMvLY8TwYSrP2z69evLu229V+Cx9XvfYslJT76k8c6H4eoqPT6Bzp44qhb8unTuRlZVVrrKntCshoXTwbq+yTWNjY7p37UJ4ZJQWPXOejKWFBUVFRaQ9g54Qwouv2lpq8mUygi9dpm+fnujr6xGfcI16dZ3o2MGbGzdvVqlW8c6duxw95k//fn2pVasWUVHRNGzYAJ/u3Qi4GKhS2xwaFkYH7/YUFRUp+6XGXr2KXC7H3t6ePXv3q99JFdy8eYsTJ08xZvRIzM1rkZiUTOdOHXnwsKm5ou4t+w4cpHu3LsyfO5sDBw+RkZmFT49uGBkZsWdfcWwRkZG0a9uGMaNGcP3GTRo1bEi3rp3Jzc3FzdUVJydHjTVAmZmZ7Nm3H99hQ5k7exZBwZdwdLCne9culU4AUFRURExMLI0aNsD/uPoZW56mQ0eO0LlTB+bMmsH+g4extLBg+NDBXAi4qJy5S5PQsDB0dHQe9pcvbpHIz8/n2vUbNGrYkNNnzj5WYXbDps3Mmzsbv0XzOXXqDEVFRfTr24esrCwOHjxc4bphYeFcvhLC65Mn0bBhA+Li4nFzdaFNm9Zs37FLOY7oaQq4GMjAAf1ZvGAe/sdPoEBBqxYtcHJyYvvO3RrXC4+IoEXzZrzz1psEX7qMtZUV/fv1AYUCO1tbPJs2ISw8gnUbN+G3YB5+i+Zz/MQpdHV0GDigH4mJicpxBnv3H6Brl07Mnzubo/7HSUlJoUvnTlhZWvLrb3+o7Ldxo0YUFhYSW2rMw9Q3XsPFuTErvvxaY7cHbePV1oaNm5nz8QyWLF7E8ZMnMdA3oG+fXty4eRP7SsYE3L2byL3797G3t+d8qRfe6JgYBg7oz/3799WOfaiMtvmYn5+PgYEBPbp1JTI6mntaziL3NK7X5xVLTk4Ob0+bSuNGDbl3P42O3u1xdm7MH3/9rXaSmFu3bpORkcGwoYMxMDQkIyODli2a4/ZwVsXWrVqSkHCN9IwMMjMziY29iqurC9HRMdxPe9T68rz+5ouKitiwcTPvv/MWC+fN5ey589Qyr0X/vn1ITb3HvgOH1K63Z+8+unbuxPy5czh0+AjZ2dl069qFnNxcSn9i+fz5AF6ZMI7Zs2YQFHwJSwtz2rdrR15ensYPHVYlT8vKysrizp27DB44AJmsgHv379OpY4dylRTaxKXN87RkULtUKsVv4XyOHPVHIpXQy6cHCoVC4yx/2dk5bNuxk/Fjx2BqakJg0CWsLC0Z0L8vkZFRFfYOeF732LIiIqPo3KlDueVbtm1n5vQP+eiD97gQEICHuzudOnbgr7//rfDDm5u3bqdli+YsWbyQQ4ePUiSX07NHN4yNjdmwcVOFsVSHxo0bcfVqnMr42c8/W0JaWjpffL3yqe9feLFU6+xnv/z6G0ePHadF82a89upEWrVqScDFQD7/4usqf432r3/+47+163F0cOCV8WNxdm7Mlm3b+e77H1XShYUVv7gkXLumvKgfPHigHCT6ODWk6vz2x1/s2r2Xdm3bMmTQQMIjIpQvuepm8CqRn5/P/EV+BF+6TPdu3Rg3ZjR5D/JY+tkKZUFlzW9/EBgURE+fHrw6cQI2NnVY6LeEjZu3YG9vR59KutRs2bqdP//+BzNTU8aOHkm9enX536rviC4z85c6V0JDlQ+dZy019R6fLltBSmoq48eOpnOnjhw8fFRl2mRNkpNTSElJQS6Xq4x/KTnmxz3vUdExLF6yjLT7aQweNIDBgwYQHx/Pp8uWq7zMaPK/b75l5649uDo35tWJE2jUqCF//f0vW7Ztf6x4qiouPoGVq77jwYMH+A4fxojhwzEwMODb1T9U+CHC/QcOsWv3Xjzc3Xjjtcm0atmCn375lVXffc+DBw+YNLH4mxsJCddY6LeUtLR0fIcNYUD/voRHRLJsxZfK/tI5OTnMW7CYy1dC6NjBmwnjxgLw+Zdfl3vou7m6Eh0do9LXuk6d2jg5OVX4zQdt49VWaFg4n634iozMDIYNGULbtq3ZsXM3u/fs02r9kmliSwrYgHLmvce9FrXNx7Nnz3M1Lo7Jr07Es2nlLUulVff1+rxiCQ+P4IeffsHD3Z3RI32RSCX88NPPHDmqfsxBvkzGV/9bReq9e4zyHcZI32FkZmby8Zx5nDx1mk4dvFVaZgODi2eqPHu+/PT3z+tv/tz5C3z+1UrkcjmjR42gc8eOBFwMZN7CRRrHdmRkZDJv4WLCI8Lp0b0r/fr2ISY2lm9WrVZJt//gIdat34hNnTpMetiFPCk5maXLP1f5WHJpVc3Tsr75djWxcXGMGD6U9999GxfnxsqPZFclrqo8T3/65VeuhIbRo3s3Bvbvx42bt1jot0TtF+xL7Nm7nx9++gUjIyMmjB1Np04dOHL0GP9b9W2FY2Ge1z22rJDQUOzt7KhVq5bK8stXQvjfN99iYmzMa6++Sr16dVnz2+8cOnJUw5aKJSUlMW/BYhKuXadfvz4MHTyQ5OQUFiz+VKuxqU/KzdW13DE7OTmq7cInvPwkdg6OT9Y36/8Ba2srWjRvzqXLV1SmLRw3djS9e/ow9a13q1xoe1HUqlWL779dyfyFflXuriUIT0IikfD9d9/wz79ruRBwUeW3mdM/4Lc//hL9pIVKrVi2hKSkJFat/uGp7WPI4IGMHjmCdz/4SFyTz4CFuTlZ2dk19rn6oluxbAn+J05y6PCR5x3KE3FwsOeL5cv4YPrMCicXEv7/qNaWmpdVgayAiRPGMeX1yTg6OGBoaEirli3o2aM7Bw4ertE33szMTM6cPUe3rp0rTywI1ah5My8KCwvLfT/HyckRY2NjMjPVz7AkCM9SyWD0yMgoUaB5RtIzMmr0c/VFt+/AwZfimd+taxfOnb8gCjSCkijUaCEzK4tvvl1NXSdHvvpiOX/8+jMzPnqfU6fPKL/4XJNt3LSFDt7tMTevVXliQagmvsOH8vc//5XrsuHSuDF//PnPE0/wIQhPyqdHN9575y0cHBw4Wurjy4JQk50+c5bCwkJatWzxvEN5bLXMzOjcsQMbNm5+3qEILxDR/awKigem10ZPV4+7iYmVfkugJmnVsgX5+fmER0Q+71CE/wesrKzo4N2OvfsOPO9QhBquU0dvcnMfVDhD0+OaPWsG9eo6cfzkKbZu2yEK2sJLw9HBAXc31xpbWG/i4Y6xsTGBQcHPOxThBSIKNYIgCIIgCIIg1Gii+5kgCIIgCIIgCDWaKNQIgiAIgiAIglCjiUKNIAiCIAiCIAg1mijUCIIgCIIgCIJQo4lCjSAIgiAIgiAINZoo1AiCIAiCIAiCUKOJQo0gCIIgCIIgCDWaKNQIgiAIgiAIglCjiUKNIAiCIAiCIAg1mijUCIIgCIIgCIJQo4lCjSAIgiAIgiAINZoo1AiCIAiCIAiCUKOJQo0gCIIgCIIgCDWaKNQIgiAIgiAIglCjiUKNIAiCIAiCIAg1mijUCIIgCIIgCIJQo4lCjSAIgiAIgiAINZoo1AiCIAiCIAiCUKPpPu8ABEF4cejp6ODdpimN6zugoyPqPISXT1GRnLjrdzgfGE5BUdHzDkcQBEGoJhI7B0fF8w5CEIQXQ5f2zciXFRAcehW5XP68wxGEaieVSmnl5YyBvh6nLoQ873AEQRCEaiKqYgVBUGpc30EUaISXmlwuJzj0Ko3rOzzvUARBEIRqVG3dz3p068rUKa9Xmi4g4CI//PQLf//5G//8t44DBw9VVwhVZmxsxG+//MTvf/7N0WP+zy2O6tbMyxNXVxe2bN0OgLl5LX76/jt+XvMbJ0+dfiYxfP3FCq7GxfHzmt+eyf7UKZsPNcXihfPIzc3lq/+teub71tGRigKN8NKTy+Wie6UgCMJLptoKNVfj41m7foPy3xYWFgzs34/LV0IIj4hQLr97N7G6dilo4ObmyoC+fZQv83K5gqSkJPIePHhmMdy7d4+MzMxntj91yuaDIAiCIAiC8HKqtqqqmzdvsXffAeV/J06eAiAqKlplefCly9W1y5eCnp4eurpPd76GrKwsps+aQ0Bg0BNtR0dHR+u0K778mvUbNj3R/sqSSCQYGhpW6za1oekcVSU/XhauLs58u/Ir9DRcs7NmfMjkSROeSSxzZ8+kl0+PcsvbtmnNimWfIpU+/Zr4gf378cXypU99P6D5eC0tLPjlx++wtrZ+6jE0atiAtf/8gZmZ6VPf19Ahg3j/3bfKLZdIJCxf5ke7tm00rvssrwFBEAThxfBcZz+TSGDQwP507OCNvZ0dd+8msm7jJsLCwlXSdfBuT5/ePalfrx45ubkEBFxky7YdPKik5cHGpg6vjBtL48aNkEqlJFy7zoaNm7lx82a5OAYPHECXzh2xsrIqTrdpM3Fx8co0tczMGDXSl+bNmmFey4zklFQOHj7MkaOq3dYqi7Vli+Z8PHM677z3ISN8h9HB25sFi/xYvHAeN27cZMWXX6tsb8yoEQwdPIgPZswiNfUerq4ujPQdRl0nJwwNDEhMSubAwUOceNitbPHCebi5ugKw7t+/WLt+AydOnmbNT9+rdD8zMDBg3JhReHk2xcLCghs3b3Lg4GEuBFxU7ruZlxdzZ89kkd9SJk96hUaNGvLgwQOiomP4+5//SE5J0Zj3X65YRnzCNWX3M23zrzQDAwP+/O0XVq76jjp1atO/b1+279iJ/4mTmJmZMX7saDzc3alVy4zr12+wfeduQkJDNebDuXMX+P67b1j9w0+cO39BuR9XVxf8Fs5nkd9SrsbFqT1H8xcuxtbWVuv8qCy+Er16+uDTvRu2tjZcv36DLdt3aMwPlbzR12f4sKG0atkcWxsbsnNyiIiMYv3Gzdy/f1+Zrm2b1gweNAAnR0dkMhlR0TGsW7+xwnNXkYmvjGPXnr0UFBaq/T0sPIKsrOzH2jaAh4c7Cz6ZzeQ3plFQUKAxXYsWzXCwt8f/xMlyv10MDGLYkEF069JZ7e/V6dbtWwQGX3qibaz95w++/HolV0LCNKap6HjT0tM5deYsY0b58uPPvz5RLJXJysrm5KkzFZ6byiyYN4erV+PYsGmLxjTm5rUYMmgAC/3KFxgVCgVbt+1k4oRxBAVfokjNDGbP8hoQBEEQXgzPtRqrX5/edO3ciaNH/dm5ew/mFubM+PB9TE1NlGkGDxzA++++TUZ6Bus2bOL8hQB6+fRgwbw5FdaU29rYsHzpEho1asiRo/7s238QO1sbln66iMaNGqqkHdCvH/369uZ8wEUOHDyEg4M9ixfMw8W5sTLNjOkf0sG7PcGXLrFx81aysrJ4ffKrtG/X9rFifeP1yTg5ObJj1y7SMzIIDArGw8O9XEtE2zZtiI6NJTX1Hi7OzvgtmIeJiQnbd+5m+67d5MtkTHtzCp6eTQFY89sfHD9xkgKZjPmL/Dh95my5vJFKpfgtnI9Pj+5cvhLCpi1bKSws4sP336VP717l0n/4/jtkZGbw489r2H/gIF6eTXnvnfI1qBXRJv806da1CwP69eX4yZNEx8ZiamrCimWf0ryZFydOnmLT5q1IdaTM+XiGcnva5ENlSp+j0l3pKssPbeIDGDliOK9PnkRObi5bt+0gMSmJObNm4OhQ+QDm6R+9z8AB/bgSEso/a9cTfOkyrVu1VKnZbublyfQP3qOwoJCt23dw5uw5vDybMmvmR0gkkirnh7ubK44ODpw5e15jmgMHD3Pm7Lkqb7uqBvbry8lTp9W+0AIcP3mK/v36PPU4roSEsXnLtqe+n0qP9/gpvNu3w9LC4qnGkZKayi+//k5eXv5T3Y9Pj+5cu36DO3fuqv390uUr6Onp0bZ1K43beFbXgCAIgvBieK4tNUZGRnyyYBG5ucWtGLdv32H6h+/ToH59wsIjsLCwYITvMPbtP8B/6x6N1wkNDWfu7Jl069qZY/4n1G57hO8wdHV1WPTpMmXNtf+JE3z9xQpGjxyh0iJibWXJzDmfkJp6D4DjJ07x1eefMXKELyu++AorKytcXZz5d+069h8ontjg+MmTfLpoIY0aNuBCwMUqx2pkZMiSZStQKIpn1A64GEhPnx40b+albC1xdHDAwcGeP/4q3meb1i2RK+R8u/oHkpOLa9r37jvA72t+wsPdjbCwcO7eTSQtPR25XE5CwjUATE1Vu4p07dKJ+vXrserb1couaYcOH2XOxzMY6TuMk6dOk5eXp0x/NzGRr1d+q4zVxMSEvr17oaenp1WNrTb5VxF3N1c+mjmbnJwcACZOGIehoRGzP5mvPLcHDx9h8YJ5THplPAEXA9Xmg5WlZaWxllb2HJWoLD+GDx1SaXzmtWoxeEB/goIvsXLVd8ptJaekMHrkiArj0tfXp5mnJ8dPnmLt+o3K5ffu3WfUSF90dXUpLCzEu307snNyWLbiC+Xg//T0DHx6dMPCwpy0tPQq5Uenjh0Ij4hUuTZKfDzzI5p5eSKRSDhy9Bh//bNW5fce3briO3wo+w8eok+vnhgbG3P+wgX+/Ps/FAoFbdu05oP33lam/+PXnwDIy8tj6lvvqWzL0sKCJk08WFtB98bAoEtMnvQKDerX49r1G1U6Tm0MGtifMaOKz9OdO3eZM2+hyu+2tjas/Opz/vzrX3r38sHa2oq4uAR++HkNmZmZmJqa8tP3jyaCmDXjI+X/L/JbSsK168p/a3O8t27fJjU1FW/vdsq/serk3LgRixfOA4orRd569wOVFrnKjhdg+TI/6jo5IZVKcXdzZeCAfgCs37CJfWVi7tTBm2P+xzXGI5fLuXT5Ch07enNew/3jaV8DgiAIwovlubbUXAi4qCzQACQmJgHFYxgAmni4o6+vz6HDR1XWCwkNJT09nSYeHhq33aJ5M85fCFDpipOdncOJU6fx9GyqMkbifMBFZYEGIPXePU6fPUfTJu7o6OhQWFAACgVtWreidu3ifuu5uQ/4eO481m/c/FixHvM/ofKyHBEZRU5ODq1atlAua9u2NUVFRZy/UPzQ3rRlG5PfmKYs0EDxC49UKkX/YZ5po0Xz5qSkpKiMsVEoFBw4eBhTU9NyLVn+x0+qxHr7zl2QSNDT065MrE3+VeRCwEVlgQaKu/AFBQernFuFQsGp02ewtLTEztZWq7gqU/YclagsP7SJr0kTD/T09dm1e4/Ktg4eOkKhhq5dJWQyGa++PpVff/9TZbm1tRUSiUTZKiiTyTA1NaVjB2/lst179zF91pwqF2gAPNxdiYtPUPvbV/9bxcTJU7h8RfN3PywszKllZsbM2XPxW/oZXbt0pnWr4uv9YmAQEydPYfkXxZUNr099m4mTp5Qr0AC4u7tSICvgZplupKWlpaWRlpZGEw/3qhyi1vbs3c/EyVPYsFFzFyoo7v7nt3Q57380C3PzWgwdPBCA7OxsJk6ewsTJUwD4euUq5b9LF2hAu+MFiItPeGrHezUunomTp7D402UVptN0vADzFvgxcfIUIqOilfk3cfKUcgUaC3Nz7O3tNF5rJeLi4/Fwd9PY6vi0rwFBEAThxfJcW2pKv5wDKFB9gbSzK345XbXyK7Xrm5mqH6xqZGSEqakpt2/fKffbndt3kEgkWFtbk5VVXIOoLt2NmzeRSnWwtrIiOSWFLdu2M8J3ON+u/Jq4+HjCIyI5e+48N2/eeqxYU1JSVf5dVFREUPAlWrZojkQiQaFQ0K5NG66EhJKdna1M4+jgQPv2banr5IStrQ1Ojo5VnmjAxqaO2m4dJflgY2NDeESkxljVvehXJDMrq9L8q0jp/UulUmxs6mBnZ0eXzp3Upi/bMvW4yh63puWl80Pb+OxsbQC4eeu2ym8PHjwgNVX9fkuTKxR06tgBN1cXbG1tcHR0LNf1aO++AzTz8uKdt97klfFjiYiMIvjSZQIuBiKTySrdR1m1a9cm7X5aldcrbduOXRQVyblz5y5xcfE0atiQwKCqjUmpXbs2GZmZFBVVPPX0/bR06tSp8yThPrE9+/Yrx9NdDArGs2mTKm9D6+O9n0bz5l6PFWd1qa7jBbifVvG1lpaWjrGxMSYmJsp7ZFkvwjUgCIIgPBvPtVCjabCx8ndZcQ3/ok+XUSQv35dcXTcYKB74r4n84Qto6W8UqHtJl8sVD2Ms7l61bccuzp6/QLu2bfDy9GRg/34MHTSQ/9ZvZN/+A1WOVSYr3yc94GIgXbt0xsXFmbT7aTRoUJ/de/cpf2/Xtg3vvj2NlJRUroSEEBIaRlxcPJ/MmaX5gNWQoD6DFGryBlB7PFVVWf5VJL/UC7hcLqewsIgzZ09zRMO3hao6bbimGZLUnSOoOD+0ja+i2uP8/IoLHAYGBsyeOR0XF2eCL10mLCyCg4eOYG9vx/ixY5TpUlJTmfPJfJo3b0arli1o2rQJ3u3b4TtsKH5LlpGZlVXhfkqTSCTo6uoie4IB4pmZmSqFqQd5eSrj57Slr6+vVbfHgoIC9PW1b8F8GkoXUPMe5GFq8pSPV0+/ytuvTtVzvMXnrLJjLvm9onP8IlwDgiAIwrPxXAs1lUlOSQGJhJzcHJUXValUSgfvdtwqU8tdIjf3ATk5Odjb25X7zcHBHhQKUpJT0Hv4sHN0LD8wu66TIwUFBaSnZ2BiYoKlpQWJiUns2r2XXbv3YmFuzswZHzJ6pC/7Dxx87FhLCw0NIy8vj9YtW5CRkUl+Xh7BpWZW8h02hNirV/lsxZflWgeqIjklmfr16qvPGyApKblK26uMNvlXldaf5JQUDA0NlWNlStSvVxcnJyeulem+U5na1TwVrjbxlcw+5uToyNW4OGUaHR0dbGzqcD/tPpp4eTbFw8OdZcs/JyIySrm8dy8flXT29nbk58sIDAomMCgYiURC186dmPbmFLp368quPXu1PiaFQkF2ds5jFUJKlFQUqKr6hAVZmVlaxWFqYlKlgtvTIC9zXT/G/AzaH6+pCVkvwfGWnDNTE1PS0zM0pjMxMUGhUFQ4296LcA0IgiAIz8YLPYl/eEQEeXl5jBg+TKXfdJ9ePXn37bewrGDg95WQUDp4t8fS8lGXHGNjY7p37UJ4ZJRKK5F3+3ZYW1sp/21laUnXLp0JCg5GoVDg3LgRX674jBbNmynTpGdkEB+fgEIuRyKRPFGsJQoKC7l0+QqtW7WkbdvWXAwKVmmlsLW1JT09Q6UA4OLsjJmZWfmNVfA2cSUkFBubOrRu1bJUcgn9+/UlJyeHuPh4jes+Dm3yryoCA4Np06ol9evXUy4zMDBg1szp9OvbW7WAVGrbJefc3k51zE23Lp2rtP/qiC88IhKZTMaQwQNVjr9nj+4YGRlVuP2Sro6lx8VIJBJatWihku7taVP5uNQAdIVCQfDlK8r/r6pr169T18mxyutVReHD2veKZjZMuH4dMzMzzM1raUyjp6uLnZ0t8fHXNKaxsrKklrq/nWessLAQHR3N9UvaHC+Ak5MTcQmax6HUMjPDyqpqk2U8DYUFBRWe37t3E8nPz8epkmutrpMjt27d1tiio801IAiCILw8XuiWmuzsHLbt2Mn4sWMwNTUhMOgSVpaWDOjfl8jIKEJCNX/XYfPW7bRs0Zwlixdy6PBRiuRyevbohrGxMRs2qs4iVDLF8ZGj/kikEnr59EChULBlW/E3Q6JjYklLS2Pa1DdoUL8eaekZuLm60LFDe475n0Aulz9RrKUFXAykg3d7UCjYvmO3ym8RkZG0a9uGMaNGcP3GTRo1bEi3rp3Jzc3FzdUVp4cP+fz8fAwMDOjRrSuR0dFkZ+eobOfEydP06d2LD957hwOHDpOSkkLbNm3w8mzKX//8pzJ5Q3XQJv+qYu/+A3Tt0on5c2dz1P84KSkpdOncCStLS3797Q9lurL5kJiYxJ07dxk8cAAyWQH37t+nU8cOuLq6VOvxahNfZmYme/btx3fYUObOnkVQ8CUcHezp3rULt25X3KoXGRmFQqFg2ptT8D9+Ah0dKT26d1OOqenSuSOnTp3h/PkAXpkwjtmzZhAUfAlLC3Pat2tHXl7eY32I9fLlEHx8ulU9Q6ogOSUFuVxOB+92nDt/gaLConLdVOPjE8jMzMLDzU3jzFfOzo1RyBUqY8PKWr3qf8TExPLpshXVegxVlZiYROtWLYmOiUUmk1FYWKhS6NTmePX19WnUsAG7nYkXrgAABZBJREFUdmtuffvg/XfwcHdj0mtTKh2f8zQlJiXRtIkH1lZWZGZlUVRUpHIPKCoqIjQsHA93N85fCNC4HXd3Ny5duaLxd22ugRKff7aEtLR0vvh6ZdUORhAEQXhhvNCFGiieZSgtLZ0+vXsyYexoMrOzOXL0GNt27KzwZTgpKYl5CxYzYfxY+vXrg66ODvHxCaxa/UO5wek//fIrTZs2oUf3bpiYGBN7NY7/1q1XDqbPy8tjxZdfM2bUSHr69MDYyIiU1FQ2bdnGvv0HnzjW0i5fCaFAJuNBXh5h4aofIV3z2x+8OnECPX16UFRURHRMLAv9ltC8mRejR46gT6+e/PHXP5w9e542rVsx+dWJ/Lt2fbkXg6KiIvyWfMa4MaNo27oV5ubm3Lx1m29X/1Dp9MqPQ9v801ZOTg7zFizmlQnj6NjBG1MTE27cvMnnX35NaKkPt5bNh8TEJL75djWvTprAiOFDMTA0JCsri5/X/Mb7775dwR6fTnxbtm4nIyODHt26MXb0SK7fuMH/Vn1H2zatK6xRj4tP4Mef1zB86GBee3Uid+7e5cTJU5w6fYYFn8xl3JjRhISGsf/gIaRSKd27dWXShHHkPnhQvO4va0hKSqrycZ06c5bRo3xp2KC+ygxdJR/MLK13r54AfDRjNilaTHxQIiMjk//WbcB32BBenzyJgoICXp+qem6Kioo4fuIknTt11PiS36ljB85duEBubq7a340ftoal3tPcza8ia//5Q+2/f/n1d06eOlOlbf3971penTiBH1d/g66uLgsXLyG+VNdFbY63bZtWZGRkqlxfZRkbGXH/fpqGboAVWzBvDh7ubsp///zDdwCcPHWGX379vUrb2r1nP2+96cCXny/D0NCQdes3sbfMuLojR/159+1p/Lt2vdrZAK2trHBzdWHNb3+U+61EZddAaU5OjhgYGFTpOARBEIQXi8TOwbHqTzhBeAlYmJuTlZ2t8YOG/x+9MW4Af27UXNAcNWI4dra2rP7x52cYVXlmZqZ89flyli7/vNzshRYW5ny54jMW+i3ROD6sVcsWTP/wPT6Zv7jSlrEXQUXHK5FIWPbpIvYfPMTpM+o/fGpsbMwvP37H3/+s1TiBxYtm4fy5nD13nqPHjpf7rfhbVYblpjUvoc018NqYvvy+fp/a3wRBEISa54UeUyMIT1N6RoYo0FTRrj37uHX7NnpVnEa8umVlZfPzmt/UflC1Tu3a/Pn3PxVOeNGkiTvnLwTUiAINVHy85ua1OHchgDNnz2tc38Pdjfv37+N/4uTTDLNa/fHXP2pbuCUSCenpGWzesk3jutpcA4IgCMLLRbTUCIKgVFlLjSC8LERLjSAIwstFtNQIgiAIgiAIglCjiUKNIAhKRUXyKn/3SBBqGqlU+lxngBMEQRCqn3h7EQRBKe76HVp5OYuCjfDSkkqltPJyJu76ncoTC4IgCDWGGFMjCIKSno4O3m2a0ri+Azo6omAjvHyKiuTEXb/D+cBwCsREIYIgCC8NUagRBEEQBEEQBKFGE1WxgiAIgiAIgiDUaKJQIwiCIAiCIAhCjSYKNYIgCIIgCIIg1GiiUCMIgiAIgiAIQo0mCjWCIAiCIAiCINRoolAjCIIgCIIgCEKNJgo1giAIgiAIgiDUaKJQIwiCIAiCIAhCjSYKNYIgCIIgCIIg1GiiUCMIgiAIgiAIQo0mCjWCIAiCIAiCINRoolAjCIIgCIIgCEKNJgo1giAIgiAIgiDUaKJQIwiCIAiCIAhCjSYKNYIgCIIgCIIg1GiiUCMIgiAIgiAIQo0mCjWCIAiCIAiCINRoolAjCIIgCIIgCEKNJgo1giAIgiAIgiDUaKJQIwiCIAiCIAhCjSYKNYIgCIIgCIIg1GiiUCMIgiAIgiAIQo32f1ObrsS0aN96AAAAAElFTkSuQmCC)"
      ]
    },
    {
      "cell_type": "code",
      "execution_count": null,
      "metadata": {
        "id": "SGsLTiZzHkOY"
      },
      "outputs": [],
      "source": [
        "# epsilon for small probability to one of the actions\n",
        "# for exploratory learning\n",
        "epsilon = 0.1\n",
        "\n",
        "# Policy\n",
        "pi = np.full(states, epsilon / 2)\n",
        "\n",
        "# discount factor\n",
        "gamma = 0.9\n",
        "\n",
        "# Q function\n",
        "Q = np.zeros(states)\n",
        "\n",
        "# Counts of visits ( for finding average)\n",
        "count = np.zeros(states)"
      ]
    },
    {
      "cell_type": "code",
      "execution_count": null,
      "metadata": {
        "colab": {
          "base_uri": "https://localhost:8080/"
        },
        "id": "Pnw2tK93Rpuf",
        "outputId": "4e798fce-f62a-4211-ff6f-47e0909c766e"
      },
      "outputs": [
        {
          "name": "stderr",
          "output_type": "stream",
          "text": [
            "/usr/local/lib/python3.10/dist-packages/gymnasium/wrappers/record_video.py:94: UserWarning: \u001b[33mWARN: Overwriting existing videos at /content/video folder (try specifying a different `video_folder` for the `RecordVideo` wrapper if this is not desired)\u001b[0m\n",
            "  logger.warn(\n"
          ]
        }
      ],
      "source": [
        "# number of episodes to train upon\n",
        "episodes = 100000\n",
        "\n",
        "# Recording the video\n",
        "env = RecordVideo(env, './video',  episode_trigger = lambda episode_number: ((episode_number%10000 == 0) or episode_number < 100 or episode_number == 1000))\n"
      ]
    },
    {
      "cell_type": "code",
      "execution_count": null,
      "metadata": {
        "id": "aNaT0tEZK59O"
      },
      "outputs": [],
      "source": [
        "\n",
        "def show_video(number: int):\n",
        "\n",
        "        mp4 = f'./video/rl-video-episode-{number}.mp4'\n",
        "        video = io.open(mp4, 'r+b').read()\n",
        "        encoded = base64.b64encode(video)\n",
        "        ipythondisplay.display(HTML(data='''<video alt=\"test\" autoplay\n",
        "                loop controls style=\"height: 400px;\">\n",
        "                <source src=\"data:video/mp4;base64,{0}\" type=\"video/mp4\" />\n",
        "             </video>'''.format(encoded.decode('ascii'))))"
      ]
    },
    {
      "cell_type": "code",
      "execution_count": null,
      "metadata": {
        "colab": {
          "base_uri": "https://localhost:8080/"
        },
        "id": "1aEfdwu1ifMH",
        "outputId": "70bc4e74-1758-45fc-f413-b961e1678b9e"
      },
      "outputs": [
        {
          "name": "stdout",
          "output_type": "stream",
          "text": [
            "Moviepy - Building video /content/video/rl-video-episode-0.mp4.\n",
            "Moviepy - Writing video /content/video/rl-video-episode-0.mp4\n",
            "\n"
          ]
        },
        {
          "name": "stderr",
          "output_type": "stream",
          "text": [
            "/usr/local/lib/python3.10/dist-packages/gymnasium/wrappers/monitoring/video_recorder.py:178: UserWarning: \u001b[33mWARN: Unable to save last video! Did you call close()?\u001b[0m\n",
            "  logger.warn(\"Unable to save last video! Did you call close()?\")\n"
          ]
        },
        {
          "name": "stdout",
          "output_type": "stream",
          "text": [
            "Moviepy - Done !\n",
            "Moviepy - video ready /content/video/rl-video-episode-0.mp4\n",
            "Moviepy - Building video /content/video/rl-video-episode-1.mp4.\n",
            "Moviepy - Writing video /content/video/rl-video-episode-1.mp4\n",
            "\n"
          ]
        },
        {
          "name": "stderr",
          "output_type": "stream",
          "text": []
        },
        {
          "name": "stdout",
          "output_type": "stream",
          "text": [
            "Moviepy - Done !\n",
            "Moviepy - video ready /content/video/rl-video-episode-1.mp4\n",
            "Moviepy - Building video /content/video/rl-video-episode-2.mp4.\n",
            "Moviepy - Writing video /content/video/rl-video-episode-2.mp4\n",
            "\n"
          ]
        },
        {
          "name": "stderr",
          "output_type": "stream",
          "text": []
        },
        {
          "name": "stdout",
          "output_type": "stream",
          "text": [
            "Moviepy - Done !\n",
            "Moviepy - video ready /content/video/rl-video-episode-2.mp4\n",
            "Moviepy - Building video /content/video/rl-video-episode-3.mp4.\n",
            "Moviepy - Writing video /content/video/rl-video-episode-3.mp4\n",
            "\n"
          ]
        },
        {
          "name": "stderr",
          "output_type": "stream",
          "text": []
        },
        {
          "name": "stdout",
          "output_type": "stream",
          "text": [
            "Moviepy - Done !\n",
            "Moviepy - video ready /content/video/rl-video-episode-3.mp4\n",
            "Moviepy - Building video /content/video/rl-video-episode-4.mp4.\n",
            "Moviepy - Writing video /content/video/rl-video-episode-4.mp4\n",
            "\n"
          ]
        },
        {
          "name": "stderr",
          "output_type": "stream",
          "text": [
            "                                                  "
          ]
        },
        {
          "name": "stdout",
          "output_type": "stream",
          "text": [
            "Moviepy - Done !\n",
            "Moviepy - video ready /content/video/rl-video-episode-4.mp4\n"
          ]
        },
        {
          "name": "stderr",
          "output_type": "stream",
          "text": [
            "\r"
          ]
        },
        {
          "name": "stdout",
          "output_type": "stream",
          "text": [
            "Moviepy - Building video /content/video/rl-video-episode-5.mp4.\n",
            "Moviepy - Writing video /content/video/rl-video-episode-5.mp4\n",
            "\n"
          ]
        },
        {
          "name": "stderr",
          "output_type": "stream",
          "text": []
        },
        {
          "name": "stdout",
          "output_type": "stream",
          "text": [
            "Moviepy - Done !\n",
            "Moviepy - video ready /content/video/rl-video-episode-5.mp4\n",
            "Moviepy - Building video /content/video/rl-video-episode-6.mp4.\n",
            "Moviepy - Writing video /content/video/rl-video-episode-6.mp4\n",
            "\n"
          ]
        },
        {
          "name": "stderr",
          "output_type": "stream",
          "text": []
        },
        {
          "name": "stdout",
          "output_type": "stream",
          "text": [
            "Moviepy - Done !\n",
            "Moviepy - video ready /content/video/rl-video-episode-6.mp4\n",
            "Moviepy - Building video /content/video/rl-video-episode-7.mp4.\n",
            "Moviepy - Writing video /content/video/rl-video-episode-7.mp4\n",
            "\n"
          ]
        },
        {
          "name": "stderr",
          "output_type": "stream",
          "text": []
        },
        {
          "name": "stdout",
          "output_type": "stream",
          "text": [
            "Moviepy - Done !\n",
            "Moviepy - video ready /content/video/rl-video-episode-7.mp4\n",
            "Moviepy - Building video /content/video/rl-video-episode-8.mp4.\n",
            "Moviepy - Writing video /content/video/rl-video-episode-8.mp4\n",
            "\n"
          ]
        },
        {
          "name": "stderr",
          "output_type": "stream",
          "text": []
        },
        {
          "name": "stdout",
          "output_type": "stream",
          "text": [
            "Moviepy - Done !\n",
            "Moviepy - video ready /content/video/rl-video-episode-8.mp4\n",
            "Moviepy - Building video /content/video/rl-video-episode-9.mp4.\n",
            "Moviepy - Writing video /content/video/rl-video-episode-9.mp4\n",
            "\n"
          ]
        },
        {
          "name": "stderr",
          "output_type": "stream",
          "text": []
        },
        {
          "name": "stdout",
          "output_type": "stream",
          "text": [
            "Moviepy - Done !\n",
            "Moviepy - video ready /content/video/rl-video-episode-9.mp4\n",
            "Moviepy - Building video /content/video/rl-video-episode-10.mp4.\n",
            "Moviepy - Writing video /content/video/rl-video-episode-10.mp4\n",
            "\n"
          ]
        },
        {
          "name": "stderr",
          "output_type": "stream",
          "text": []
        },
        {
          "name": "stdout",
          "output_type": "stream",
          "text": [
            "Moviepy - Done !\n",
            "Moviepy - video ready /content/video/rl-video-episode-10.mp4\n",
            "Moviepy - Building video /content/video/rl-video-episode-11.mp4.\n",
            "Moviepy - Writing video /content/video/rl-video-episode-11.mp4\n",
            "\n"
          ]
        },
        {
          "name": "stderr",
          "output_type": "stream",
          "text": []
        },
        {
          "name": "stdout",
          "output_type": "stream",
          "text": [
            "Moviepy - Done !\n",
            "Moviepy - video ready /content/video/rl-video-episode-11.mp4\n",
            "Moviepy - Building video /content/video/rl-video-episode-12.mp4.\n",
            "Moviepy - Writing video /content/video/rl-video-episode-12.mp4\n",
            "\n"
          ]
        },
        {
          "name": "stderr",
          "output_type": "stream",
          "text": []
        },
        {
          "name": "stdout",
          "output_type": "stream",
          "text": [
            "Moviepy - Done !\n",
            "Moviepy - video ready /content/video/rl-video-episode-12.mp4\n",
            "Moviepy - Building video /content/video/rl-video-episode-13.mp4.\n",
            "Moviepy - Writing video /content/video/rl-video-episode-13.mp4\n",
            "\n"
          ]
        },
        {
          "name": "stderr",
          "output_type": "stream",
          "text": [
            "                                                  "
          ]
        },
        {
          "name": "stdout",
          "output_type": "stream",
          "text": [
            "Moviepy - Done !\n",
            "Moviepy - video ready /content/video/rl-video-episode-13.mp4\n"
          ]
        },
        {
          "name": "stderr",
          "output_type": "stream",
          "text": [
            "\r"
          ]
        },
        {
          "name": "stdout",
          "output_type": "stream",
          "text": [
            "Moviepy - Building video /content/video/rl-video-episode-14.mp4.\n",
            "Moviepy - Writing video /content/video/rl-video-episode-14.mp4\n",
            "\n"
          ]
        },
        {
          "name": "stderr",
          "output_type": "stream",
          "text": [
            "                                                  "
          ]
        },
        {
          "name": "stdout",
          "output_type": "stream",
          "text": [
            "Moviepy - Done !\n",
            "Moviepy - video ready /content/video/rl-video-episode-14.mp4\n"
          ]
        },
        {
          "name": "stderr",
          "output_type": "stream",
          "text": [
            "\r"
          ]
        },
        {
          "name": "stdout",
          "output_type": "stream",
          "text": [
            "Moviepy - Building video /content/video/rl-video-episode-15.mp4.\n",
            "Moviepy - Writing video /content/video/rl-video-episode-15.mp4\n",
            "\n"
          ]
        },
        {
          "name": "stderr",
          "output_type": "stream",
          "text": [
            "                                                  "
          ]
        },
        {
          "name": "stdout",
          "output_type": "stream",
          "text": [
            "Moviepy - Done !\n",
            "Moviepy - video ready /content/video/rl-video-episode-15.mp4\n"
          ]
        },
        {
          "name": "stderr",
          "output_type": "stream",
          "text": [
            "\r"
          ]
        },
        {
          "name": "stdout",
          "output_type": "stream",
          "text": [
            "Moviepy - Building video /content/video/rl-video-episode-16.mp4.\n",
            "Moviepy - Writing video /content/video/rl-video-episode-16.mp4\n",
            "\n"
          ]
        },
        {
          "name": "stderr",
          "output_type": "stream",
          "text": [
            "                                                  "
          ]
        },
        {
          "name": "stdout",
          "output_type": "stream",
          "text": [
            "Moviepy - Done !\n",
            "Moviepy - video ready /content/video/rl-video-episode-16.mp4\n"
          ]
        },
        {
          "name": "stderr",
          "output_type": "stream",
          "text": [
            "\r"
          ]
        },
        {
          "name": "stdout",
          "output_type": "stream",
          "text": [
            "Moviepy - Building video /content/video/rl-video-episode-17.mp4.\n",
            "Moviepy - Writing video /content/video/rl-video-episode-17.mp4\n",
            "\n"
          ]
        },
        {
          "name": "stderr",
          "output_type": "stream",
          "text": []
        },
        {
          "name": "stdout",
          "output_type": "stream",
          "text": [
            "Moviepy - Done !\n",
            "Moviepy - video ready /content/video/rl-video-episode-17.mp4\n",
            "Moviepy - Building video /content/video/rl-video-episode-18.mp4.\n",
            "Moviepy - Writing video /content/video/rl-video-episode-18.mp4\n",
            "\n"
          ]
        },
        {
          "name": "stderr",
          "output_type": "stream",
          "text": []
        },
        {
          "name": "stdout",
          "output_type": "stream",
          "text": [
            "Moviepy - Done !\n",
            "Moviepy - video ready /content/video/rl-video-episode-18.mp4\n",
            "Moviepy - Building video /content/video/rl-video-episode-19.mp4.\n",
            "Moviepy - Writing video /content/video/rl-video-episode-19.mp4\n",
            "\n"
          ]
        },
        {
          "name": "stderr",
          "output_type": "stream",
          "text": []
        },
        {
          "name": "stdout",
          "output_type": "stream",
          "text": [
            "Moviepy - Done !\n",
            "Moviepy - video ready /content/video/rl-video-episode-19.mp4\n",
            "Moviepy - Building video /content/video/rl-video-episode-20.mp4.\n",
            "Moviepy - Writing video /content/video/rl-video-episode-20.mp4\n",
            "\n"
          ]
        },
        {
          "name": "stderr",
          "output_type": "stream",
          "text": [
            "                                                  "
          ]
        },
        {
          "name": "stdout",
          "output_type": "stream",
          "text": [
            "Moviepy - Done !\n",
            "Moviepy - video ready /content/video/rl-video-episode-20.mp4\n"
          ]
        },
        {
          "name": "stderr",
          "output_type": "stream",
          "text": [
            "\r"
          ]
        },
        {
          "name": "stdout",
          "output_type": "stream",
          "text": [
            "Moviepy - Building video /content/video/rl-video-episode-21.mp4.\n",
            "Moviepy - Writing video /content/video/rl-video-episode-21.mp4\n",
            "\n"
          ]
        },
        {
          "name": "stderr",
          "output_type": "stream",
          "text": []
        },
        {
          "name": "stdout",
          "output_type": "stream",
          "text": [
            "Moviepy - Done !\n",
            "Moviepy - video ready /content/video/rl-video-episode-21.mp4\n",
            "Moviepy - Building video /content/video/rl-video-episode-22.mp4.\n",
            "Moviepy - Writing video /content/video/rl-video-episode-22.mp4\n",
            "\n"
          ]
        },
        {
          "name": "stderr",
          "output_type": "stream",
          "text": []
        },
        {
          "name": "stdout",
          "output_type": "stream",
          "text": [
            "Moviepy - Done !\n",
            "Moviepy - video ready /content/video/rl-video-episode-22.mp4\n",
            "Moviepy - Building video /content/video/rl-video-episode-23.mp4.\n",
            "Moviepy - Writing video /content/video/rl-video-episode-23.mp4\n",
            "\n"
          ]
        },
        {
          "name": "stderr",
          "output_type": "stream",
          "text": []
        },
        {
          "name": "stdout",
          "output_type": "stream",
          "text": [
            "Moviepy - Done !\n",
            "Moviepy - video ready /content/video/rl-video-episode-23.mp4\n",
            "Moviepy - Building video /content/video/rl-video-episode-24.mp4.\n",
            "Moviepy - Writing video /content/video/rl-video-episode-24.mp4\n",
            "\n"
          ]
        },
        {
          "name": "stderr",
          "output_type": "stream",
          "text": []
        },
        {
          "name": "stdout",
          "output_type": "stream",
          "text": [
            "Moviepy - Done !\n",
            "Moviepy - video ready /content/video/rl-video-episode-24.mp4\n",
            "Moviepy - Building video /content/video/rl-video-episode-25.mp4.\n",
            "Moviepy - Writing video /content/video/rl-video-episode-25.mp4\n",
            "\n"
          ]
        },
        {
          "name": "stderr",
          "output_type": "stream",
          "text": []
        },
        {
          "name": "stdout",
          "output_type": "stream",
          "text": [
            "Moviepy - Done !\n",
            "Moviepy - video ready /content/video/rl-video-episode-25.mp4\n",
            "Moviepy - Building video /content/video/rl-video-episode-26.mp4.\n",
            "Moviepy - Writing video /content/video/rl-video-episode-26.mp4\n",
            "\n"
          ]
        },
        {
          "name": "stderr",
          "output_type": "stream",
          "text": []
        },
        {
          "name": "stdout",
          "output_type": "stream",
          "text": [
            "Moviepy - Done !\n",
            "Moviepy - video ready /content/video/rl-video-episode-26.mp4\n",
            "Moviepy - Building video /content/video/rl-video-episode-27.mp4.\n",
            "Moviepy - Writing video /content/video/rl-video-episode-27.mp4\n",
            "\n"
          ]
        },
        {
          "name": "stderr",
          "output_type": "stream",
          "text": []
        },
        {
          "name": "stdout",
          "output_type": "stream",
          "text": [
            "Moviepy - Done !\n",
            "Moviepy - video ready /content/video/rl-video-episode-27.mp4\n",
            "Moviepy - Building video /content/video/rl-video-episode-28.mp4.\n",
            "Moviepy - Writing video /content/video/rl-video-episode-28.mp4\n",
            "\n"
          ]
        },
        {
          "name": "stderr",
          "output_type": "stream",
          "text": []
        },
        {
          "name": "stdout",
          "output_type": "stream",
          "text": [
            "Moviepy - Done !\n",
            "Moviepy - video ready /content/video/rl-video-episode-28.mp4\n",
            "Moviepy - Building video /content/video/rl-video-episode-29.mp4.\n",
            "Moviepy - Writing video /content/video/rl-video-episode-29.mp4\n",
            "\n"
          ]
        },
        {
          "name": "stderr",
          "output_type": "stream",
          "text": []
        },
        {
          "name": "stdout",
          "output_type": "stream",
          "text": [
            "Moviepy - Done !\n",
            "Moviepy - video ready /content/video/rl-video-episode-29.mp4\n",
            "Moviepy - Building video /content/video/rl-video-episode-30.mp4.\n",
            "Moviepy - Writing video /content/video/rl-video-episode-30.mp4\n",
            "\n"
          ]
        },
        {
          "name": "stderr",
          "output_type": "stream",
          "text": []
        },
        {
          "name": "stdout",
          "output_type": "stream",
          "text": [
            "Moviepy - Done !\n",
            "Moviepy - video ready /content/video/rl-video-episode-30.mp4\n",
            "Moviepy - Building video /content/video/rl-video-episode-31.mp4.\n",
            "Moviepy - Writing video /content/video/rl-video-episode-31.mp4\n",
            "\n"
          ]
        },
        {
          "name": "stderr",
          "output_type": "stream",
          "text": []
        },
        {
          "name": "stdout",
          "output_type": "stream",
          "text": [
            "Moviepy - Done !\n",
            "Moviepy - video ready /content/video/rl-video-episode-31.mp4\n",
            "Moviepy - Building video /content/video/rl-video-episode-32.mp4.\n",
            "Moviepy - Writing video /content/video/rl-video-episode-32.mp4\n",
            "\n"
          ]
        },
        {
          "name": "stderr",
          "output_type": "stream",
          "text": [
            "                                                  "
          ]
        },
        {
          "name": "stdout",
          "output_type": "stream",
          "text": [
            "Moviepy - Done !\n",
            "Moviepy - video ready /content/video/rl-video-episode-32.mp4\n"
          ]
        },
        {
          "name": "stderr",
          "output_type": "stream",
          "text": [
            "\r"
          ]
        },
        {
          "name": "stdout",
          "output_type": "stream",
          "text": [
            "Moviepy - Building video /content/video/rl-video-episode-33.mp4.\n",
            "Moviepy - Writing video /content/video/rl-video-episode-33.mp4\n",
            "\n"
          ]
        },
        {
          "name": "stderr",
          "output_type": "stream",
          "text": []
        },
        {
          "name": "stdout",
          "output_type": "stream",
          "text": [
            "Moviepy - Done !\n",
            "Moviepy - video ready /content/video/rl-video-episode-33.mp4\n",
            "Moviepy - Building video /content/video/rl-video-episode-34.mp4.\n",
            "Moviepy - Writing video /content/video/rl-video-episode-34.mp4\n",
            "\n"
          ]
        },
        {
          "name": "stderr",
          "output_type": "stream",
          "text": [
            "                                                  "
          ]
        },
        {
          "name": "stdout",
          "output_type": "stream",
          "text": [
            "Moviepy - Done !\n",
            "Moviepy - video ready /content/video/rl-video-episode-34.mp4\n"
          ]
        },
        {
          "name": "stderr",
          "output_type": "stream",
          "text": [
            "\r"
          ]
        },
        {
          "name": "stdout",
          "output_type": "stream",
          "text": [
            "Moviepy - Building video /content/video/rl-video-episode-35.mp4.\n",
            "Moviepy - Writing video /content/video/rl-video-episode-35.mp4\n",
            "\n"
          ]
        },
        {
          "name": "stderr",
          "output_type": "stream",
          "text": []
        },
        {
          "name": "stdout",
          "output_type": "stream",
          "text": [
            "Moviepy - Done !\n",
            "Moviepy - video ready /content/video/rl-video-episode-35.mp4\n",
            "Moviepy - Building video /content/video/rl-video-episode-36.mp4.\n",
            "Moviepy - Writing video /content/video/rl-video-episode-36.mp4\n",
            "\n"
          ]
        },
        {
          "name": "stderr",
          "output_type": "stream",
          "text": []
        },
        {
          "name": "stdout",
          "output_type": "stream",
          "text": [
            "Moviepy - Done !\n",
            "Moviepy - video ready /content/video/rl-video-episode-36.mp4\n",
            "Moviepy - Building video /content/video/rl-video-episode-37.mp4.\n",
            "Moviepy - Writing video /content/video/rl-video-episode-37.mp4\n",
            "\n"
          ]
        },
        {
          "name": "stderr",
          "output_type": "stream",
          "text": []
        },
        {
          "name": "stdout",
          "output_type": "stream",
          "text": [
            "Moviepy - Done !\n",
            "Moviepy - video ready /content/video/rl-video-episode-37.mp4\n",
            "Moviepy - Building video /content/video/rl-video-episode-38.mp4.\n",
            "Moviepy - Writing video /content/video/rl-video-episode-38.mp4\n",
            "\n"
          ]
        },
        {
          "name": "stderr",
          "output_type": "stream",
          "text": []
        },
        {
          "name": "stdout",
          "output_type": "stream",
          "text": [
            "Moviepy - Done !\n",
            "Moviepy - video ready /content/video/rl-video-episode-38.mp4\n",
            "Moviepy - Building video /content/video/rl-video-episode-39.mp4.\n",
            "Moviepy - Writing video /content/video/rl-video-episode-39.mp4\n",
            "\n"
          ]
        },
        {
          "name": "stderr",
          "output_type": "stream",
          "text": [
            "                                                  "
          ]
        },
        {
          "name": "stdout",
          "output_type": "stream",
          "text": [
            "Moviepy - Done !\n",
            "Moviepy - video ready /content/video/rl-video-episode-39.mp4\n"
          ]
        },
        {
          "name": "stderr",
          "output_type": "stream",
          "text": [
            "\r"
          ]
        },
        {
          "name": "stdout",
          "output_type": "stream",
          "text": [
            "Moviepy - Building video /content/video/rl-video-episode-40.mp4.\n",
            "Moviepy - Writing video /content/video/rl-video-episode-40.mp4\n",
            "\n"
          ]
        },
        {
          "name": "stderr",
          "output_type": "stream",
          "text": []
        },
        {
          "name": "stdout",
          "output_type": "stream",
          "text": [
            "Moviepy - Done !\n",
            "Moviepy - video ready /content/video/rl-video-episode-40.mp4\n",
            "Moviepy - Building video /content/video/rl-video-episode-41.mp4.\n",
            "Moviepy - Writing video /content/video/rl-video-episode-41.mp4\n",
            "\n"
          ]
        },
        {
          "name": "stderr",
          "output_type": "stream",
          "text": []
        },
        {
          "name": "stdout",
          "output_type": "stream",
          "text": [
            "Moviepy - Done !\n",
            "Moviepy - video ready /content/video/rl-video-episode-41.mp4\n",
            "Moviepy - Building video /content/video/rl-video-episode-42.mp4.\n",
            "Moviepy - Writing video /content/video/rl-video-episode-42.mp4\n",
            "\n"
          ]
        },
        {
          "name": "stderr",
          "output_type": "stream",
          "text": []
        },
        {
          "name": "stdout",
          "output_type": "stream",
          "text": [
            "Moviepy - Done !\n",
            "Moviepy - video ready /content/video/rl-video-episode-42.mp4\n",
            "Moviepy - Building video /content/video/rl-video-episode-43.mp4.\n",
            "Moviepy - Writing video /content/video/rl-video-episode-43.mp4\n",
            "\n"
          ]
        },
        {
          "name": "stderr",
          "output_type": "stream",
          "text": []
        },
        {
          "name": "stdout",
          "output_type": "stream",
          "text": [
            "Moviepy - Done !\n",
            "Moviepy - video ready /content/video/rl-video-episode-43.mp4\n",
            "Moviepy - Building video /content/video/rl-video-episode-44.mp4.\n",
            "Moviepy - Writing video /content/video/rl-video-episode-44.mp4\n",
            "\n"
          ]
        },
        {
          "name": "stderr",
          "output_type": "stream",
          "text": [
            "                                                  "
          ]
        },
        {
          "name": "stdout",
          "output_type": "stream",
          "text": [
            "Moviepy - Done !\n",
            "Moviepy - video ready /content/video/rl-video-episode-44.mp4\n"
          ]
        },
        {
          "name": "stderr",
          "output_type": "stream",
          "text": [
            "\r"
          ]
        },
        {
          "name": "stdout",
          "output_type": "stream",
          "text": [
            "Moviepy - Building video /content/video/rl-video-episode-45.mp4.\n",
            "Moviepy - Writing video /content/video/rl-video-episode-45.mp4\n",
            "\n"
          ]
        },
        {
          "name": "stderr",
          "output_type": "stream",
          "text": []
        },
        {
          "name": "stdout",
          "output_type": "stream",
          "text": [
            "Moviepy - Done !\n",
            "Moviepy - video ready /content/video/rl-video-episode-45.mp4\n",
            "Moviepy - Building video /content/video/rl-video-episode-46.mp4.\n",
            "Moviepy - Writing video /content/video/rl-video-episode-46.mp4\n",
            "\n"
          ]
        },
        {
          "name": "stderr",
          "output_type": "stream",
          "text": []
        },
        {
          "name": "stdout",
          "output_type": "stream",
          "text": [
            "Moviepy - Done !\n",
            "Moviepy - video ready /content/video/rl-video-episode-46.mp4\n",
            "Moviepy - Building video /content/video/rl-video-episode-47.mp4.\n",
            "Moviepy - Writing video /content/video/rl-video-episode-47.mp4\n",
            "\n"
          ]
        },
        {
          "name": "stderr",
          "output_type": "stream",
          "text": []
        },
        {
          "name": "stdout",
          "output_type": "stream",
          "text": [
            "Moviepy - Done !\n",
            "Moviepy - video ready /content/video/rl-video-episode-47.mp4\n",
            "Moviepy - Building video /content/video/rl-video-episode-48.mp4.\n",
            "Moviepy - Writing video /content/video/rl-video-episode-48.mp4\n",
            "\n"
          ]
        },
        {
          "name": "stderr",
          "output_type": "stream",
          "text": []
        },
        {
          "name": "stdout",
          "output_type": "stream",
          "text": [
            "Moviepy - Done !\n",
            "Moviepy - video ready /content/video/rl-video-episode-48.mp4\n",
            "Moviepy - Building video /content/video/rl-video-episode-49.mp4.\n",
            "Moviepy - Writing video /content/video/rl-video-episode-49.mp4\n",
            "\n"
          ]
        },
        {
          "name": "stderr",
          "output_type": "stream",
          "text": []
        },
        {
          "name": "stdout",
          "output_type": "stream",
          "text": [
            "Moviepy - Done !\n",
            "Moviepy - video ready /content/video/rl-video-episode-49.mp4\n",
            "Moviepy - Building video /content/video/rl-video-episode-50.mp4.\n",
            "Moviepy - Writing video /content/video/rl-video-episode-50.mp4\n",
            "\n"
          ]
        },
        {
          "name": "stderr",
          "output_type": "stream",
          "text": [
            "                                                  "
          ]
        },
        {
          "name": "stdout",
          "output_type": "stream",
          "text": [
            "Moviepy - Done !\n",
            "Moviepy - video ready /content/video/rl-video-episode-50.mp4\n"
          ]
        },
        {
          "name": "stderr",
          "output_type": "stream",
          "text": [
            "\r"
          ]
        },
        {
          "name": "stdout",
          "output_type": "stream",
          "text": [
            "Moviepy - Building video /content/video/rl-video-episode-51.mp4.\n",
            "Moviepy - Writing video /content/video/rl-video-episode-51.mp4\n",
            "\n"
          ]
        },
        {
          "name": "stderr",
          "output_type": "stream",
          "text": [
            "                                                  "
          ]
        },
        {
          "name": "stdout",
          "output_type": "stream",
          "text": [
            "Moviepy - Done !\n",
            "Moviepy - video ready /content/video/rl-video-episode-51.mp4\n"
          ]
        },
        {
          "name": "stderr",
          "output_type": "stream",
          "text": [
            "\r"
          ]
        },
        {
          "name": "stdout",
          "output_type": "stream",
          "text": [
            "Moviepy - Building video /content/video/rl-video-episode-52.mp4.\n",
            "Moviepy - Writing video /content/video/rl-video-episode-52.mp4\n",
            "\n"
          ]
        },
        {
          "name": "stderr",
          "output_type": "stream",
          "text": []
        },
        {
          "name": "stdout",
          "output_type": "stream",
          "text": [
            "Moviepy - Done !\n",
            "Moviepy - video ready /content/video/rl-video-episode-52.mp4\n",
            "Moviepy - Building video /content/video/rl-video-episode-53.mp4.\n",
            "Moviepy - Writing video /content/video/rl-video-episode-53.mp4\n",
            "\n"
          ]
        },
        {
          "name": "stderr",
          "output_type": "stream",
          "text": [
            "                                                  "
          ]
        },
        {
          "name": "stdout",
          "output_type": "stream",
          "text": [
            "Moviepy - Done !\n",
            "Moviepy - video ready /content/video/rl-video-episode-53.mp4\n"
          ]
        },
        {
          "name": "stderr",
          "output_type": "stream",
          "text": [
            "\r"
          ]
        },
        {
          "name": "stdout",
          "output_type": "stream",
          "text": [
            "Moviepy - Building video /content/video/rl-video-episode-54.mp4.\n",
            "Moviepy - Writing video /content/video/rl-video-episode-54.mp4\n",
            "\n"
          ]
        },
        {
          "name": "stderr",
          "output_type": "stream",
          "text": [
            "                                                  "
          ]
        },
        {
          "name": "stdout",
          "output_type": "stream",
          "text": [
            "Moviepy - Done !\n",
            "Moviepy - video ready /content/video/rl-video-episode-54.mp4\n"
          ]
        },
        {
          "name": "stderr",
          "output_type": "stream",
          "text": [
            "\r"
          ]
        },
        {
          "name": "stdout",
          "output_type": "stream",
          "text": [
            "Moviepy - Building video /content/video/rl-video-episode-55.mp4.\n",
            "Moviepy - Writing video /content/video/rl-video-episode-55.mp4\n",
            "\n"
          ]
        },
        {
          "name": "stderr",
          "output_type": "stream",
          "text": []
        },
        {
          "name": "stdout",
          "output_type": "stream",
          "text": [
            "Moviepy - Done !\n",
            "Moviepy - video ready /content/video/rl-video-episode-55.mp4\n",
            "Moviepy - Building video /content/video/rl-video-episode-56.mp4.\n",
            "Moviepy - Writing video /content/video/rl-video-episode-56.mp4\n",
            "\n"
          ]
        },
        {
          "name": "stderr",
          "output_type": "stream",
          "text": [
            "                                                  "
          ]
        },
        {
          "name": "stdout",
          "output_type": "stream",
          "text": [
            "Moviepy - Done !\n",
            "Moviepy - video ready /content/video/rl-video-episode-56.mp4\n"
          ]
        },
        {
          "name": "stderr",
          "output_type": "stream",
          "text": [
            "\r"
          ]
        },
        {
          "name": "stdout",
          "output_type": "stream",
          "text": [
            "Moviepy - Building video /content/video/rl-video-episode-57.mp4.\n",
            "Moviepy - Writing video /content/video/rl-video-episode-57.mp4\n",
            "\n"
          ]
        },
        {
          "name": "stderr",
          "output_type": "stream",
          "text": [
            "                                                  "
          ]
        },
        {
          "name": "stdout",
          "output_type": "stream",
          "text": [
            "Moviepy - Done !\n",
            "Moviepy - video ready /content/video/rl-video-episode-57.mp4\n"
          ]
        },
        {
          "name": "stderr",
          "output_type": "stream",
          "text": [
            "\r"
          ]
        },
        {
          "name": "stdout",
          "output_type": "stream",
          "text": [
            "Moviepy - Building video /content/video/rl-video-episode-58.mp4.\n",
            "Moviepy - Writing video /content/video/rl-video-episode-58.mp4\n",
            "\n"
          ]
        },
        {
          "name": "stderr",
          "output_type": "stream",
          "text": []
        },
        {
          "name": "stdout",
          "output_type": "stream",
          "text": [
            "Moviepy - Done !\n",
            "Moviepy - video ready /content/video/rl-video-episode-58.mp4\n",
            "Moviepy - Building video /content/video/rl-video-episode-59.mp4.\n",
            "Moviepy - Writing video /content/video/rl-video-episode-59.mp4\n",
            "\n"
          ]
        },
        {
          "name": "stderr",
          "output_type": "stream",
          "text": []
        },
        {
          "name": "stdout",
          "output_type": "stream",
          "text": [
            "Moviepy - Done !\n",
            "Moviepy - video ready /content/video/rl-video-episode-59.mp4\n",
            "Moviepy - Building video /content/video/rl-video-episode-60.mp4.\n",
            "Moviepy - Writing video /content/video/rl-video-episode-60.mp4\n",
            "\n"
          ]
        },
        {
          "name": "stderr",
          "output_type": "stream",
          "text": []
        },
        {
          "name": "stdout",
          "output_type": "stream",
          "text": [
            "Moviepy - Done !\n",
            "Moviepy - video ready /content/video/rl-video-episode-60.mp4\n",
            "Moviepy - Building video /content/video/rl-video-episode-61.mp4.\n",
            "Moviepy - Writing video /content/video/rl-video-episode-61.mp4\n",
            "\n"
          ]
        },
        {
          "name": "stderr",
          "output_type": "stream",
          "text": []
        },
        {
          "name": "stdout",
          "output_type": "stream",
          "text": [
            "Moviepy - Done !\n",
            "Moviepy - video ready /content/video/rl-video-episode-61.mp4\n",
            "Moviepy - Building video /content/video/rl-video-episode-62.mp4.\n",
            "Moviepy - Writing video /content/video/rl-video-episode-62.mp4\n",
            "\n"
          ]
        },
        {
          "name": "stderr",
          "output_type": "stream",
          "text": []
        },
        {
          "name": "stdout",
          "output_type": "stream",
          "text": [
            "Moviepy - Done !\n",
            "Moviepy - video ready /content/video/rl-video-episode-62.mp4\n",
            "Moviepy - Building video /content/video/rl-video-episode-63.mp4.\n",
            "Moviepy - Writing video /content/video/rl-video-episode-63.mp4\n",
            "\n"
          ]
        },
        {
          "name": "stderr",
          "output_type": "stream",
          "text": []
        },
        {
          "name": "stdout",
          "output_type": "stream",
          "text": [
            "Moviepy - Done !\n",
            "Moviepy - video ready /content/video/rl-video-episode-63.mp4\n",
            "Moviepy - Building video /content/video/rl-video-episode-64.mp4.\n",
            "Moviepy - Writing video /content/video/rl-video-episode-64.mp4\n",
            "\n"
          ]
        },
        {
          "name": "stderr",
          "output_type": "stream",
          "text": []
        },
        {
          "name": "stdout",
          "output_type": "stream",
          "text": [
            "Moviepy - Done !\n",
            "Moviepy - video ready /content/video/rl-video-episode-64.mp4\n",
            "Moviepy - Building video /content/video/rl-video-episode-65.mp4.\n",
            "Moviepy - Writing video /content/video/rl-video-episode-65.mp4\n",
            "\n"
          ]
        },
        {
          "name": "stderr",
          "output_type": "stream",
          "text": []
        },
        {
          "name": "stdout",
          "output_type": "stream",
          "text": [
            "Moviepy - Done !\n",
            "Moviepy - video ready /content/video/rl-video-episode-65.mp4\n",
            "Moviepy - Building video /content/video/rl-video-episode-66.mp4.\n",
            "Moviepy - Writing video /content/video/rl-video-episode-66.mp4\n",
            "\n"
          ]
        },
        {
          "name": "stderr",
          "output_type": "stream",
          "text": [
            "                                                  "
          ]
        },
        {
          "name": "stdout",
          "output_type": "stream",
          "text": [
            "Moviepy - Done !\n",
            "Moviepy - video ready /content/video/rl-video-episode-66.mp4\n"
          ]
        },
        {
          "name": "stderr",
          "output_type": "stream",
          "text": [
            "\r"
          ]
        },
        {
          "name": "stdout",
          "output_type": "stream",
          "text": [
            "Moviepy - Building video /content/video/rl-video-episode-67.mp4.\n",
            "Moviepy - Writing video /content/video/rl-video-episode-67.mp4\n",
            "\n"
          ]
        },
        {
          "name": "stderr",
          "output_type": "stream",
          "text": [
            "                                                  "
          ]
        },
        {
          "name": "stdout",
          "output_type": "stream",
          "text": [
            "Moviepy - Done !\n",
            "Moviepy - video ready /content/video/rl-video-episode-67.mp4\n"
          ]
        },
        {
          "name": "stderr",
          "output_type": "stream",
          "text": [
            "\r"
          ]
        },
        {
          "name": "stdout",
          "output_type": "stream",
          "text": [
            "Moviepy - Building video /content/video/rl-video-episode-68.mp4.\n",
            "Moviepy - Writing video /content/video/rl-video-episode-68.mp4\n",
            "\n"
          ]
        },
        {
          "name": "stderr",
          "output_type": "stream",
          "text": []
        },
        {
          "name": "stdout",
          "output_type": "stream",
          "text": [
            "Moviepy - Done !\n",
            "Moviepy - video ready /content/video/rl-video-episode-68.mp4\n",
            "Moviepy - Building video /content/video/rl-video-episode-69.mp4.\n",
            "Moviepy - Writing video /content/video/rl-video-episode-69.mp4\n",
            "\n"
          ]
        },
        {
          "name": "stderr",
          "output_type": "stream",
          "text": []
        },
        {
          "name": "stdout",
          "output_type": "stream",
          "text": [
            "Moviepy - Done !\n",
            "Moviepy - video ready /content/video/rl-video-episode-69.mp4\n",
            "Moviepy - Building video /content/video/rl-video-episode-70.mp4.\n",
            "Moviepy - Writing video /content/video/rl-video-episode-70.mp4\n",
            "\n"
          ]
        },
        {
          "name": "stderr",
          "output_type": "stream",
          "text": []
        },
        {
          "name": "stdout",
          "output_type": "stream",
          "text": [
            "Moviepy - Done !\n",
            "Moviepy - video ready /content/video/rl-video-episode-70.mp4\n",
            "Moviepy - Building video /content/video/rl-video-episode-71.mp4.\n",
            "Moviepy - Writing video /content/video/rl-video-episode-71.mp4\n",
            "\n"
          ]
        },
        {
          "name": "stderr",
          "output_type": "stream",
          "text": []
        },
        {
          "name": "stdout",
          "output_type": "stream",
          "text": [
            "Moviepy - Done !\n",
            "Moviepy - video ready /content/video/rl-video-episode-71.mp4\n",
            "Moviepy - Building video /content/video/rl-video-episode-72.mp4.\n",
            "Moviepy - Writing video /content/video/rl-video-episode-72.mp4\n",
            "\n"
          ]
        },
        {
          "name": "stderr",
          "output_type": "stream",
          "text": []
        },
        {
          "name": "stdout",
          "output_type": "stream",
          "text": [
            "Moviepy - Done !\n",
            "Moviepy - video ready /content/video/rl-video-episode-72.mp4\n",
            "Moviepy - Building video /content/video/rl-video-episode-73.mp4.\n",
            "Moviepy - Writing video /content/video/rl-video-episode-73.mp4\n",
            "\n"
          ]
        },
        {
          "name": "stderr",
          "output_type": "stream",
          "text": []
        },
        {
          "name": "stdout",
          "output_type": "stream",
          "text": [
            "Moviepy - Done !\n",
            "Moviepy - video ready /content/video/rl-video-episode-73.mp4\n",
            "Moviepy - Building video /content/video/rl-video-episode-74.mp4.\n",
            "Moviepy - Writing video /content/video/rl-video-episode-74.mp4\n",
            "\n"
          ]
        },
        {
          "name": "stderr",
          "output_type": "stream",
          "text": []
        },
        {
          "name": "stdout",
          "output_type": "stream",
          "text": [
            "Moviepy - Done !\n",
            "Moviepy - video ready /content/video/rl-video-episode-74.mp4\n",
            "Moviepy - Building video /content/video/rl-video-episode-75.mp4.\n",
            "Moviepy - Writing video /content/video/rl-video-episode-75.mp4\n",
            "\n"
          ]
        },
        {
          "name": "stderr",
          "output_type": "stream",
          "text": []
        },
        {
          "name": "stdout",
          "output_type": "stream",
          "text": [
            "Moviepy - Done !\n",
            "Moviepy - video ready /content/video/rl-video-episode-75.mp4\n",
            "Moviepy - Building video /content/video/rl-video-episode-76.mp4.\n",
            "Moviepy - Writing video /content/video/rl-video-episode-76.mp4\n",
            "\n"
          ]
        },
        {
          "name": "stderr",
          "output_type": "stream",
          "text": []
        },
        {
          "name": "stdout",
          "output_type": "stream",
          "text": [
            "Moviepy - Done !\n",
            "Moviepy - video ready /content/video/rl-video-episode-76.mp4\n",
            "Moviepy - Building video /content/video/rl-video-episode-77.mp4.\n",
            "Moviepy - Writing video /content/video/rl-video-episode-77.mp4\n",
            "\n"
          ]
        },
        {
          "name": "stderr",
          "output_type": "stream",
          "text": []
        },
        {
          "name": "stdout",
          "output_type": "stream",
          "text": [
            "Moviepy - Done !\n",
            "Moviepy - video ready /content/video/rl-video-episode-77.mp4\n",
            "Moviepy - Building video /content/video/rl-video-episode-78.mp4.\n",
            "Moviepy - Writing video /content/video/rl-video-episode-78.mp4\n",
            "\n"
          ]
        },
        {
          "name": "stderr",
          "output_type": "stream",
          "text": []
        },
        {
          "name": "stdout",
          "output_type": "stream",
          "text": [
            "Moviepy - Done !\n",
            "Moviepy - video ready /content/video/rl-video-episode-78.mp4\n",
            "Moviepy - Building video /content/video/rl-video-episode-79.mp4.\n",
            "Moviepy - Writing video /content/video/rl-video-episode-79.mp4\n",
            "\n"
          ]
        },
        {
          "name": "stderr",
          "output_type": "stream",
          "text": []
        },
        {
          "name": "stdout",
          "output_type": "stream",
          "text": [
            "Moviepy - Done !\n",
            "Moviepy - video ready /content/video/rl-video-episode-79.mp4\n",
            "Moviepy - Building video /content/video/rl-video-episode-80.mp4.\n",
            "Moviepy - Writing video /content/video/rl-video-episode-80.mp4\n",
            "\n"
          ]
        },
        {
          "name": "stderr",
          "output_type": "stream",
          "text": []
        },
        {
          "name": "stdout",
          "output_type": "stream",
          "text": [
            "Moviepy - Done !\n",
            "Moviepy - video ready /content/video/rl-video-episode-80.mp4\n",
            "Moviepy - Building video /content/video/rl-video-episode-81.mp4.\n",
            "Moviepy - Writing video /content/video/rl-video-episode-81.mp4\n",
            "\n"
          ]
        },
        {
          "name": "stderr",
          "output_type": "stream",
          "text": []
        },
        {
          "name": "stdout",
          "output_type": "stream",
          "text": [
            "Moviepy - Done !\n",
            "Moviepy - video ready /content/video/rl-video-episode-81.mp4\n",
            "Moviepy - Building video /content/video/rl-video-episode-82.mp4.\n",
            "Moviepy - Writing video /content/video/rl-video-episode-82.mp4\n",
            "\n"
          ]
        },
        {
          "name": "stderr",
          "output_type": "stream",
          "text": []
        },
        {
          "name": "stdout",
          "output_type": "stream",
          "text": [
            "Moviepy - Done !\n",
            "Moviepy - video ready /content/video/rl-video-episode-82.mp4\n",
            "Moviepy - Building video /content/video/rl-video-episode-83.mp4.\n",
            "Moviepy - Writing video /content/video/rl-video-episode-83.mp4\n",
            "\n"
          ]
        },
        {
          "name": "stderr",
          "output_type": "stream",
          "text": []
        },
        {
          "name": "stdout",
          "output_type": "stream",
          "text": [
            "Moviepy - Done !\n",
            "Moviepy - video ready /content/video/rl-video-episode-83.mp4\n",
            "Moviepy - Building video /content/video/rl-video-episode-84.mp4.\n",
            "Moviepy - Writing video /content/video/rl-video-episode-84.mp4\n",
            "\n"
          ]
        },
        {
          "name": "stderr",
          "output_type": "stream",
          "text": []
        },
        {
          "name": "stdout",
          "output_type": "stream",
          "text": [
            "Moviepy - Done !\n",
            "Moviepy - video ready /content/video/rl-video-episode-84.mp4\n",
            "Moviepy - Building video /content/video/rl-video-episode-85.mp4.\n",
            "Moviepy - Writing video /content/video/rl-video-episode-85.mp4\n",
            "\n"
          ]
        },
        {
          "name": "stderr",
          "output_type": "stream",
          "text": []
        },
        {
          "name": "stdout",
          "output_type": "stream",
          "text": [
            "Moviepy - Done !\n",
            "Moviepy - video ready /content/video/rl-video-episode-85.mp4\n",
            "Moviepy - Building video /content/video/rl-video-episode-86.mp4.\n",
            "Moviepy - Writing video /content/video/rl-video-episode-86.mp4\n",
            "\n"
          ]
        },
        {
          "name": "stderr",
          "output_type": "stream",
          "text": []
        },
        {
          "name": "stdout",
          "output_type": "stream",
          "text": [
            "Moviepy - Done !\n",
            "Moviepy - video ready /content/video/rl-video-episode-86.mp4\n",
            "Moviepy - Building video /content/video/rl-video-episode-87.mp4.\n",
            "Moviepy - Writing video /content/video/rl-video-episode-87.mp4\n",
            "\n"
          ]
        },
        {
          "name": "stderr",
          "output_type": "stream",
          "text": []
        },
        {
          "name": "stdout",
          "output_type": "stream",
          "text": [
            "Moviepy - Done !\n",
            "Moviepy - video ready /content/video/rl-video-episode-87.mp4\n",
            "Moviepy - Building video /content/video/rl-video-episode-88.mp4.\n",
            "Moviepy - Writing video /content/video/rl-video-episode-88.mp4\n",
            "\n"
          ]
        },
        {
          "name": "stderr",
          "output_type": "stream",
          "text": []
        },
        {
          "name": "stdout",
          "output_type": "stream",
          "text": [
            "Moviepy - Done !\n",
            "Moviepy - video ready /content/video/rl-video-episode-88.mp4\n",
            "Moviepy - Building video /content/video/rl-video-episode-89.mp4.\n",
            "Moviepy - Writing video /content/video/rl-video-episode-89.mp4\n",
            "\n"
          ]
        },
        {
          "name": "stderr",
          "output_type": "stream",
          "text": []
        },
        {
          "name": "stdout",
          "output_type": "stream",
          "text": [
            "Moviepy - Done !\n",
            "Moviepy - video ready /content/video/rl-video-episode-89.mp4\n",
            "Moviepy - Building video /content/video/rl-video-episode-90.mp4.\n",
            "Moviepy - Writing video /content/video/rl-video-episode-90.mp4\n",
            "\n"
          ]
        },
        {
          "name": "stderr",
          "output_type": "stream",
          "text": []
        },
        {
          "name": "stdout",
          "output_type": "stream",
          "text": [
            "Moviepy - Done !\n",
            "Moviepy - video ready /content/video/rl-video-episode-90.mp4\n",
            "Moviepy - Building video /content/video/rl-video-episode-91.mp4.\n",
            "Moviepy - Writing video /content/video/rl-video-episode-91.mp4\n",
            "\n"
          ]
        },
        {
          "name": "stderr",
          "output_type": "stream",
          "text": []
        },
        {
          "name": "stdout",
          "output_type": "stream",
          "text": [
            "Moviepy - Done !\n",
            "Moviepy - video ready /content/video/rl-video-episode-91.mp4\n",
            "Moviepy - Building video /content/video/rl-video-episode-92.mp4.\n",
            "Moviepy - Writing video /content/video/rl-video-episode-92.mp4\n",
            "\n"
          ]
        },
        {
          "name": "stderr",
          "output_type": "stream",
          "text": []
        },
        {
          "name": "stdout",
          "output_type": "stream",
          "text": [
            "Moviepy - Done !\n",
            "Moviepy - video ready /content/video/rl-video-episode-92.mp4\n",
            "Moviepy - Building video /content/video/rl-video-episode-93.mp4.\n",
            "Moviepy - Writing video /content/video/rl-video-episode-93.mp4\n",
            "\n"
          ]
        },
        {
          "name": "stderr",
          "output_type": "stream",
          "text": []
        },
        {
          "name": "stdout",
          "output_type": "stream",
          "text": [
            "Moviepy - Done !\n",
            "Moviepy - video ready /content/video/rl-video-episode-93.mp4\n",
            "Moviepy - Building video /content/video/rl-video-episode-94.mp4.\n",
            "Moviepy - Writing video /content/video/rl-video-episode-94.mp4\n",
            "\n"
          ]
        },
        {
          "name": "stderr",
          "output_type": "stream",
          "text": [
            "                                                  "
          ]
        },
        {
          "name": "stdout",
          "output_type": "stream",
          "text": [
            "Moviepy - Done !\n",
            "Moviepy - video ready /content/video/rl-video-episode-94.mp4\n"
          ]
        },
        {
          "name": "stderr",
          "output_type": "stream",
          "text": [
            "\r"
          ]
        },
        {
          "name": "stdout",
          "output_type": "stream",
          "text": [
            "Moviepy - Building video /content/video/rl-video-episode-95.mp4.\n",
            "Moviepy - Writing video /content/video/rl-video-episode-95.mp4\n",
            "\n"
          ]
        },
        {
          "name": "stderr",
          "output_type": "stream",
          "text": [
            "                                                  "
          ]
        },
        {
          "name": "stdout",
          "output_type": "stream",
          "text": [
            "Moviepy - Done !\n",
            "Moviepy - video ready /content/video/rl-video-episode-95.mp4\n"
          ]
        },
        {
          "name": "stderr",
          "output_type": "stream",
          "text": [
            "\r"
          ]
        },
        {
          "name": "stdout",
          "output_type": "stream",
          "text": [
            "Moviepy - Building video /content/video/rl-video-episode-96.mp4.\n",
            "Moviepy - Writing video /content/video/rl-video-episode-96.mp4\n",
            "\n"
          ]
        },
        {
          "name": "stderr",
          "output_type": "stream",
          "text": [
            "                                                  "
          ]
        },
        {
          "name": "stdout",
          "output_type": "stream",
          "text": [
            "Moviepy - Done !\n",
            "Moviepy - video ready /content/video/rl-video-episode-96.mp4\n"
          ]
        },
        {
          "name": "stderr",
          "output_type": "stream",
          "text": [
            "\r"
          ]
        },
        {
          "name": "stdout",
          "output_type": "stream",
          "text": [
            "Moviepy - Building video /content/video/rl-video-episode-97.mp4.\n",
            "Moviepy - Writing video /content/video/rl-video-episode-97.mp4\n",
            "\n"
          ]
        },
        {
          "name": "stderr",
          "output_type": "stream",
          "text": []
        },
        {
          "name": "stdout",
          "output_type": "stream",
          "text": [
            "Moviepy - Done !\n",
            "Moviepy - video ready /content/video/rl-video-episode-97.mp4\n",
            "Moviepy - Building video /content/video/rl-video-episode-98.mp4.\n",
            "Moviepy - Writing video /content/video/rl-video-episode-98.mp4\n",
            "\n"
          ]
        },
        {
          "name": "stderr",
          "output_type": "stream",
          "text": []
        },
        {
          "name": "stdout",
          "output_type": "stream",
          "text": [
            "Moviepy - Done !\n",
            "Moviepy - video ready /content/video/rl-video-episode-98.mp4\n",
            "Moviepy - Building video /content/video/rl-video-episode-99.mp4.\n",
            "Moviepy - Writing video /content/video/rl-video-episode-99.mp4\n",
            "\n"
          ]
        },
        {
          "name": "stderr",
          "output_type": "stream",
          "text": [
            "                                                  "
          ]
        },
        {
          "name": "stdout",
          "output_type": "stream",
          "text": [
            "Moviepy - Done !\n",
            "Moviepy - video ready /content/video/rl-video-episode-99.mp4\n"
          ]
        },
        {
          "name": "stderr",
          "output_type": "stream",
          "text": [
            "\r"
          ]
        },
        {
          "name": "stdout",
          "output_type": "stream",
          "text": [
            "Moviepy - Building video /content/video/rl-video-episode-1000.mp4.\n",
            "Moviepy - Writing video /content/video/rl-video-episode-1000.mp4\n",
            "\n"
          ]
        },
        {
          "name": "stderr",
          "output_type": "stream",
          "text": [
            "                                                  "
          ]
        },
        {
          "name": "stdout",
          "output_type": "stream",
          "text": [
            "Moviepy - Done !\n",
            "Moviepy - video ready /content/video/rl-video-episode-1000.mp4\n"
          ]
        },
        {
          "name": "stderr",
          "output_type": "stream",
          "text": [
            "\r"
          ]
        },
        {
          "name": "stdout",
          "output_type": "stream",
          "text": [
            "Moviepy - Building video /content/video/rl-video-episode-10000.mp4.\n",
            "Moviepy - Writing video /content/video/rl-video-episode-10000.mp4\n",
            "\n"
          ]
        },
        {
          "name": "stderr",
          "output_type": "stream",
          "text": [
            "                                                  "
          ]
        },
        {
          "name": "stdout",
          "output_type": "stream",
          "text": [
            "Moviepy - Done !\n",
            "Moviepy - video ready /content/video/rl-video-episode-10000.mp4\n"
          ]
        },
        {
          "name": "stderr",
          "output_type": "stream",
          "text": [
            "\r"
          ]
        },
        {
          "name": "stdout",
          "output_type": "stream",
          "text": [
            "Moviepy - Building video /content/video/rl-video-episode-20000.mp4.\n",
            "Moviepy - Writing video /content/video/rl-video-episode-20000.mp4\n",
            "\n"
          ]
        },
        {
          "name": "stderr",
          "output_type": "stream",
          "text": [
            "                                                  "
          ]
        },
        {
          "name": "stdout",
          "output_type": "stream",
          "text": [
            "Moviepy - Done !\n",
            "Moviepy - video ready /content/video/rl-video-episode-20000.mp4\n"
          ]
        },
        {
          "name": "stderr",
          "output_type": "stream",
          "text": [
            "\r"
          ]
        },
        {
          "name": "stdout",
          "output_type": "stream",
          "text": [
            "Moviepy - Building video /content/video/rl-video-episode-30000.mp4.\n",
            "Moviepy - Writing video /content/video/rl-video-episode-30000.mp4\n",
            "\n"
          ]
        },
        {
          "name": "stderr",
          "output_type": "stream",
          "text": [
            "                                                  "
          ]
        },
        {
          "name": "stdout",
          "output_type": "stream",
          "text": [
            "Moviepy - Done !\n",
            "Moviepy - video ready /content/video/rl-video-episode-30000.mp4\n"
          ]
        },
        {
          "name": "stderr",
          "output_type": "stream",
          "text": [
            "\r"
          ]
        },
        {
          "name": "stdout",
          "output_type": "stream",
          "text": [
            "Moviepy - Building video /content/video/rl-video-episode-40000.mp4.\n",
            "Moviepy - Writing video /content/video/rl-video-episode-40000.mp4\n",
            "\n"
          ]
        },
        {
          "name": "stderr",
          "output_type": "stream",
          "text": [
            "                                                  "
          ]
        },
        {
          "name": "stdout",
          "output_type": "stream",
          "text": [
            "Moviepy - Done !\n",
            "Moviepy - video ready /content/video/rl-video-episode-40000.mp4\n"
          ]
        },
        {
          "name": "stderr",
          "output_type": "stream",
          "text": [
            "\r"
          ]
        },
        {
          "name": "stdout",
          "output_type": "stream",
          "text": [
            "Moviepy - Building video /content/video/rl-video-episode-50000.mp4.\n",
            "Moviepy - Writing video /content/video/rl-video-episode-50000.mp4\n",
            "\n"
          ]
        },
        {
          "name": "stderr",
          "output_type": "stream",
          "text": [
            "                                                  "
          ]
        },
        {
          "name": "stdout",
          "output_type": "stream",
          "text": [
            "Moviepy - Done !\n",
            "Moviepy - video ready /content/video/rl-video-episode-50000.mp4\n"
          ]
        },
        {
          "name": "stderr",
          "output_type": "stream",
          "text": [
            "\r"
          ]
        },
        {
          "name": "stdout",
          "output_type": "stream",
          "text": [
            "Moviepy - Building video /content/video/rl-video-episode-60000.mp4.\n",
            "Moviepy - Writing video /content/video/rl-video-episode-60000.mp4\n",
            "\n"
          ]
        },
        {
          "name": "stderr",
          "output_type": "stream",
          "text": [
            "                                                  "
          ]
        },
        {
          "name": "stdout",
          "output_type": "stream",
          "text": [
            "Moviepy - Done !\n",
            "Moviepy - video ready /content/video/rl-video-episode-60000.mp4\n"
          ]
        },
        {
          "name": "stderr",
          "output_type": "stream",
          "text": [
            "\r"
          ]
        },
        {
          "name": "stdout",
          "output_type": "stream",
          "text": [
            "Moviepy - Building video /content/video/rl-video-episode-70000.mp4.\n",
            "Moviepy - Writing video /content/video/rl-video-episode-70000.mp4\n",
            "\n"
          ]
        },
        {
          "name": "stderr",
          "output_type": "stream",
          "text": [
            "                                                  "
          ]
        },
        {
          "name": "stdout",
          "output_type": "stream",
          "text": [
            "Moviepy - Done !\n",
            "Moviepy - video ready /content/video/rl-video-episode-70000.mp4\n"
          ]
        },
        {
          "name": "stderr",
          "output_type": "stream",
          "text": [
            "\r"
          ]
        },
        {
          "name": "stdout",
          "output_type": "stream",
          "text": [
            "Moviepy - Building video /content/video/rl-video-episode-80000.mp4.\n",
            "Moviepy - Writing video /content/video/rl-video-episode-80000.mp4\n",
            "\n"
          ]
        },
        {
          "name": "stderr",
          "output_type": "stream",
          "text": [
            "                                                  "
          ]
        },
        {
          "name": "stdout",
          "output_type": "stream",
          "text": [
            "Moviepy - Done !\n",
            "Moviepy - video ready /content/video/rl-video-episode-80000.mp4\n"
          ]
        },
        {
          "name": "stderr",
          "output_type": "stream",
          "text": [
            "\r"
          ]
        },
        {
          "name": "stdout",
          "output_type": "stream",
          "text": [
            "Moviepy - Building video /content/video/rl-video-episode-90000.mp4.\n",
            "Moviepy - Writing video /content/video/rl-video-episode-90000.mp4\n",
            "\n"
          ]
        },
        {
          "name": "stderr",
          "output_type": "stream",
          "text": [
            "                                                  "
          ]
        },
        {
          "name": "stdout",
          "output_type": "stream",
          "text": [
            "Moviepy - Done !\n",
            "Moviepy - video ready /content/video/rl-video-episode-90000.mp4\n"
          ]
        },
        {
          "name": "stderr",
          "output_type": "stream",
          "text": [
            "\r"
          ]
        }
      ],
      "source": [
        "\n",
        "for i in range(episodes):\n",
        "  observation  = env.reset()[0] #  observation in beginning\n",
        "  episode = []\n",
        "\n",
        "  while True:\n",
        "     (sum,deal,ace) = observation\n",
        "     [action] = choices(action_space, weights = pi[sum][deal][ace], k = 1)\n",
        "\n",
        "     observation, reward, terminated, truncated, info  = env.step(action) # take the action\n",
        "     episode.append([observation ,action, reward]) # store the episode information to use later\n",
        "\n",
        "     if terminated or truncated:\n",
        "      break\n",
        "\n",
        "  G = 0\n",
        "  episode_length = len(episode)\n",
        "\n",
        "  for x in range(episode_length - 1, -1, -1):\n",
        "\n",
        "    [(sum,deal,ace),action, reward] = episode[x]   # [state, action, reward]\n",
        "\n",
        "    G = G*gamma + reward                 # Returns we have got\n",
        "    num = count[sum][deal][ace][action]  # Number of times, this (state,action) pair has been achieved\n",
        "    val = Q[sum][deal][ace][action]      # Q value\n",
        "\n",
        "    # update\n",
        "    Q[sum][deal][ace][action] = (val* num + G)/(num+1)  # Finding average uisng\n",
        "    count[sum][deal][ace][action]+=1\n",
        "\n",
        "\n",
        "    # policy update\n",
        "    a = np.argmax(Q[sum][deal][ace])   # select the action which has highest Q-value at this state\n",
        "\n",
        "    for action in [0,1]: # also change the probabilites\n",
        "      if action == a:\n",
        "        pi[sum][deal][ace][action] = 1 - epsilon + epsilon/num_actions\n",
        "      else:\n",
        "        pi[sum][deal][ace][action] = epsilon/num_actions\n",
        "\n"
      ]
    },
    {
      "cell_type": "markdown",
      "metadata": {
        "id": "ZUECknoyLeai"
      },
      "source": [
        "# Visualizing the Learning"
      ]
    },
    {
      "cell_type": "code",
      "execution_count": null,
      "metadata": {
        "colab": {
          "base_uri": "https://localhost:8080/",
          "height": 420
        },
        "id": "NL8VybJLLjy7",
        "outputId": "572bc62a-465e-4cd7-ead0-7346cc6c035a"
      },
      "outputs": [
        {
          "data": {
            "text/html": [
              "<video alt=\"test\" autoplay\n",
              "                loop controls style=\"height: 400px;\">\n",
              "                <source src=\"data:video/mp4;base64,AAAAIGZ0eXBpc29tAAACAGlzb21pc28yYXZjMW1wNDEAAAAIZnJlZQAAQKRtZGF0AAACrQYF//+p3EXpvebZSLeWLNgg2SPu73gyNjQgLSBjb3JlIDE1OSByMjk5MSAxNzcxYjU1IC0gSC4yNjQvTVBFRy00IEFWQyBjb2RlYyAtIENvcHlsZWZ0IDIwMDMtMjAxOSAtIGh0dHA6Ly93d3cudmlkZW9sYW4ub3JnL3gyNjQuaHRtbCAtIG9wdGlvbnM6IGNhYmFjPTEgcmVmPTMgZGVibG9jaz0xOjA6MCBhbmFseXNlPTB4MzoweDExMyBtZT1oZXggc3VibWU9NyBwc3k9MSBwc3lfcmQ9MS4wMDowLjAwIG1peGVkX3JlZj0xIG1lX3JhbmdlPTE2IGNocm9tYV9tZT0xIHRyZWxsaXM9MSA4eDhkY3Q9MSBjcW09MCBkZWFkem9uZT0yMSwxMSBmYXN0X3Bza2lwPTEgY2hyb21hX3FwX29mZnNldD0tMiB0aHJlYWRzPTMgbG9va2FoZWFkX3RocmVhZHM9MSBzbGljZWRfdGhyZWFkcz0wIG5yPTAgZGVjaW1hdGU9MSBpbnRlcmxhY2VkPTAgYmx1cmF5X2NvbXBhdD0wIGNvbnN0cmFpbmVkX2ludHJhPTAgYmZyYW1lcz0zIGJfcHlyYW1pZD0yIGJfYWRhcHQ9MSBiX2JpYXM9MCBkaXJlY3Q9MSB3ZWlnaHRiPTEgb3Blbl9nb3A9MCB3ZWlnaHRwPTIga2V5aW50PTI1MCBrZXlpbnRfbWluPTQgc2NlbmVjdXQ9NDAgaW50cmFfcmVmcmVzaD0wIHJjX2xvb2thaGVhZD00MCByYz1jcmYgbWJ0cmVlPTEgY3JmPTIzLjAgcWNvbXA9MC42MCBxcG1pbj0wIHFwbWF4PTY5IHFwc3RlcD00IGlwX3JhdGlvPTEuNDAgYXE9MToxLjAwAIAAADo5ZYiEABL//ujJ/Msr993TqehfMu1pxzCPR0w6vUco+Q2jEXlEQwAAAwAAAwAAAwEEHH8Z8FDQAiwJ7fugAmRbOVAmvLa7oyUKQUDIO5W2CGgoMsh4xLAAu3Bj6Cfvps7F9VvdiP7R72iY7zVL4ZqIpTGWsolhRn4ka34Axg7qNxh5We1e2cycBIaoM7ynJm+TC28euuc9EfsEhgHK/eWVjy6L7wK7xV6vxKXSocrv27OVc7rUXgFvGCcHTXrJ3fNhmpwrXFmVd4Tq5LYhFyhfhjzjuMJFDKd/idcdKZZKC1+N2Mi5AvSmaKW8+NXJ7kaJmiufJNOb5Ddd9lwKPn1phh+JqNHY6RE3hfN0tW+4fcAoiKIeMXwzv1Qf5IETyanwjRJcTC1BsEyJw06OkpJaHIIulXJo1nKQ92g/arcUS7ZRUja68S8rB1VatiEfYGwGPauuVJzEG+c+mDqk1N3KIZSPDGrNOW9vB4eHraM+EJK6DPPHkTo1LihGdsAbdwrT34rkMuSQ0DTF6YitHHa3DyHgfdbl7JoI+BM8+guB5KKqcvl3Lul0ZckzmiOXJYkY2t6Pk7qG2h+xGtZZ+zCjbof8Ssj0OreVyAAA0GEDUWI/FwxKZYZFSRd2QI7AumedEVxlVxoYbXIDfzzpr7LxjlXfMTy+CK7Ir+3fziLMK4Zl/zxe8n1gkNT7vQG77UeziD9/8qZ1EH/2fcIf4Q1g69QTLY+MseFY7NcjzcxkJOqQRvOVSjvqdV63A06bB3+GpGsyLEic8/T3sNNFlL9kIY082qIPtpVdP29z+IkJrupjFe3uI8lkJxfrsVPXzLLInFHfMCvssqHg6T5RPd6nBECnsTQ3AczgtW9hXWQOMXftyqeGeAD9WWNGH6YGEwZ3XJLv+zEanGUNq05LcWelyZpdnmfqZgnMBHulGUZ3FneMkaE5+Y4P5M8Iq7DsRCOG2U+DNOxyfANO/LERppPdDJueQpobakt66hDSSWEo07NkS0zzy2aoAH5/0+DOa3LB46vhMQqqB1GvMyBspQclATwhesOTFCdgEMSvjWwvZB7CoGjvRoblcE0k/09OIYH+Th2aevxhy+7gPvQEZGpwmOJsBisfnmi+L/DaMPbWI5KHFC75YjCf3LI53MoR56zpWFE/StvPu/TMkgzx1wUwIKrOb27Gcxm8tl2MDGyZmNCq7rYMAZP31viL0RP3ueh1SOKtZN1X8J7A3li8xKdLIuhKS6+2mpYEcTd4+H6PhlQ/ecMJPv5gZfw9NNbLIiyBCXFgLtd0DbDCSiAYe3TggrrtNsuIRP0R3JFYXuwspoMhe2R0I4ebmfk22zPZgsDnZ+9dpbRolsf+jjfARjU/QN2ycyEP24m3F9/Kh40yYM++T7glqy/yPE4L+TZNo8FNEqeQokepRGCpnb3wBNFpaG4bXnl2rLU/3aLXp2sOwo41TZL1M2v3wq3nsK/tiPjtH7FtQOk3dtyltUkz5VjQZCyaPOZlF9BpFkEWul396MeSJ+ya07uxs2GAmaFZDu6/QUV8qYypwdlEx0hoegLDjN3jQeTKzBceDDzalT8K+WG0G/HSRuAq2aoTaDy76Ek8Uc4uEwLqAdMOQUE8JbfgON/B6Jphy1vHVomP4+KF1sXyfaz1uG9Q03XjOtv3Kg2NqeeTRZJgrwAACOFBQZpTdjNhBqFKx2sYriozs13ySblYErjbVFi+YMKa4AbX0xrh1Jfq3/r7eYRvbtXvmo+3Cm/lrjDOL8KMJtBmXm6FdQ8+K5x45hySQ1lvN3TS9gKYAqwduzU4Mp/tD5vGEwR2zo35+4zexyJfMhFO6dpMtDMPZtm3fs8vuVQ+Kd5/FkmEIWLT4I15sJymkiDu/5IrQWYrOKfcD2e/xGXtBsIGoHS5RHwX04dTw+F33UOwca17ELBJK6sQ2wZKH/ulmhzuACXf2JvYueJ2AK5+v2cywA0BL9/QJK5lf+i4uCbXQ/YbTSV1m61/82/iQV/qKAMzBA3P8+ysOKFbZ5+jdZrEssAPG7uy7aPhFhqtyfX4nTUlOYznwYcepPv4QoWri9C2NTwVUzaqNlZwPxVysJFid04zTnKL8qamAf2id70vdRamLXQAN4Bch77dNboMsQeTATVDXtqwUTXNDuWKDCfhy1oswvZzFhHWDXAruA1uvOTXzTDlVHGUP+T3H/mjv+cnr33feeeH7lKWRY/YBTQ2GqAJ2aqijWxv4Xpc6+RlZAzHBTYwM5BPNizLRMTrYwCtztARBt8f/GU6NUYApCQRUZ9i6/KSjecoru0MAn2TJ8qBMIouyvZxVpcND+dn3+w1gFeDi/BtE2ZCdMae8Eq/r9Wr5/SBtpDS8Dq+BZl/BjECajQTd6DrxZ+TudIqMxR08bDBi+BWGyoQgTndK9ISsMX830tGR7Wl55SdNht8dk4vUC/bZqepA329kyT1+dXMx7cY1c+hWmrwv1SXutRw+xjJeUU9SaMtNP4gnbFPVqihsIlVNaZ1EPWKBpd5PF6AFTyx7IuOuzhnaMfOJZGDIGB/eJXalLvoSiJuF0jJ3ubi3cAf19ITUIiMIHhAOLjm8D/+8w5l4oM86CvTdYGQt+169C2yaPtSgV2ReLzE7IHcL+noFs5DOplqcfzhschuAlth+IMB/oAy+WAfn0GAi/4iHFQHy1/t1xQUxm2r8nA41naChENVXTLXnPFc+nLQbKoDMUYLGD8hZygG0mhrOPMiKa9yT4RQKz6KJ/I59uno/SISfN5FztY3JpzfNp+Boh1+gyo7CvCZ7fMridusZ96hChRXX0HJ38voV5WhreuIwV5uP35JOAA+tJCPZZaEn//4+SApmCm1XQj/nf5VYq6haeXlrZ2hcmhHu4ztmUqakbDg3tYZCyTU1a3pqFIjdYOoT/oCcrV/WygDzrJZEjj9VpDQz7G1EGdYVhOkB4BlmYSXiH3sNI0INtc8kHk9dYLAMU73ioMTaUfoRawTZup7W3L958xYA3bsWYo6Y8aTmJotk6vXxCGyZBMVEv605kp+FnRDAGTIPdtWFRfFMKzfXOUGakevm4la/yZ5gv6/CS+GjAlIeVbBavLxdBTw2kPYP2RWZ20dtL6XF0fbU6UTUlntRz5pPnuoZYupt8LVq667pEdXhm9ebiP5g+dUHjbqZWKu+ieb6AhQX8Orj7tx7l4cHp7lwQO7VmMdq0F5sRdHwawZd6pYSOZYdM0WygpUjLVBbaaUA73ILa9E9rUnPHq3anwx6z0GBLg+v37/Wjl1vElWcZgGc4JFfAvZgw2xUtH8Wv6pw2NaOAZaK1WnH5dLJEFXqVM8i2McM9qbATUGAsttSF1al72aLW8hJ0cBoctbpHEX2SK7xZLtXOtj1bB2o+BZ4upNyfMf2+A87flxFFnss/kTnSqr0qRqx3Gf5u9GDBKwL+kC6JBkrVjD19WfYHXVteK+DA3fZKCvXyL4ejDjXh9JRmOy8UFyGUUGWHFEdGAOJgdFBC9NWllLUQdewJT1pKGqY5Dqk5Z7oVXPK3HAeDWF9+peTUW8/IcZf/LdrONUjTjnEfgHFGwQ3m1I2yd+VDBazlx9GUhXY/vyTY3CE5vUZdMzCwkaC6zfgXQ7vfganKT3jfr0tAEBk1SXaZ7FoTXTOhdqiVOR5jcBaIQYlzU9MjI7BfaGGSbHObmLWZ1DR67M3JmvF6K8VnsuVJWx0ZLWCavbLrBMW95DpwiduasiNSsaagqyrDzIBavAj/sAxnxlrMJawOZUDtomhkKXdYIcWhIqLNW8+xoNnlh8ce0bMRVcEN27ThsTXt3EI5hn4E+L9QX5k0t8d0nBT9Pw8U3F+MDTuWrnzyBaoSieuoK6wrbNyZ0IDnrutnATX7JIyGETEDcP0JtWm4hSsclkqowsba3YDPjjc0Sfh7p2Lx7+BM8rBVNCOSBPmPjQPTh2NTP3f6t4gZ/itjFRUvPWoHB/JRKDOpRk8EkAVp+vKtnGRNZCIREB/icUnCJmQwJX4F/cWAEvEW9Xmj5SBFd9Ez4v/l93JcMMSV4MQI2wpk+5TDwojGe390TvN+nhtKOLgrJrbWripaK4XZ161j5r85Rfo+6CR3jCq1xkni4Me5eHQA5D5TViIZXFfgzayb0OuhUXQATHwjVBdZpsy3Zablph1N3fmW+wB9QvKCh8/599PCbfrGKFeJOxEaC6oa15t7tDgP9959bok9qmaT5F7vFPs0344n+4tEKmrespv+f+GxElGZi06R/XXjuUXGJyTP8KlSNaLFCXbpugSWBG2xOGnMG/5+QRyB3vPyXoxfvs+TbTmBOMO8tFXahY0IX6jQZzrfAQ0BDqej5lD6yec/iUfdjFC66yEHW/eYfIfleNme5ENwPPnPu66jEqs/flP25zzgTeh9dzydsJ1KLzWhf5exY5pHWbzxF6kedVMXRtIFWaWbmeguRVcotMJyTDjfcrMZLDViwWucdi15fC7wF2VWUvK93dEtogZpp0sDN9ogkQVqmACCBSSb16pJqvhWCo/HRnuhj7o61NBPGviEyXaBLwTmtyEB0O3uLSH70SJ2i/lRcqBb2OjkG2TZBW85VL5MjAR5U3LGPrF4a6HtSafiZCC1PLauWcp0R0/rDzxFu9PPKYPgmqm+x/vcWzydBuCWwsF6sKOEqWGw24Ac4VllIg+9TG6bS27eHkQmQlVO4RGbYgk6fcoZowL9QAnnqFPGyKLEW4fmLpq118NRamTvrEr9uo3QUelF5Yt/ZcOWzBDAqJgg/vN57vvJumDCAv2DFx1v95KWYIle6pGrdD8oiEELSfOZZna6xg3WrJ97c7yjnwRgJ/cFZkOsOaVAf2Y9u5zD6+EzGU2FM4FxlPj2ced6Z+ayJF9hZ9iRRap+BrLFyWI2jDW5/8+nGI8/9KkcNguP3ZmCodDnHfrtkeewv/l0OFNGFFDvMFt3sbxAtxGy+p/ShCXUw1AfXSU6CMJfzMtUt4B+VU7OH2RmUvudooPiTMENgqDuvE8Vl3qJ23GAmQUOxtdpPbKUZ4pudufFGNwHoFjlnc8T47UXK0/7X7NIA8ho5hBJvTokBvK+8Zjuz+YoQlkKMTQAtWGXJX65q3ufK0nP3iBwWVQHofS5iUsg3SCrSRioynH0upt98XrQ8Y4duEuEyp/qp8hotnaugfRI9wgybVxXVE1mF0Upa/3P0MRghReeGlSBqbzijBPzgLmclnldx+jbzTPJ8Twn+J6diQaJaHjRvJqoWflZTH8Bo4RUrEZs7o6Dw2ErP14mpEYSOGatTEDk58z39RA6gFif4TkANgHRvUpMPr3TT1wlUrfqwSoBYlEKX87IV6HtrZuNcvlvDwfeHbLFkOsS/LzW8b6aBleVQrCRyOA42qOEnqUjBvOeypjJJ5pQmUwefmdxaE7PuxXCbC1G0xwZ3yXYrXxBqDt8LROpytyX+rg/SKV3KIGdQ7h2R5UyauVloe9gw6D0g87907vHdfjpu/f/7nkPqDIsm5YDFDSX8mys4BwxmMqtWqOvxQNUJrX57Hp7f6519hv6Uyzdndoygz89fWtjHiPngpy9opdb4AD3k8R642724SB9th6492okn6BIPssDPihETfXdtVVqWGxMhEz6JC9rrQ97NLqDTmXHPN06Pzh9RQQU7adC5pd/l5TNCDtgX+94NikZXkJ3Fybd9MSCH2bpFCVSMEsLu59hjMQBb8qKAA/UjXxXy4LyaeoZDUJrdTX5Y0rdKU6cX7s/wARJXilVCjNacvXVexcD1PUpMqVFYjIeqamceDAV9qkDxm329KWfB1KXvYwCljr1/1fZcDx95+NgugMZ1+Nj09pr8qdmGQd0u+OQnNFp1iaEagKw6WyDJA8cpg/d5FH2XbcHySbaQZmnYNsL+g089yGGTVENZOD8ZUcWtcxJ+oxNv7xTWtcKpNMvq3CNeQwNHkqzJrgQgNmTJoHYLFn8Xk2y+0f66H7HsiF6iR5PnFBY4daq3c+L5CClADZwD6br9YhCLwzlAmQn75PEapT+k2iQh9W2zhQsDmtbDSfx90rAAAAwI0PIK7BmnbcNGla/rTEewWqC1EJTnuKrympmlOvm9JnAKqkwDXF2grARgTaIip1CrbOQ46Dfp2MkjVOIGgkWcVBTxs2r26QrEC5LpTaQrKcSE9Qzz3UTs5dcFRJ3bBrPdeHvwzYiU0HVireS7QHKc89Afi6yVP+Um6XkIT8/IZk0EXOvAGeTb5SeB2mSuoSVs6tuMP1bMaysWtmd+tCgsFWOZSE4VYVllIpuvOzB89jvxB25pqK/QJ9IqYz0YbjrnRE3846hM7TG8Tnf2vwKh3O3HgB8G9ujJttZHUOXbxYD38Ib9yaxpjhrREEzHsZgU3R1vsrpYKqNPdboei0v2/oxsC+aID1a+202yQQTOVUfm1ILZq8TP3MKEMjMqDjd9OrhW9Qewg9JeX1lkqyJK4ir1K+9hgMIHeb9UsZw6CitividFToYXCr+Wi71A+jkLMXtDV7F67ye/Kmr+r7FC41VeVTepYTsnbLDKX6Xl5XbeyB4PUTRzt+888BKAbUSiU5HVtIa71iV/h+VxJ3NBWk9BkNq+TCRGFhbUzdwVRpzmv1npIBlsevp6XqnFD8ZxwzXVSC7pLNz62wiGlfbIauXlhe9Kg+6EOEz6sKjYoXTghhJlcM8xjpQm4MS0saaTnBbDnY+Q1g3bZif5MN25rh4QpMWBWKxTsR5fDEfh/6/vv7cmmkB7ayyzvdd+yJrsjRr3peHxCUunE468y8yufJ9Y4k82lnaoWA+c37a9SUKFjW4A/1yaPGMVca8eSeotaSD0yI8B/YykY7wMYZeYYgHwQ6p3rPnUYDqjyjKEXGKH5p/H6N0KpolewaoPkFkaqx9/K6Fxi/4xKrq2hHBwbpQu+ejklwnt0s/7UbJZxQO2TaWukZ468RRiuswoavXp7q0e60FGCvP8qZw+1E6pm9+OpI0YAmSXmwEQiyF2RK2YJx5l9wm6a8s8BShnRLWnlCsFIA1eaxH3iNdzg0dQGg2ybxqjZxUCpwdcUi3X15NWlIHgvxw0Lm/+kgGoB5V3rZMk7Ig69LfWjYih5uzk3DDUW0hQYz0aGQ1ZfzpJTbu4v01s41WmgtSkmTUmG0AVK5ellxKe/pwcnFvfbH1XapGRZwDOtDPP5nQ0NkHpOu8ebIBqLLvLHBdQRap8armWEC7RFln6BUHP2NV14fWDARFHz5yzcfMYFOOf2nNHzSyDX1Y0vdmzVQi80JtsTmkFedYojlR6qWSoH9jDQgBJhd+Kzqq/1BFgk5s7S9/C/OweEsdoGSb2yVSJmy2SD2Ucl/8mwrjjoZUFQKX4XnlXI5/cf5iNU1ztvco1fScnnAde6I6KfbXJ87zj64LCRrYcpG3moQoj3x3oeF3zvG3ZGxBcdyGo/LTn8kEh3ZyQmvB7fnroedzdxB0p7J0FtZ70Oj3HK1Tzfqmxkxeeg+BynPLktpdPDfnq3m7tpvqr0unmkd4oEWKMdT237/iB6/8TP7WXY62/+kl10AEdonUjVcoJXSwqRK1byjweWd4Z53cDmJP+NF5EkFlUWwQ+0MjGFDb1ciVv0YMBiKVphhWt2s5+63UH7AAAGMgnA70H2WvXKumJLtzgk5BBJU54vGsszKgw+81NZmeuhCBGoN7ngIh7Ra5lxsG1Ellc/soV/QMuBeD8F7+frF2sD+S2UwwNIsBWjy8wpYisPaHDNTbNRMUDjcfjlT7w1bDa10YPkHC43ZutU0oXYqEKExlBYXqU80muF4se1PPpOfa05Bz7E3+NPDmO1mxM1FlUCvzkLx1YCu0yTEW1nak54l6uEeFDIfMGzG2c3X8S1C3Qvxx/pBesDCp9qsVHfyZFyzoI+nn8cWG73PlEp5Eex7LhmTlUd9hkEuQWuAPSw2kZPUoHs0CbWfQ8w66R5ayDpVzvA8W0O7G4Gf3qHaPXMzp2AOTLka/G+hwZRLuDcAVmuPTs8pzU4mTeA0Gzmt7DWauuoxrQu+rt2JTsuPn6Ea7sctsqFQK/ETJFiv8mtcEapfYLDxjynAX2okYhpy5FMMwzkHFOgxxOuUUQEdmxe6lhSPMSV0N1rMSXV48220AmqB1cHVmwPpQXqcVY9rzM98aJF3F2BYN0RazauevUhiWNLMLjz9s7CMV0ViC/8o/tCcRu+3gfpm//X/y1CQZihxL344zzwySGieSwEZss78vaRgJs2z+Kfv86uYOec4uam3jnSrvFrOl4rgv6efgwY/bPfYu0RVnWhPVI5z32awB7BbxjukBABQnFFFppf/QlYsb2p8c7oQ3moBblf3TG4nhIoC/yBG7YAVxvC7UFodhRz+T+l2B8TgmEe6dz4HMLhNe6swhyhJWmBAOA7v9OHlO/7MujBLImM4Ii8g58+xOZFfAnxhuEDbm1V4zfYXRo3EmqOzLCe6kmWvt+DUlQIHV1cc7BQPBGuPnr+SFbZfwzm28WlL56zDzf7KvQid1CitVQgYdWGthOUWQ9EEwxkkabzUhrQZULxIfYK22i3C7Op5ngTTUpl8mOmketgNaPjzaOVvC8cYyVnnGCXI/NVOdGxVU9u3yERVh9IbFR4IbW9StnkNwPw0SnjJzplLfhiTt+92Txa+a95cX+Kin/MMv/+M0Qo4pmsJ52fIpQHVfiBZjqVUnwpiqEBgxr4wYlhMnKy8j544g5HYuEBk6PH3GrO5qvU86MYiegsmTCqY9Oc77CD8h7wMkYY6jR6vqwCWPDxaMEfL1T6dm6uBkfRslg2w8GZSBV9zplol+TE9cp2TBMbhFEEctCo3GX/RXeNIRBep3PQx7n8dz79TPsQWDeRGn5OKxUiYHFTm/i2j/2AP09Q2PhK33HoVTc68hTPNKBCAV+7d43mCgrQwXZ64fzvAt1wDmQ1G8xibZN7rSlCLMyfDCeOkwZKGGqTzaQFbTdNIC7fnhilsD5ILDaCYDjPMygi+wjH5KKUqIsvGt4TSOVZKhLCFgnw/yOeJKDDtmYRex2jzwTHjuAwxXBag++13jPl6YHVBgy88Vw8aQBZAGnNKKYUCi41fO9JIlAYExJykB0//kDAbawY907vznTbYOooxnuXgZXbI2ZyVFHTL9uUK/9cp0f+r9v5d5SDiWxeX8V6YVNlroPr0jQZ9ozGOQYGIsv7/U6bVIQNxQKxDpasqrZpbpAr1o3XXNwzdsCGUe65NW23tUkdt77++kggvVNDhBtAbdtR3ARyJWuuxaLzsRIr+t6KcZR31ONBxLSh9d1+H3y62ZxNFLchpeNEYAVBkjWqnnx6rxaT/vxPxRmuZdDlys9cXRXUTIcpEiDu103Oq7AIusUQwPkpaBcs9YTpP3ho1zARABLTs+886F9nAE7KVicw7hfiF0Oek8uxAHHrIVNT1IVUyZ2jJUik//6AhzQFqATCp2H0jVo+tV/m37seXYAzWmpHkcKRtslo+vQNdcpybDu5EY/vqmJVwhFdnIzpYrCujirEo3QLHO8R42t/ZfB9G/hOm9F/1FY71mrWiVCQrMloT8OAVCManAHK6k1c6aR5JJgKBJrABRpDWweelUU8aWGOdzlXmmq4mTx576yMKi1Vn3AybqyhL5p9GyfTuDWlW080TP0jTQXvwyv5IEkMBwBx8ga6p5XVGlRdeQK979hxHTgD/KnnoS3XaRDn1mP94u63XHR0FOkP0iC9bpeYPGgP5Z4HU26eTdo9O84CEUiWzMBllVdiYfjPfbd2cCzfRyfNSklcSHe/l5My0m+tJwbWmkV+8ZOhaUx4/wKitgmahAosUh0OR/5rG61Mzh0ZYDRsPvy2sENo29/bb8kuoZdix4vOWE+fmab05uhgaKYjF3RzbPKIdwKKw8x/8A5xO8ksNu3xDuMrZa8Zs9otMlWF+PY6nIcQPyc1MhcvBgyxHngJvlw/99dnmNw3EELbroUZkRluh5atLnzjOha/5kJafj0JSMNlkCY2vDzTqvSDNcetbu2lLPfXPNL0HdS72l8RaHDkdb/fdHvNCLwLr43Bn1EfZWCkdV5mm8PnzKGVIGt5dDfrJAmYgxpv1YhLfKmkXFHxz5mjk6IlvzVKDu07L3O66yp84P655ul4iSAYpIoH1ndIVRVRBSF48c26bCjQ22aV42UQQOUR7ghMBoejZbgmtOBBjYGMGjscIaXU1zHz1HTxfyweBD+mNVRh63a1XKbmEuOAbSoywRhL3HMl6nLzCDyw9pwCbfbLyoywkwLSt4tdJ9YHeM2p+jMKKvXKpKLYfKLViqtf3blBrfoecoqlnUOORND1dygEfcgQx2Gha3YPs9m0JD4dbJlAxF2q+THATMcahiod9y8hRSlAWkpjcy121oY5AXblwBDN7kGCZhBA18G/g3ZeobT5UOVXLoDBhqNcrLKFeWDC+kMy/ic2fCrZKAwpFn3ziLoY2Si3LxJgcAStWYG/wP5SlncSRwc8NRnqzHy6fnHR59mbBHKMFCYq3EULKy3j4EuRpR7kRTujYZqBF1urSvDTJK2XrBEOn6wnbOmkV/6aK7O3Xct+4SglqHmyFYHqWy7k8HFo8lK/wyZIscBhOQQhlg8qTohoIMyvnwLS2pNMa1cPsVoxmJB/JnYbCV5MhboDUkzaZ1f8bisiVKGPrCxb4uKKv/UDTNcYLKaSo5F3udVqwiGJ/+Mlwqs/FlAN4DtlnlbmBPbuCoXwCdKqOPhTSSuo2tH7IRe66LGM31VrnI6Ve4tOSG2QB+NiWozhRex4Un4leDB6ke9sYpx7pPj4dU3o4o87iSNcuj7ENChgjxXcdiYfAbckWc5W5Cmju2ByErqOmECMsJZ9H/LbVsBPYWIZq5jPhWciXD0sHGqhuLkoaEYdzwB61fN9QyyGrAwAk3XGk+3GFujPVmN/j1cpMUgKAZZ1N0pCyioEWYFZbM9NZxqGODluI8YLPrzb/BZS4hlBDLZlt1TEnCidVndOUW5rUgFHHFvtIZcTzY3uiofJ6MnqSWoAHPGB6OmsxguU6XxB9OOCNVMkJOuIBRaowfdgiozP+55jMkbkgvq42IRXYmdT8bEbJco11ZHIdXQMJxafW5dm7mDagYuhWqNJ0592VFOCI88hRnGUCqvrZJ1ub24em/hs250A0zOIq6WVvwY1W0q7bxERFsSQvseuM8VxtUqErvZhdoZ4p06IpWOy/zkCz41DR+RxYf7MAk8EW3smlmZrpNN1kL5ZnqU3mrp55/wsQgxL2eICiY9cPq/f6LmeqQuH8ZMMIz3FPaMc6F5jPCFjL/e+mGAl/2CK+0TK7iQDYpfw9RAjDpuKaeJ8X3Ddh2Vtovot91p37mSyReEzfjQyFOq79TIyN10Syay58THkaiduHLuiZ33uxehUQEtiPgIRaUyxoXJKzoBaiWhlqlve8BxclOLPPjOGdI6VlYmt4lv6qpOgGCs53+iKpBV5Z1SXAQTc9gdTOCkJd+lJqx0oMYibzfreesgXfa1fWrvdqm6jFSyH+gfdnpejSzKiwwvOaK9ZVUIOGFGuRyoFOqeZCxv5shUDV9bemcQ+hjDvzlSylpm3izDjXLwE3GgcE9BrVkTz0U7aj+99ScJHnbZHZG/SVU0OgsXuyAPnBbm3enHuzcL2Db4SoQF+qg7Xgn6jZMPNxetcFUqkLv2U8Fq99lAFiU2C9nzbaYitosKPAme0b5yqTqLN5U1RtzuvJWdskFd/WAcXblVtLUzP+rCLnOzCJH6vSu+Tbs0yyYP54oPhnQHiG5iVHWNR1bS+Xjo/oSg+ykfGrKsTC9Sp80Be4+UZTsd4bNHD5RUio/dNqRhAb4goMMvgtVGH2WlRrfTTn/tHeo4AMNOFgxoDajdMFLdY0M8VT+mJI0Yw0Ig4bk8Mz6XNisuFwERhCdW8MBuajT+Qm0wNiIMfS2CtFGa3LgeS33aALaabO0XB6RrOIqcrDNrlIeDcPikD/5UxyquBI/Kbs/DarGCzusPN9V5DLnzEBMXPTaDMHcmNitqNKj9a4/4ZgEQE9CUpf3k/QptHrPSrcNBdBFvnALtX/Dq5hAA8b1rrPWYxQ9zzLnyGaROF5xZi0d9Nr6Gl17d8w7KDiWYk3Kf6E/RylpNmBG/kag6eIKipkZa7zA72hie3qifrBhOyHhDBU2O9+X/mrHlptodQQgnhK6IpwjFqanhHJl5PFIwAbdk2QSfPaRewbcKUHFkjLrV9FujsueHU/LvIHh6NfDNUUd19031EAYFxTm+3HF4hmCNVSYoa9swzcAh9yZHInX1N7UJdEdj4Wyb5oFSs4UmGiH9pbkjrnu/+zOm7Y1aYV8qp0ORmN9zkmJVENiJG6nk7RPUTZacT+Ul4LVdc+LNEoStDagvtvvlqWgAC7tsnzGmQZeBsshld0TP7pRkOMnLB1WkCB8EqKfRtFGXBHZ8QnYonMyNK0b4kwAi/IjiS+8BOlXDntrcEuJDIsOydQ7FsPDT53jRr9ruN8rK7oG0SwRhH6//F7luEQKUROWQBLGrI23z3hB/UuBhZEjgpgdDfqpAWGWQzffH15Xg4WuOzYAjcIrNaE9cwSMcCGf62GQDcJkVA4IDPdT9FHuguWHF/TwqWobML7jVmGijpU89fagjdC2tqCrRFtsPhjRQLlmq7L2sv4JFePPq8vyp4LFYFWcEqxpcJCW2dhrDlTbTMArKYnHoSLPvFjtD9tzr5YmRcsxN9NyJ4p4WD66UK/HtdSEXL5k+QBu44qWa8e3AgRxAobTRaz/c9q3dPq29zd1rWYll0gKs/5hk20nMY3sZj7XY7Zy+yCIFzrASjOMqG62k/eYLgS9uoW874RkfkN4/33nA8Fs3Ui/rRCQPqEUvqKLHFaKnp80j49MIhIi7Y2IgQ58J6vt2/0PTGtmthyjiV2pCLzbYPdLPTFqTXElLJ4LdzXS+gAxXJG7VJjc7nhIDwF0vYpLOQV0M+/qtVpG2ahDcMgmYjhkhERzaGy93jfxhTA8YsqPYRPLllalBgRFlrwIJ1IAhBmz4XTwQ1x7OoUorZD4DD3DlCxetSfj3h1SQxytkOgoE/ax4nToZG8K1o+rsR0IT2dBtDK3A4r6RV6o30/2BHtZn9qvh6Rg6/JERP9Ax7Bo14xQ8QqYU+Fxmdy2SS05LGmdf22DODTEKxTnJdyT0fPycSDqxI2kSTm/Kbvq5LEdZDD8knZj7Ucms50+M3Ob4Fvz/n8/4hCRUFmzhFvVCuns0y7Jv4mWg8E3hmUXTaW7lnB9GcmWG7ZPdEt8oUxf8oSr+WeYCc1V4yt4JKB9bL6g3DfxNhuxIi5/NwpRK9nM1fv+RtLOC5lTDeP6HGQ6cCJ3K35tDcw38A+g/9Fy1LcdbJZVCZ5i0SpVhUa/+60eN5/onys2BVVoJdKfN002YydtSNyr/B7Vk5iI+NEGQk7OOtxxLbaZffCwfFHfFpD/BVDDd1WKqcCTKWIml9DxUpF5/wfOO7tKR3qlio/vP/eX+WxhM4otc13QQQzWL1wEU4FHDV9SpcPw4ZLozPg4n18iqiGAXHhCV8X9fmliRqhMFzEHQUnHybGJo/xKgGeBb4OPHhrgPR+AYCnBbpdb9lt6cwbdFglH7y7B5zagrSL9tb5CeZSTsWh9K8DaDkrbnv7e3Ud8mp/kJbuD7PupHVbAJ3bbsYVka/HZ/NiemsKYDI9hbV3Zq6X6jkgDEYChaDTX9xBKfcWsPhHcui71wMouAb4/nfeWY3wPYzWsQ6mikAkJC+f9uOlzmmDik9ADdCSgp5FepiHANVhNf9m9+JJmrdlYj3vYEKJpxxrUG0dKvC6p1HQmCMFuIaaF5oTmIh8FI+aYIdwbWTUAn1AomLSmPRb0pWqwbOTPV20MGFFTHXWnml1o8SOFnAc368pXpkRHiBVLWWSZ/95SHugPW3nH4uLrl6w9TmLO5ujmEE7SCPBLMr5bOr1s0IaNqAk5JqkCz53EzQH4lMSQGEhiTaC3H+1P2alF+fcOi/DqCMQb1gf9CV2eyBp81THuYY/mNRKVjDEFH1CZImY/qFTedLc7QC3N0Xf+9SNLrBEukvN0wfQWOudsxgsqGQ7jjCl2f14zXL2CIxmpAVT3xyvhnRBiXL5QQtXTppDbu7G9D0rG9Am6PZKGz2TMD5xdocMaPlswuxKOd9rTxWz5WZeotcK8bCbrB+y/X1ewbv/7oiuKRidXy8YTZytEVYYXAK+cCi5xbz4N8eLjFiPlh5RliuQAcVNoP4qqtu0Hd2W8wYVyEd8dmn82+eCdDYAMx6GS4z8Ms+JLvCSkxvWRnNGATK+v8/gH89Cks+6W+vpWMOXa5VxFqhEqFD+zyzXkMKQig309i2/zC6SRHyIKYaoym/rBF2Gy+x+MORQn5l53P8JNfN/zU2LYIyxslrlnDWAlvnGsYn/pljs0BXAltQAnHdLDwzG4euyu/IN8kqr1HPwkcOrz/Fhifsx65wq7bvkzJY4T+nLFh5IUjHRGVaP75WoeVGAkxwKtp/lWRFIRCQC+H304X6YmvLWqQ1wdiBzDZSOIZDY4UI/cN1op5kbufEHXQPdgGlY+V2rjQMQsL/xmpbkvXAq2qClq6ONuho/FlTx5xXKDNjGS+F9Y3cmkdxLRClsJV+DX2EvO3+81kF8hnP8xBOAevziYaC/lL8gcATt4PMJ03esbTvTa371/4HjjYTbtZPe8aVOQGlDv1ABwH4jxibm01Ql4Vsr+Fg0pZTU3VR53KzJ3vQ66yEPGhbfycyHGd/xPW6rNEJAEXdG3ao8BuZTDcVrUb9qnEHURK0hxlpC5ELHrqHGqc3ox4dviF4P7cJR4BLY2hbEhNtzajGBxgjxpqh6jflqYAKihXIuNMmBRx5n1XGnyayWrk470PFawvTL+ytMCjbf4UjA8Ri1qMOdiSnUlNYwMpbL3/Vl73CzFu5oZpBPd/fQpzFO1s1871XxpRXVbJbhOQdbTc9+2FzVVmN+L3GAD1I4CzktA4Y6CKmmTteye2doZP+ggFWP0FA/EM8W5rfbLbd/5ktK8sMRL99grQ+ptRsMMTEFEX9S7fSF0djfhICjKnOyZOFhKnFyKbvW2pZ1Y/Z4AaC3NRTRBHLlQ8sg5uDpZcNOsRAGvooHujk1Mw4iCi2O0ctJozC55we4zF+1lfI9PpsbC4jUMtobETOukN4aenFSmECl+NW6ozHv0O77OPHdDBB5bz03uxVR7nTBEve47ghoH1o71lL947vXAcrNBKYQm13rddwCMQSzBniBpQru9fOyq4uglJ+EMk1O/bpV4whndctifXJTck1kT9H1E9u35bDC200DRbhUiE9Yvbj18KfhZRABWDYFXdbn2S8Z+WXCytC8bFqYE6j0g1Fps9fpO6PIpME91JsWdg2XTF3jlIf2F83L2y+X01m+TeZJ2wJuSF4N9q937y6TwLUD0mPJyNoN0ZT86zm1m+Vy1mUYg+W6BrKJtvRByph+WTBMyi5ftiXWe65m7+EObSrdikI54MgIiNEhXEArhfttt+pfyB6Mll+P9TnNWVHo0M+yBnLaZxThubRi6rN59pY4W3dY0ok9euMKHRl2DgFB6kEWfxMgdd160ElvaWjGzCf5oejj0W1sfi8i0Yy6E+M1xCkXsXPyi76omJ63f93LNpZjG9GIUcvU7ojTUc2k7mMYWV3HcJnWIAqHPDW0+lGznO2DT4qsP7LVLOqdLl33Lm99zRkVlFeu5Ul6bJxOnBukn7ZTbupj9ydAg1QI83s+y6qwMZDgIKipVilOUjr9ItyHhm9Cv9wVz0Uggp6VimeH29fI0RfQYJYuWC3Ai27S1nB54HL26NRI/h1xTwEKIGz3Zpzf15d91BsOYyUTN/bKqwCcy/zoZCIT+oBEbOYD0YFj26iT10hEk1nrIgPQdWatlgf5hY4Hn/0RVgi9ijZ3YE0xpDO5Tq9ZiT6F3OiNL+DLWGj0+aVejXPvHCqD15Qzlo4kX47XGSAaiLidc1UrP6FCiMMm0qeaEWtqwHdvWwo/KdMONlPpTlfZdkQvFEwsfT8Ft8NuF6+v2crxYuDK7MqNqbCfOXtS2Lnr1yJB37Rr6oOiAbgQTKbN+bDCIm54IwCfsMgAIK2hAYlQP2vawsUAiRQTAHxGe6eUc+x/4z5752pCR/xIQxNvwmEmh2Z5UzxZftglSgglSxRoukwSFr4mUeeE/NRQnOIPDBWADw6T3X8mxeYWMxsN46weVFq9jov897S+7IEfDQu9ysKJAPqKB6mlnGeX2012Af9ywRd+Sxju+d0xbXpoadFR2l6V6c2X/pUlhT4nZh0qoen6mAbcNdRdFP1iIJp09pfVouLpH1+sfNQ0VaDyJCIpOMNEusjA4sQ5RY/jjaQUFxB7atZaoXJsxoFUuR1HVYsToEHA8RNPmAaXHJYup60qCrKbWshpF0BFyfWga8C1rX45lYcWeVjasUFXhQBDLVrUfPNSHbMzmN+u4UNAKJ/wHNJ0z85JtScQ5MrK2hZNrGAQTywHSrBb4U67koz602qooNO3Fb/lr4ehERgtDx5kC7R5SCKg24G2jdfcFskT9uwsLRthm3op4/wiyUb5t0dxzzHzgP2GRziutMMYr4w4DgV6lGB+3qNM3L2SBTvSjbBdCSzwOH78W8cvtoqjX4gpnekcFPkwtb08SDFY3UQklDH5jjLQCHsoWnCivAtk3xTrxMaanmNL/Re5p9Re94QpH5eAeMMRQh0hPrgEZZYAEi6kVBZqqdi2KN1I5CMREkhl9QvSfHaZn1xxv6cXDQN05THKyvkHHyDFudvjwo3jFfBg2+Y9ajqlhq2huLzWEpyvyyoVQBPRxoxH4MrQFx8t3XIoj9PYYN/Vl2rH8yBi3tcLUZuUMTcGS7WlFlVIHqoHaTQeQKNiaRBosA/rA03f7SY2oLlHF0jMWfJlj2c1k/aJfo1ALM5RcThDGEktxp5OQorPqhgy6X8FwxppgRcs0fHpy5dljoCjrlJDwfsB3grOtFzuP+WK32+jshN/2eJfAVXJeFMxZI56ALe4Tn5tObbAhxfYupW9RpUJv3bqbS8WUUqtymLA3/cs/9L3QwxhpIiQiHNCyig1DtObG1WvhdfrQqsP5gpX06Vf25dyq3yEUvAd2CKiCTT5Nk7L9FfZxC+9C8FCgZIglGssxM4S+QFx6+5aR7BRKB5ao0r13x74So5ko6Tl/GKwKviKoS2tTD6HQIOrcq+SHSn2VmzyZBk3Uq/ojq0CK6AQsUU7qrXDKRXJ7DYXnqVEBl/R9SfxSpT+/2IBdBnyP6GVhLjqBqH1F9giw9S9yLYnvwXlimxiBOiW80eeBIZVSi/iBARSxZXXHXtxbFQ6nZYpAKc3ChKtsy2yj/NZQsVeeQAYKnmE7g57sjk29nyMmxNWO8dOtTy7LmLC0ziyQzNRo/0RGf/MmFnM+jWavslkHKdV2CoVvZ6Fz0Orwgd57/E8/VFiyHWNg/0Zpl6mrq+SuC2rTa0ln+idxP9Ma3rQ/Dmp9qbNcpz+cfs3GhOpuAwiNdOpLRjN+sMpNskLJC2jPFF0ifA8foxN7nSInxSoyHsVEVzTK7PuCCXLbjbZw9LgzuWZANUfBkmyloVN11e6UDaEUUi4kcFUCE0EqXbSHQ0XdHGh4Ut6RYEp+wKFTJ8HswtulNa7iNL2Ne7O+c5Oytwitz2F21B/9USxQSfY8Uvlq8e6RTjZJ1IvYD3eWCGcGjDB3SlqGnFpTGsoq8VUIkVM6Jf3nyAI1P+B5BmY060B69+7YwuehKAk0Pdl6Z2BqF1wiKewa8068XsALJyH+ifSXX4yiDZvyDt17KB5BL5myAD8ZT7nd28Q6pKJVv3KCRAK0hNfN1/HlquVbH/BsZLtgvXk7jp/XGVxzsq6BbaXz6MmnLbJpw5CtioD2PQfKEEFpwt/2OwZOQLBNtDkSWcEozPY+1BNOGOvGqH1BF8jE8XOPo4gDCwFA7T5yHWk6vfLwCkBvdXFfjv/ylR1WqDMFNid4vjP8bqYvGbgqmG06FN/rZS+FID/NrsvaVJZjESXiZQLCV0UMw+ATNFdU06GBZV93wOcvnemb67vfe0J2Pbn+apsU1KMrPAAqS+ToI/0rd41n9wjw/0RnGtsQobA42TyjnxEUBGUnBBgvU9UhL5d038+2VuzBMxYejf6YH6FZifW5II5zyztFPGp3GpdqkVRfIMI8Zk4jAkIqXls449JAOQnwICwT6E8K203B+1RQcq6eOuEz+3aWhyST+6lrFP4lEP/rxMAo/5m6g/TehqpTRqqFdPHtcbtutzRsW/vw47LYkkzvizGa7InYYr4S7BrOO8Sf+RNIZ8penCsi5hewG/EJviIQ2LCVKF+s7YLzVK6WeiD2aV1u9LG7VDuUEkMNCgpSNstfN1xRZkwPZ48ZjFUvmWs6Jd88/e91OHoiEoVYDxsgkc87XselSMlurfB5z29O1+W0Ixmul4j4lCbTkgA4by6ncMl3U3bCKlW5sV6v61BcJR4OOR+xyC7Lgqr/D8tQQ3+bnKuLyRikO2er46p35Jjg7jImY32ArupkEUDYj3uYyZgY8Nj+Us+EP732zwnr/+HCetJg7qrLtXNCThW3qHeUGHJG589qK85l+227BGzjZuGR2QpL4jHsf+p2t9ehvpRf9hSphxpQoGKgxDLHThBllNHUIkjW6peuO5ocepmfvtB2fsXSfTUlrkCEa4zQb8Q1hBo+aAEvf5Cw2AiJEcZZ//LpDXt4wphf6LPWLXJME69dIfSTXy0zp9YlpTklPIuZTKwe1TwUW4Ss4y47eX3S12nDKJb/Thw9OAV8tgwO48z7sjDGQADHTKBY+WHl51ysEtcdelqhEF1i3amWYCFQn642/B4ZBiSPYcbLFoaPm+FvAEBGrFEtimBWFGxbOLP8fLMVmdwi/uwQMcxDiC5Ec7yibxp3ZDZzB7gKX2w3N53aGdwfO87TyfqrUEZqDewdirdCjjIrN4wVSZT5nabznDg9+m4J8RZOmUaY7BOXDHMOGfv9jNOX62mt4C/x22lfEbenDX6HL68pCzm5yWQjgk/l0Hu2Q/BUU01XmRwyVusBoLXZEjCEJGBQvua8g93hg6CTQdZjZfCiL3/v46vSqV2+4sd9eo3eTGbhQinP25IrLpsWIVRTZRPM0NJelLx+VC9Rs5zm3RxkmwH2GSTgNtoPjAYWsvQD/r2q9+lQapTr2vyaDipV9/seOKfOizJzaE2UIqhSuDrOyJ3kFmbjQrn4Ztdfpl+T9FxjzAlDkUhNn1CCipM2h0PdofQAGHn6c4DXrKD5QVzXXQWMpATJ/vUmLRyuyHCc96q+EJNZGAkc5h1qzHHqUHArEuPTQCJHGAp9fNRg+8mwBT1C5TIx/Mhyy5EF2+huoIHWdOc/Tuu5ejD6aR9eiv8TspamhUtP9bioC4ofcJcdvrQWpd19gEUoaGp7G2XwuSur7EGmMUPoN1TB4qn1uIAPmvOSLGM2gGkUIU6inOJQYQvCY6bhf8BzvEtt+2zBf9f3PoaTrE52gyWeNn3HAQMDoHXzs2/OHQS2lQkSn4zpRoI0IjHzL97C6gOKJ2te7nm/l5sV0/zaHi/GEssr3sVwbuH3kp1BnaryEZrTdHPB6ha+ZGslI+co8rylQ0iAV8kqLw/jpdiO4WP/6X3xof+PL1ISijhYN5tpyhFrI9R2yz3aTakRjJOFJpVrZbBLvyzkgPzIemvpmqt/LduHac/0v0QuELsUPlhaTlDNYfI/KQM6X9BX65wv5Wu6MGAlCvnbwqBcERSJLh9d+doA/nL0LLDay7+QqyPKW30fUAB435mLlT8JJU8Lhlq1j1yBJP2KJD6sS1pLD5uEdjIKk0GWIKt2axJih/fDptTV9mDnSPTRHt34AiHAAAAwAAAwAAAwAfcQAAAtVBmiNsQQ/+qlUAATH5DlWi2ZgAtzMod5XunjP968N4ScW66YuQoHN8d76vXhj5UO5WfbBVYapBsji3X93+HIRU/k1K9gZCwkFg3poG7k6ntj32Q7oNmQyz9wtRyA4z1FyVLwqsAsek/4Ms5HkowpQ+5fdB6BBH+ZyMW4MuKqpJdXraCrB6Dpj4ZlC4dDgXotWljwbvH0xVqI979MR52qWbXTd0RGbMmBrwpAGwSjKZrMmhsNwCBVndvCtu99xuULmmmOLwZoDyUEbjVQAWdq5Y9K+kFBG7kktMnkEIi2ygNYFrkC86Oc14FY+i5SHY6PNBRiVIOJk1Gsq9XGEeZC2a3pHICTSZlqM5FrKwguJmW2ltVqegKh1K0WC34nI/t3oeQHcWHseG3vu4KeEj1HO6cfHP+8Dq5V4juF7IyrE4vVBvT6Z9BUOEa0qqfoh+5xXvxjxdxCKsHsOQvXyKsxOwJZ8po0pjBzAVsS8Fe666sKgm+Vox5Qt0dua7A9IdLs1II7UfZ5xWhoqa6pgMdQDLKMdfvQcsde6nkITtrRe5AAgPpH6g+DWrc3jdQ1+1KcyeBlCs3mveIq3AOCJQS/PzT2tjCsTKQDYMU6mQRTYcrJEFLCPyyv2owRz7KpGw1kwrl0vs+ecFuSbcR0ggMn3iVIxw0Kq34uLOj2+zcoYYcbMw1TzjMyuvWC6VlQuy0PxZf3V4PMojclCE3d8O+uB4Ud5UEhb+VyAfl/Q3Ha2kc6jfqzRDcoy5q/BumWFtqyt4LQx6htJNZNL2h0z6o5hiE3gNUQEP9Fm34Ll3ir0HE6oSdY67QBtv6VF6aYThvfBSNmX1DcYEJgiU6YTf9MfmXJMtghxpdv0jPrpDyPij+Y/x2DBMV5cSxPtCy8QcSlvl233B/iXO4s+3NlAzbiH2GOXtNX2uXMhVfcFf+cBArzHtk7e8g1M7fbxLWdrxQl0t3CABTQAAAG1BnkF4gj8AAGRa3/AtQbVsUSMhT/ylO/UGuFo3gASEIc4DLJ+ul5h/iidIQcRgAcbq6ThIIJs/cupnZmnlu6FuD7I7xyabLsP7uTTK9t+MbXoey1Ysn5gauFIX8W05940QOqBoyO9w/npLzAg5AAAAYAGeYmpBDwAAAwAHav7q1FTLTfcc3hjA0ituKGigA/Wv7PKw2m00+ykryOJIxFUgFQjmcwqEfP2I4PmLe+MBZ2k5y8Ra2kOwNJzV/Svkjb8o3yD6HEq5myoDJqONtdL8wAAAAzxtb292AAAAbG12aGQAAAAAAAAAAAAAAAAAAAPoAAAD6AABAAABAAAAAAAAAAAAAAAAAQAAAAAAAAAAAAAAAAAAAAEAAAAAAAAAAAAAAAAAAEAAAAAAAAAAAAAAAAAAAAAAAAAAAAAAAAAAAAAAAAACAAACZnRyYWsAAABcdGtoZAAAAAMAAAAAAAAAAAAAAAEAAAAAAAAD6AAAAAAAAAAAAAAAAAAAAAAAAQAAAAAAAAAAAAAAAAAAAAEAAAAAAAAAAAAAAAAAAEAAAAACWAAAAfQAAAAAACRlZHRzAAAAHGVsc3QAAAAAAAAAAQAAA+gAACAAAAEAAAAAAd5tZGlhAAAAIG1kaGQAAAAAAAAAAAAAAAAAAEAAAABAAFXEAAAAAAAtaGRscgAAAAAAAAAAdmlkZQAAAAAAAAAAAAAAAFZpZGVvSGFuZGxlcgAAAAGJbWluZgAAABR2bWhkAAAAAQAAAAAAAAAAAAAAJGRpbmYAAAAcZHJlZgAAAAAAAAABAAAADHVybCAAAAABAAABSXN0YmwAAACZc3RzZAAAAAAAAAABAAAAiWF2YzEAAAAAAAAAAQAAAAAAAAAAAAAAAAAAAAACWAH0AEgAAABIAAAAAAAAAAEAAAAAAAAAAAAAAAAAAAAAAAAAAAAAAAAAAAAAAAAAAAAY//8AAAAzYXZjQwFkABb/4QAaZ2QAFqzZQJgQeWeEAAADAAQAAAMAIDxYtlgBAAZo6+PLIsAAAAAYc3R0cwAAAAAAAAABAAAABAAAEAAAAAAUc3RzcwAAAAAAAAABAAAAAQAAAChjdHRzAAAAAAAAAAMAAAABAAAgAAAAAAEAAEAAAAAAAgAAEAAAAAAcc3RzYwAAAAAAAAABAAAAAQAAAAQAAAABAAAAJHN0c3oAAAAAAAAAAAAAAAQAADzuAAAC2QAAAHEAAABkAAAAFHN0Y28AAAAAAAAAAQAAADAAAABidWR0YQAAAFptZXRhAAAAAAAAACFoZGxyAAAAAAAAAABtZGlyYXBwbAAAAAAAAAAAAAAAAC1pbHN0AAAAJal0b28AAAAdZGF0YQAAAAEAAAAATGF2ZjU4LjI5LjEwMA==\" type=\"video/mp4\" />\n",
              "             </video>"
            ],
            "text/plain": [
              "<IPython.core.display.HTML object>"
            ]
          },
          "metadata": {},
          "output_type": "display_data"
        }
      ],
      "source": [
        "show_video(70000) #episode number"
      ]
    },
    {
      "cell_type": "markdown",
      "metadata": {
        "id": "7ZPU40wrfL-1"
      },
      "source": [
        "# Testing the Policy"
      ]
    },
    {
      "cell_type": "code",
      "execution_count": null,
      "metadata": {
        "colab": {
          "base_uri": "https://localhost:8080/"
        },
        "id": "WHccLGTA5ket",
        "outputId": "61ebd6f2-7b11-450c-bd9b-6c56e8d15421"
      },
      "outputs": [
        {
          "name": "stdout",
          "output_type": "stream",
          "text": [
            "Games Played: 100000\n",
            "Win Rate: 42.467%\n",
            "Draw Rate: 9.203999999999999%\n",
            "Losing Rate: 48.329%\n"
          ]
        }
      ],
      "source": [
        "games = 100000  #no. of episodes\n",
        "\n",
        "won = 0\n",
        "drawn = 0\n",
        "\n",
        "env = gym.make('Blackjack-v1', render_mode=\"rgb_array\")\n",
        "\n",
        "\n",
        "env.reset()\n",
        "for i in range(games):\n",
        "  (sum, deal,ace) = env.reset()[0]\n",
        "\n",
        "  while True:\n",
        "     action = np.argmax(pi[sum][deal][ace][:]) # in testing, no need of exploration\n",
        "\n",
        "     (sum,deal,ace), reward, terminated, truncated, info = env.step(action)\n",
        "     if terminated or truncated:\n",
        "      break\n",
        "\n",
        "\n",
        "  if reward == 1:\n",
        "    won+=1\n",
        "  elif reward == 0:\n",
        "    drawn+=1\n",
        "\n",
        "lost = games - won - drawn\n",
        "\n",
        "print(f\"Games Played: {games}\")\n",
        "\n",
        "print(f\"Win Rate: {won/games*100}%\")\n",
        "print(f\"Draw Rate: {drawn/games*100}%\")\n",
        "print(f\"Losing Rate: {lost/games*100}%\")\n"
      ]
    }
  ],
  "metadata": {
    "accelerator": "GPU",
    "colab": {
      "gpuType": "T4",
      "provenance": []
    },
    "kernelspec": {
      "display_name": "Python 3",
      "name": "python3"
    },
    "language_info": {
      "name": "python"
    }
  },
  "nbformat": 4,
  "nbformat_minor": 0
}
